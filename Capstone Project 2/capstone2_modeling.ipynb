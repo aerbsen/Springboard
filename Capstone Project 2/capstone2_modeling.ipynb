{
 "cells": [
  {
   "cell_type": "markdown",
   "id": "f1418bc9",
   "metadata": {},
   "source": [
    "# 4 Modeling: Breast Cancer Gene Expressions"
   ]
  },
  {
   "cell_type": "markdown",
   "id": "0cd70d1e",
   "metadata": {},
   "source": [
    "## 4.1 Contents\n",
    "* [4 Modeling](#4_modeling)\n",
    "    * [4.1 Contents](#4.1_contents)\n",
    "    * [4.2 Introduction](#4.2_intro)\n",
    "    * [4.3 Imports](#4.3_imports)\n",
    "    * [4.4 Loading the Data](#4.4_loading)"
   ]
  },
  {
   "cell_type": "markdown",
   "id": "111ddbdd",
   "metadata": {},
   "source": [
    "## 4.2 Introduction"
   ]
  },
  {
   "cell_type": "markdown",
   "id": "1d978cec",
   "metadata": {},
   "source": [
    "## 4.3 Imports"
   ]
  },
  {
   "cell_type": "code",
   "execution_count": 1,
   "id": "1977707e",
   "metadata": {},
   "outputs": [
    {
     "name": "stdout",
     "output_type": "stream",
     "text": [
      "Loaded Libraries\n"
     ]
    }
   ],
   "source": [
    "# data manipulation and math\n",
    "#\n",
    "import numpy as np\n",
    "import scipy as sp\n",
    "import pandas as pd\n",
    "#\n",
    "# plotting and visualization\n",
    "#\n",
    "import matplotlib as mpl\n",
    "import matplotlib.cm as cm\n",
    "from matplotlib.colors import ListedColormap\n",
    "import matplotlib.pyplot as plt\n",
    "#\n",
    "import seaborn as sns\n",
    "#\n",
    "# modeling\n",
    "#\n",
    "from sklearn.decomposition import PCA\n",
    "from sklearn.preprocessing import StandardScaler\n",
    "from sklearn.preprocessing import OneHotEncoder as OHE\n",
    "import sklearn.model_selection\n",
    "from sklearn.model_selection import train_test_split\n",
    "from sklearn.model_selection import KFold\n",
    "from sklearn.model_selection import RepeatedStratifiedKFold\n",
    "from sklearn.linear_model import LogisticRegression\n",
    "from sklearn.metrics import accuracy_score, f1_score\n",
    "from sklearn.metrics import classification_report\n",
    "from sklearn.metrics import confusion_matrix\n",
    "from sklearn.metrics import ConfusionMatrixDisplay\n",
    "from sklearn.metrics import accuracy_score\n",
    "from sklearn.model_selection import GridSearchCV\n",
    "from sklearn.metrics import roc_curve\n",
    "from sklearn.metrics import auc\n",
    "from sklearn.model_selection import cross_val_score\n",
    "from sklearn.metrics import precision_recall_curve\n",
    "#from sklearn.metrics import plot_precision_recall_curve\n",
    "#\n",
    "from sklearn.cluster import KMeans\n",
    "from sklearn.model_selection import RandomizedSearchCV \n",
    "\n",
    "#classifiers\n",
    "from sklearn.ensemble import RandomForestClassifier\n",
    "from xgboost import XGBClassifier\n",
    "from lightgbm import LGBMClassifier\n",
    "\n",
    "from imblearn.over_sampling import SMOTE\n",
    "from imblearn.under_sampling import NearMiss\n",
    "\n",
    "import pickle\n",
    "import time \n",
    "print(\"Loaded Libraries\")"
   ]
  },
  {
   "cell_type": "markdown",
   "id": "a74dd27e",
   "metadata": {},
   "source": [
    "## 4.4 Loading the Data"
   ]
  },
  {
   "cell_type": "code",
   "execution_count": 2,
   "id": "78052b91",
   "metadata": {},
   "outputs": [],
   "source": [
    "# Load the NumPy arrays from the pickle files\n",
    "with open(r'C:\\Users\\leann\\OneDrive\\Desktop\\SPRINGBOARD\\capstone 2\\exports\\X_train_190.pkl', 'rb') as file:\n",
    "    X_train_190 = pickle.load(file)\n",
    "    \n",
    "with open(r'C:\\Users\\leann\\OneDrive\\Desktop\\SPRINGBOARD\\capstone 2\\exports\\X_test_190.pkl', 'rb') as file:\n",
    "    X_test_190 = pickle.load(file)  \n",
    "    \n",
    "with open(r'C:\\Users\\leann\\OneDrive\\Desktop\\SPRINGBOARD\\capstone 2\\exports\\X_train_360.pkl', 'rb') as file:\n",
    "    X_train_360 = pickle.load(file)  \n",
    "    \n",
    "with open(r'C:\\Users\\leann\\OneDrive\\Desktop\\SPRINGBOARD\\capstone 2\\exports\\X_test_360.pkl', 'rb') as file:\n",
    "    X_test_360 = pickle.load(file) \n",
    "    \n",
    "with open(r'C:\\Users\\leann\\OneDrive\\Desktop\\SPRINGBOARD\\capstone 2\\exports\\X_train_full.pkl', 'rb') as file:\n",
    "    X_train_full = pickle.load(file) \n",
    "\n",
    "with open(r'C:\\Users\\leann\\OneDrive\\Desktop\\SPRINGBOARD\\capstone 2\\exports\\X_test_full.pkl', 'rb') as file:\n",
    "    X_test_full = pickle.load(file) \n",
    "    \n",
    "with open(r'C:\\Users\\leann\\OneDrive\\Desktop\\SPRINGBOARD\\capstone 2\\exports\\y_train.pkl', 'rb') as file:\n",
    "    y_train = pickle.load(file) \n",
    "    \n",
    "with open(r'C:\\Users\\leann\\OneDrive\\Desktop\\SPRINGBOARD\\capstone 2\\exports\\y_test.pkl', 'rb') as file:\n",
    "    y_test = pickle.load(file) \n",
    "    \n",
    "# importing using parquet to preserve data types - this is the full dataset used to create the splits above\n",
    "\n",
    "num_data=pd.read_parquet(r'C:\\Users\\leann\\OneDrive\\Desktop\\SPRINGBOARD\\capstone 2\\num_data2.parquet', engine='pyarrow')"
   ]
  },
  {
   "cell_type": "markdown",
   "id": "8c82b452",
   "metadata": {},
   "source": [
    "We have an imbalanced problem here: the class we are interested in (1, the patients who died of disease) are the minority class. As we saw in the EDA section, 33% of our data belongs to class 1.\n",
    "\n",
    "As a solution to this, I am going to do resampling via the Synthetic Minority Over-sampling Technique (SMOTE), which synthesizes new data from within the minority class. It's an oversampling technique that should minimize overfitting. I also am going to try undersamping with NearMiss, and see how it compares. \n"
   ]
  },
  {
   "cell_type": "code",
   "execution_count": 3,
   "id": "5b19a280",
   "metadata": {},
   "outputs": [],
   "source": [
    "# Divide data into X and y\n",
    "\n",
    "X=num_data.drop('outcome', axis=1)\n",
    "y=num_data['outcome']"
   ]
  },
  {
   "cell_type": "markdown",
   "id": "1e21b91a",
   "metadata": {},
   "source": [
    "Do test train split:"
   ]
  },
  {
   "cell_type": "code",
   "execution_count": 4,
   "id": "20af6abd",
   "metadata": {},
   "outputs": [],
   "source": [
    "\n",
    "X_train, X_test, y_train, y_test = train_test_split(X, y, stratify=y, random_state=42)\n"
   ]
  },
  {
   "cell_type": "markdown",
   "id": "3fd8c8af",
   "metadata": {},
   "source": [
    "<b> Oversampling </b>"
   ]
  },
  {
   "cell_type": "code",
   "execution_count": 5,
   "id": "5c4967f4",
   "metadata": {},
   "outputs": [],
   "source": [
    "\n",
    "# Implement SMOTE:\n",
    "\n",
    "sm = SMOTE(random_state=42)\n",
    "X_train_os, y_train_os = sm.fit_resample(X_train, y_train)"
   ]
  },
  {
   "cell_type": "code",
   "execution_count": 6,
   "id": "525c5ea2",
   "metadata": {},
   "outputs": [
    {
     "name": "stdout",
     "output_type": "stream",
     "text": [
      "Outcomes:\n",
      " 1    50.0\n",
      "0    50.0\n",
      "Name: outcome, dtype: float64\n"
     ]
    }
   ],
   "source": [
    "# Confirming that our classes are now balanced\n",
    "\n",
    "SMOTE_survival_counts = pd.Series(y_train_os).value_counts()\n",
    "print('Outcomes:\\n',100*SMOTE_survival_counts/len(y_train_os))"
   ]
  },
  {
   "cell_type": "markdown",
   "id": "ba1655c8",
   "metadata": {},
   "source": [
    "<b> Undersampling </b>"
   ]
  },
  {
   "cell_type": "code",
   "execution_count": 7,
   "id": "8c0b5afc",
   "metadata": {},
   "outputs": [],
   "source": [
    "nm = NearMiss(version=1)\n",
    "X_train_us, y_train_us = nm.fit_resample(X_train, y_train)"
   ]
  },
  {
   "cell_type": "code",
   "execution_count": 8,
   "id": "57921505",
   "metadata": {},
   "outputs": [
    {
     "name": "stdout",
     "output_type": "stream",
     "text": [
      "Outcomes:\n",
      " 0    50.0\n",
      "1    50.0\n",
      "Name: outcome, dtype: float64\n"
     ]
    }
   ],
   "source": [
    "# Confirming that our classes are now balanced\n",
    "\n",
    "undersampling_survival_counts = pd.Series(y_train_us).value_counts()\n",
    "print('Outcomes:\\n',100*undersampling_survival_counts/len(y_train_us))"
   ]
  },
  {
   "cell_type": "markdown",
   "id": "94c23d5b",
   "metadata": {},
   "source": [
    "I want to easily be able to compare all of the results, so I will append them to an empty I'm creating now dataframe, results_df:"
   ]
  },
  {
   "cell_type": "code",
   "execution_count": 9,
   "id": "feec27c9",
   "metadata": {},
   "outputs": [],
   "source": [
    "results_df = pd.DataFrame(columns=['Model', 'Mean CV F1 Score', 'F1 Pos Class Score'] )"
   ]
  },
  {
   "cell_type": "markdown",
   "id": "c1fff497",
   "metadata": {},
   "source": [
    "### Logistic Regression Base Model (no resampling)\n",
    "\n",
    "This is our untuned logistic regression model on the data set with no resampling and no PCA. "
   ]
  },
  {
   "cell_type": "code",
   "execution_count": 10,
   "id": "f5c92a04",
   "metadata": {},
   "outputs": [
    {
     "name": "stdout",
     "output_type": "stream",
     "text": [
      "[0.40837696 0.42391304 0.39130435 0.46601942 0.41489362]\n",
      "Mean CV F1 score for the positive class: 0.42 (+/- 0.05)\n",
      "              precision    recall  f1-score   support\n",
      "\n",
      "           0       0.74      0.70      0.72       320\n",
      "           1       0.45      0.50      0.47       156\n",
      "\n",
      "    accuracy                           0.64       476\n",
      "   macro avg       0.60      0.60      0.60       476\n",
      "weighted avg       0.65      0.64      0.64       476\n",
      "\n"
     ]
    }
   ],
   "source": [
    "lr_model = LogisticRegression(solver = 'newton-cg', max_iter = 500) \n",
    "lr_model.fit(X_train,y_train)\n",
    "y_predict_test = lr_model.predict(X_test)\n",
    "\n",
    "scores = cross_val_score(lr_model, X_train, y_train, cv=5, scoring='f1')\n",
    "print(scores)\n",
    "\n",
    "print(\"Mean CV F1 score for the positive class: %0.2f (+/- %0.2f)\" % (scores.mean(), scores.std() * 2))\n",
    "\n",
    "print(classification_report(y_test, y_predict_test))"
   ]
  },
  {
   "cell_type": "code",
   "execution_count": 11,
   "id": "ff9aa6f9",
   "metadata": {},
   "outputs": [
    {
     "name": "stdout",
     "output_type": "stream",
     "text": [
      "[[225  95]\n",
      " [ 78  78]]\n"
     ]
    }
   ],
   "source": [
    "# confusion matrix\n",
    "cm = confusion_matrix(y_test, y_predict_test)\n",
    "print(cm)"
   ]
  },
  {
   "cell_type": "code",
   "execution_count": 12,
   "id": "bf475901",
   "metadata": {},
   "outputs": [
    {
     "data": {
      "text/html": [
       "<div>\n",
       "<style scoped>\n",
       "    .dataframe tbody tr th:only-of-type {\n",
       "        vertical-align: middle;\n",
       "    }\n",
       "\n",
       "    .dataframe tbody tr th {\n",
       "        vertical-align: top;\n",
       "    }\n",
       "\n",
       "    .dataframe thead th {\n",
       "        text-align: right;\n",
       "    }\n",
       "</style>\n",
       "<table border=\"1\" class=\"dataframe\">\n",
       "  <thead>\n",
       "    <tr style=\"text-align: right;\">\n",
       "      <th></th>\n",
       "      <th>Model</th>\n",
       "      <th>Mean CV F1 Score</th>\n",
       "      <th>F1 Pos Class Score</th>\n",
       "    </tr>\n",
       "  </thead>\n",
       "  <tbody>\n",
       "    <tr>\n",
       "      <th>0</th>\n",
       "      <td>Logistic Regression Base Model</td>\n",
       "      <td>0.42</td>\n",
       "      <td>0.47</td>\n",
       "    </tr>\n",
       "  </tbody>\n",
       "</table>\n",
       "</div>"
      ],
      "text/plain": [
       "                            Model  Mean CV F1 Score  F1 Pos Class Score\n",
       "0  Logistic Regression Base Model              0.42                0.47"
      ]
     },
     "execution_count": 12,
     "metadata": {},
     "output_type": "execute_result"
    }
   ],
   "source": [
    "# Append the results to the DataFrame containing all of the results:\n",
    "new_results = pd.DataFrame([{'Model': 'Logistic Regression Base Model', 'Mean CV F1 Score': round(scores.mean(),2), 'F1 Pos Class Score':0.47}])\n",
    "results_df = pd.concat([results_df, new_results], ignore_index=True)\n",
    "results_df"
   ]
  },
  {
   "cell_type": "markdown",
   "id": "ccfe7610",
   "metadata": {},
   "source": [
    "### Logistic Regression for Oversampled Data"
   ]
  },
  {
   "cell_type": "code",
   "execution_count": 13,
   "id": "bf78696a",
   "metadata": {},
   "outputs": [
    {
     "name": "stdout",
     "output_type": "stream",
     "text": [
      "[0.47435897 0.53211009 0.74879227 0.84513274 0.8590604 ]\n",
      "Mean CV F1 score for the positive class: 0.69 (+/- 0.32)\n",
      "              precision    recall  f1-score   support\n",
      "\n",
      "           0       0.74      0.69      0.72       320\n",
      "           1       0.45      0.51      0.47       156\n",
      "\n",
      "    accuracy                           0.63       476\n",
      "   macro avg       0.59      0.60      0.60       476\n",
      "weighted avg       0.65      0.63      0.64       476\n",
      "\n"
     ]
    }
   ],
   "source": [
    "lr_model_os = LogisticRegression(solver = 'newton-cg', max_iter = 500) \n",
    "lr_model_os.fit(X_train_os, y_train_os)\n",
    "y_predict_test_os = lr_model_os.predict(X_test)\n",
    "\n",
    "scores = cross_val_score(lr_model_os, X_train_os, y_train_os, cv=5, scoring='f1')\n",
    "print(scores)\n",
    "\n",
    "print(\"Mean CV F1 score for the positive class: %0.2f (+/- %0.2f)\" % (scores.mean(), scores.std() * 2))\n",
    "\n",
    "print(classification_report(y_test, y_predict_test_os))\n"
   ]
  },
  {
   "cell_type": "code",
   "execution_count": 14,
   "id": "ca1c0636",
   "metadata": {},
   "outputs": [
    {
     "name": "stdout",
     "output_type": "stream",
     "text": [
      "[[222  98]\n",
      " [ 77  79]]\n"
     ]
    }
   ],
   "source": [
    "# confusion matrix\n",
    "cm = confusion_matrix(y_test, y_predict_test_os)\n",
    "print(cm)"
   ]
  },
  {
   "cell_type": "markdown",
   "id": "cafc3f64",
   "metadata": {},
   "source": [
    "This is almost the same as the base model"
   ]
  },
  {
   "cell_type": "code",
   "execution_count": 15,
   "id": "71e71ca3",
   "metadata": {},
   "outputs": [
    {
     "data": {
      "text/html": [
       "<div>\n",
       "<style scoped>\n",
       "    .dataframe tbody tr th:only-of-type {\n",
       "        vertical-align: middle;\n",
       "    }\n",
       "\n",
       "    .dataframe tbody tr th {\n",
       "        vertical-align: top;\n",
       "    }\n",
       "\n",
       "    .dataframe thead th {\n",
       "        text-align: right;\n",
       "    }\n",
       "</style>\n",
       "<table border=\"1\" class=\"dataframe\">\n",
       "  <thead>\n",
       "    <tr style=\"text-align: right;\">\n",
       "      <th></th>\n",
       "      <th>Model</th>\n",
       "      <th>Mean CV F1 Score</th>\n",
       "      <th>F1 Pos Class Score</th>\n",
       "    </tr>\n",
       "  </thead>\n",
       "  <tbody>\n",
       "    <tr>\n",
       "      <th>0</th>\n",
       "      <td>Logistic Regression Base Model</td>\n",
       "      <td>0.42</td>\n",
       "      <td>0.47</td>\n",
       "    </tr>\n",
       "    <tr>\n",
       "      <th>1</th>\n",
       "      <td>Logistic Regression Oversampled Model</td>\n",
       "      <td>0.69</td>\n",
       "      <td>0.47</td>\n",
       "    </tr>\n",
       "  </tbody>\n",
       "</table>\n",
       "</div>"
      ],
      "text/plain": [
       "                                   Model  Mean CV F1 Score  F1 Pos Class Score\n",
       "0         Logistic Regression Base Model              0.42                0.47\n",
       "1  Logistic Regression Oversampled Model              0.69                0.47"
      ]
     },
     "execution_count": 15,
     "metadata": {},
     "output_type": "execute_result"
    }
   ],
   "source": [
    "# Append the results to the DataFrame containing all of the results:\n",
    "new_results = pd.DataFrame([{'Model': 'Logistic Regression Oversampled Model', 'Mean CV F1 Score': round(scores.mean(),2), 'F1 Pos Class Score':0.47}])\n",
    "results_df = pd.concat([results_df, new_results], ignore_index=True)\n",
    "results_df"
   ]
  },
  {
   "cell_type": "markdown",
   "id": "1af07b71",
   "metadata": {},
   "source": [
    "### Logistic Regression for Undersampled Data"
   ]
  },
  {
   "cell_type": "code",
   "execution_count": 16,
   "id": "9d59f99b",
   "metadata": {},
   "outputs": [
    {
     "name": "stdout",
     "output_type": "stream",
     "text": [
      "[0.75138122 0.69512195 0.73298429 0.7357513  0.70422535]\n",
      "Mean CV F1 score for the positive class: 0.72 (+/- 0.04)\n",
      "              precision    recall  f1-score   support\n",
      "\n",
      "           0       0.80      0.50      0.62       320\n",
      "           1       0.42      0.74      0.53       156\n",
      "\n",
      "    accuracy                           0.58       476\n",
      "   macro avg       0.61      0.62      0.58       476\n",
      "weighted avg       0.67      0.58      0.59       476\n",
      "\n"
     ]
    }
   ],
   "source": [
    "lr_model_us = LogisticRegression(solver = 'newton-cg', max_iter = 500) \n",
    "lr_model_us.fit(X_train_us, y_train_us)\n",
    "y_predict_test_us = lr_model_us.predict(X_test)\n",
    "\n",
    "scores = cross_val_score(lr_model_us, X_train_us, y_train_us, cv=5, scoring='f1')\n",
    "print(scores)\n",
    "\n",
    "print(\"Mean CV F1 score for the positive class: %0.2f (+/- %0.2f)\" % (scores.mean(), scores.std() * 2))\n",
    "\n",
    "print(classification_report(y_test, y_predict_test_us))"
   ]
  },
  {
   "cell_type": "code",
   "execution_count": 17,
   "id": "e3de7bdb",
   "metadata": {},
   "outputs": [
    {
     "name": "stdout",
     "output_type": "stream",
     "text": [
      "[[161 159]\n",
      " [ 41 115]]\n"
     ]
    }
   ],
   "source": [
    "# confusion matrix\n",
    "cm = confusion_matrix(y_test, y_predict_test_us)\n",
    "print(cm)"
   ]
  },
  {
   "cell_type": "markdown",
   "id": "d8a1ea99",
   "metadata": {},
   "source": [
    "The undersampled data set actually performs better at correctly identifying cancer deaths."
   ]
  },
  {
   "cell_type": "code",
   "execution_count": 18,
   "id": "b418d280",
   "metadata": {},
   "outputs": [
    {
     "data": {
      "text/html": [
       "<div>\n",
       "<style scoped>\n",
       "    .dataframe tbody tr th:only-of-type {\n",
       "        vertical-align: middle;\n",
       "    }\n",
       "\n",
       "    .dataframe tbody tr th {\n",
       "        vertical-align: top;\n",
       "    }\n",
       "\n",
       "    .dataframe thead th {\n",
       "        text-align: right;\n",
       "    }\n",
       "</style>\n",
       "<table border=\"1\" class=\"dataframe\">\n",
       "  <thead>\n",
       "    <tr style=\"text-align: right;\">\n",
       "      <th></th>\n",
       "      <th>Model</th>\n",
       "      <th>Mean CV F1 Score</th>\n",
       "      <th>F1 Pos Class Score</th>\n",
       "    </tr>\n",
       "  </thead>\n",
       "  <tbody>\n",
       "    <tr>\n",
       "      <th>0</th>\n",
       "      <td>Logistic Regression Base Model</td>\n",
       "      <td>0.42</td>\n",
       "      <td>0.47</td>\n",
       "    </tr>\n",
       "    <tr>\n",
       "      <th>1</th>\n",
       "      <td>Logistic Regression Oversampled Model</td>\n",
       "      <td>0.69</td>\n",
       "      <td>0.47</td>\n",
       "    </tr>\n",
       "    <tr>\n",
       "      <th>2</th>\n",
       "      <td>Logistic Regression Undersampled Model</td>\n",
       "      <td>0.72</td>\n",
       "      <td>0.53</td>\n",
       "    </tr>\n",
       "  </tbody>\n",
       "</table>\n",
       "</div>"
      ],
      "text/plain": [
       "                                    Model  Mean CV F1 Score  \\\n",
       "0          Logistic Regression Base Model              0.42   \n",
       "1   Logistic Regression Oversampled Model              0.69   \n",
       "2  Logistic Regression Undersampled Model              0.72   \n",
       "\n",
       "   F1 Pos Class Score  \n",
       "0                0.47  \n",
       "1                0.47  \n",
       "2                0.53  "
      ]
     },
     "execution_count": 18,
     "metadata": {},
     "output_type": "execute_result"
    }
   ],
   "source": [
    "# Append the results to the DataFrame containing all of the results:\n",
    "new_results = pd.DataFrame([{'Model': 'Logistic Regression Undersampled Model', 'Mean CV F1 Score': round(scores.mean(),2), 'F1 Pos Class Score':0.53}])\n",
    "results_df = pd.concat([results_df, new_results], ignore_index=True)\n",
    "results_df"
   ]
  },
  {
   "cell_type": "markdown",
   "id": "4c61817f",
   "metadata": {},
   "source": [
    "### Logistic Regression - Hyperparameter Tuning "
   ]
  },
  {
   "cell_type": "code",
   "execution_count": 19,
   "id": "58ff474f",
   "metadata": {},
   "outputs": [],
   "source": [
    "# Define function to come up with cross validation scores: QUESTION - is this necessary or can I just use cross_val_score()?\n",
    "def cv_score(clf, x, y, score_func = f1_score):\n",
    "    result = 0\n",
    "    nfold = 5\n",
    "    x.reset_index(drop = True, inplace = True)\n",
    "    y.index = x.index\n",
    "    for train, test in KFold(nfold, shuffle = True,\n",
    "                             random_state = 42).split(x):\n",
    "        clf.fit(x.loc[train, :], y[train])\n",
    "        result += score_func(clf.predict(x.loc[test, :]), y[test])\n",
    "    return result / nfold"
   ]
  },
  {
   "cell_type": "code",
   "execution_count": 20,
   "id": "01b36465",
   "metadata": {},
   "outputs": [],
   "source": [
    "# Convert X_train_os and y_train to pandas DataFrames\n",
    "X_train_os_df = pd.DataFrame(X_train_os)\n",
    "y_train_os_df = pd.Series(y_train_os)\n",
    "X_test_df = pd.DataFrame(X_test)\n",
    "y_test_df=pd.Series(y_test)\n",
    "\n",
    "# Convert X_train_us to pandas DataFrame\n",
    "X_train_us_df = pd.DataFrame(X_train_us)\n",
    "y_train_us_df = pd.DataFrame(y_train_us)"
   ]
  },
  {
   "cell_type": "code",
   "execution_count": 21,
   "id": "8dbea59a",
   "metadata": {},
   "outputs": [
    {
     "name": "stdout",
     "output_type": "stream",
     "text": [
      "Best hyperparameters for oversampled data: {'C': 0.1, 'penalty': 'l1'}\n",
      "Accuracy score for oversampled data: 0.7247556744079577\n",
      "\n",
      "Best hyperparameters for undersampled data: {'C': 0.001, 'penalty': 'l2'}\n",
      "F1 score for undersampled data: 0.7697456598473039\n"
     ]
    }
   ],
   "source": [
    "# Hyperparameter tuning using grid search\n",
    "\n",
    "params={\n",
    "    'penalty':['l1','l2'],\n",
    "    'C':[0.001, 0.1, 1, 10, 100],\n",
    "    }\n",
    "\n",
    "# instantiate the model\n",
    "logreg = LogisticRegression(solver='liblinear')\n",
    "\n",
    "#  do GridSearchCV\n",
    "grid_search= GridSearchCV(estimator=logreg,param_grid=params,cv=5, scoring='f1', n_jobs=-1)\n",
    "\n",
    "# Oversampled Data\n",
    "grid_search.fit(X_train_os,y_train_os)\n",
    "\n",
    "# print best hyperparameters and F1 score\n",
    "print(\"Best hyperparameters for oversampled data:\", grid_search.best_params_)\n",
    "print(\"Accuracy score for oversampled data:\", grid_search.best_score_)\n",
    "\n",
    "# Undersampled data\n",
    "grid_search.fit(X_train_us,y_train_us)\n",
    "\n",
    "# print best hyperparameters and F1 score\n",
    "print(\"\\nBest hyperparameters for undersampled data:\", grid_search.best_params_)\n",
    "print(\"F1 score for undersampled data:\", grid_search.best_score_)\n",
    "\n"
   ]
  },
  {
   "cell_type": "markdown",
   "id": "bbb998cb",
   "metadata": {},
   "source": [
    "### Logistic Regression with new hyperparameters:"
   ]
  },
  {
   "cell_type": "markdown",
   "id": "88afb7ec",
   "metadata": {},
   "source": [
    "<b> Oversampled Data </b>"
   ]
  },
  {
   "cell_type": "markdown",
   "id": "bd885025",
   "metadata": {},
   "source": [
    "changing solver to 'liblinear' as it supports l1 penalty, and 'saga' got convergence errors with the same result"
   ]
  },
  {
   "cell_type": "code",
   "execution_count": 22,
   "id": "d0f1e2a7",
   "metadata": {},
   "outputs": [
    {
     "name": "stdout",
     "output_type": "stream",
     "text": [
      "[0.53250774 0.59235669 0.76683938 0.86896552 0.86310905]\n",
      "Mean CV F1 score for the positive class: 0.72 (+/- 0.28)\n",
      "              precision    recall  f1-score   support\n",
      "\n",
      "           0       0.74      0.69      0.72       320\n",
      "           1       0.45      0.51      0.47       156\n",
      "\n",
      "    accuracy                           0.63       476\n",
      "   macro avg       0.59      0.60      0.60       476\n",
      "weighted avg       0.65      0.63      0.64       476\n",
      "\n"
     ]
    }
   ],
   "source": [
    "lr_model_os_tuned = LogisticRegression(solver = 'liblinear', max_iter = 500, C=0.1, penalty='l1') \n",
    "lr_model_os_tuned.fit(X_train_os, y_train_os)\n",
    "y_predict_test_tuned_os = lr_model_os.predict(X_test)\n",
    "\n",
    "scores = cross_val_score(lr_model_os_tuned, X_train_os, y_train_os, cv=5, scoring='f1')\n",
    "print(scores)\n",
    "\n",
    "print(\"Mean CV F1 score for the positive class: %0.2f (+/- %0.2f)\" % (scores.mean(), scores.std() * 2))\n",
    "\n",
    "print(classification_report(y_test, y_predict_test_tuned_os))\n"
   ]
  },
  {
   "cell_type": "code",
   "execution_count": 23,
   "id": "270b2409",
   "metadata": {},
   "outputs": [
    {
     "name": "stdout",
     "output_type": "stream",
     "text": [
      "[[222  98]\n",
      " [ 77  79]]\n"
     ]
    }
   ],
   "source": [
    "# confusion matrix\n",
    "cm = confusion_matrix(y_test, y_predict_test_tuned_os)\n",
    "print(cm)"
   ]
  },
  {
   "cell_type": "code",
   "execution_count": 24,
   "id": "f1a6bf94",
   "metadata": {},
   "outputs": [
    {
     "data": {
      "text/html": [
       "<div>\n",
       "<style scoped>\n",
       "    .dataframe tbody tr th:only-of-type {\n",
       "        vertical-align: middle;\n",
       "    }\n",
       "\n",
       "    .dataframe tbody tr th {\n",
       "        vertical-align: top;\n",
       "    }\n",
       "\n",
       "    .dataframe thead th {\n",
       "        text-align: right;\n",
       "    }\n",
       "</style>\n",
       "<table border=\"1\" class=\"dataframe\">\n",
       "  <thead>\n",
       "    <tr style=\"text-align: right;\">\n",
       "      <th></th>\n",
       "      <th>Model</th>\n",
       "      <th>Mean CV F1 Score</th>\n",
       "      <th>F1 Pos Class Score</th>\n",
       "    </tr>\n",
       "  </thead>\n",
       "  <tbody>\n",
       "    <tr>\n",
       "      <th>0</th>\n",
       "      <td>Logistic Regression Base Model</td>\n",
       "      <td>0.42</td>\n",
       "      <td>0.47</td>\n",
       "    </tr>\n",
       "    <tr>\n",
       "      <th>1</th>\n",
       "      <td>Logistic Regression Oversampled Model</td>\n",
       "      <td>0.69</td>\n",
       "      <td>0.47</td>\n",
       "    </tr>\n",
       "    <tr>\n",
       "      <th>2</th>\n",
       "      <td>Logistic Regression Undersampled Model</td>\n",
       "      <td>0.72</td>\n",
       "      <td>0.53</td>\n",
       "    </tr>\n",
       "    <tr>\n",
       "      <th>3</th>\n",
       "      <td>Logistic Regression Oversampled, Tuned</td>\n",
       "      <td>0.72</td>\n",
       "      <td>0.47</td>\n",
       "    </tr>\n",
       "  </tbody>\n",
       "</table>\n",
       "</div>"
      ],
      "text/plain": [
       "                                    Model  Mean CV F1 Score  \\\n",
       "0          Logistic Regression Base Model              0.42   \n",
       "1   Logistic Regression Oversampled Model              0.69   \n",
       "2  Logistic Regression Undersampled Model              0.72   \n",
       "3  Logistic Regression Oversampled, Tuned              0.72   \n",
       "\n",
       "   F1 Pos Class Score  \n",
       "0                0.47  \n",
       "1                0.47  \n",
       "2                0.53  \n",
       "3                0.47  "
      ]
     },
     "execution_count": 24,
     "metadata": {},
     "output_type": "execute_result"
    }
   ],
   "source": [
    "# Append the results to the DataFrame containing all of the results:\n",
    "new_results = pd.DataFrame([{'Model': 'Logistic Regression Oversampled, Tuned', 'Mean CV F1 Score': round(scores.mean(),2), 'F1 Pos Class Score':0.47}])\n",
    "results_df = pd.concat([results_df, new_results], ignore_index=True)\n",
    "results_df"
   ]
  },
  {
   "cell_type": "markdown",
   "id": "8e685008",
   "metadata": {},
   "source": [
    "<b> Oversampled Data </b>"
   ]
  },
  {
   "cell_type": "code",
   "execution_count": 25,
   "id": "943bf2f7",
   "metadata": {},
   "outputs": [
    {
     "name": "stdout",
     "output_type": "stream",
     "text": [
      "[0.8502994  0.71428571 0.77966102 0.75824176 0.7254902 ]\n",
      "Mean CV F1 score for the positive class: 0.77 (+/- 0.10)\n",
      "              precision    recall  f1-score   support\n",
      "\n",
      "           0       0.80      0.50      0.62       320\n",
      "           1       0.42      0.74      0.53       156\n",
      "\n",
      "    accuracy                           0.58       476\n",
      "   macro avg       0.61      0.62      0.58       476\n",
      "weighted avg       0.67      0.58      0.59       476\n",
      "\n"
     ]
    }
   ],
   "source": [
    "lr_model_us_tuned = LogisticRegression(solver = 'newton-cg', max_iter = 500, C=0.001, penalty='l2') \n",
    "lr_model_us_tuned.fit(X_train_us, y_train_us)\n",
    "y_predict_test_tuned_us = lr_model_us.predict(X_test)\n",
    "\n",
    "scores = cross_val_score(lr_model_us_tuned, X_train_us, y_train_us, cv=5, scoring='f1')\n",
    "print(scores)\n",
    "\n",
    "print(\"Mean CV F1 score for the positive class: %0.2f (+/- %0.2f)\" % (scores.mean(), scores.std() * 2))\n",
    "\n",
    "print(classification_report(y_test, y_predict_test_tuned_us))\n"
   ]
  },
  {
   "cell_type": "code",
   "execution_count": 26,
   "id": "65ad95ae",
   "metadata": {},
   "outputs": [
    {
     "name": "stdout",
     "output_type": "stream",
     "text": [
      "[[161 159]\n",
      " [ 41 115]]\n"
     ]
    }
   ],
   "source": [
    "# confusion matrix\n",
    "cm = confusion_matrix(y_test, y_predict_test_tuned_us)\n",
    "print(cm)"
   ]
  },
  {
   "cell_type": "code",
   "execution_count": 27,
   "id": "04ad2097",
   "metadata": {},
   "outputs": [
    {
     "data": {
      "text/html": [
       "<div>\n",
       "<style scoped>\n",
       "    .dataframe tbody tr th:only-of-type {\n",
       "        vertical-align: middle;\n",
       "    }\n",
       "\n",
       "    .dataframe tbody tr th {\n",
       "        vertical-align: top;\n",
       "    }\n",
       "\n",
       "    .dataframe thead th {\n",
       "        text-align: right;\n",
       "    }\n",
       "</style>\n",
       "<table border=\"1\" class=\"dataframe\">\n",
       "  <thead>\n",
       "    <tr style=\"text-align: right;\">\n",
       "      <th></th>\n",
       "      <th>Model</th>\n",
       "      <th>Mean CV F1 Score</th>\n",
       "      <th>F1 Pos Class Score</th>\n",
       "    </tr>\n",
       "  </thead>\n",
       "  <tbody>\n",
       "    <tr>\n",
       "      <th>0</th>\n",
       "      <td>Logistic Regression Base Model</td>\n",
       "      <td>0.42</td>\n",
       "      <td>0.47</td>\n",
       "    </tr>\n",
       "    <tr>\n",
       "      <th>1</th>\n",
       "      <td>Logistic Regression Oversampled Model</td>\n",
       "      <td>0.69</td>\n",
       "      <td>0.47</td>\n",
       "    </tr>\n",
       "    <tr>\n",
       "      <th>2</th>\n",
       "      <td>Logistic Regression Undersampled Model</td>\n",
       "      <td>0.72</td>\n",
       "      <td>0.53</td>\n",
       "    </tr>\n",
       "    <tr>\n",
       "      <th>3</th>\n",
       "      <td>Logistic Regression Oversampled, Tuned</td>\n",
       "      <td>0.72</td>\n",
       "      <td>0.47</td>\n",
       "    </tr>\n",
       "    <tr>\n",
       "      <th>4</th>\n",
       "      <td>Logistic Regression Undersampled, Tuned</td>\n",
       "      <td>0.77</td>\n",
       "      <td>0.53</td>\n",
       "    </tr>\n",
       "  </tbody>\n",
       "</table>\n",
       "</div>"
      ],
      "text/plain": [
       "                                     Model  Mean CV F1 Score  \\\n",
       "0           Logistic Regression Base Model              0.42   \n",
       "1    Logistic Regression Oversampled Model              0.69   \n",
       "2   Logistic Regression Undersampled Model              0.72   \n",
       "3   Logistic Regression Oversampled, Tuned              0.72   \n",
       "4  Logistic Regression Undersampled, Tuned              0.77   \n",
       "\n",
       "   F1 Pos Class Score  \n",
       "0                0.47  \n",
       "1                0.47  \n",
       "2                0.53  \n",
       "3                0.47  \n",
       "4                0.53  "
      ]
     },
     "execution_count": 27,
     "metadata": {},
     "output_type": "execute_result"
    }
   ],
   "source": [
    "# Append the results to the DataFrame containing all of the results:\n",
    "new_results = pd.DataFrame([{'Model': 'Logistic Regression Undersampled, Tuned', 'Mean CV F1 Score': round(scores.mean(),2), 'F1 Pos Class Score':0.53}])\n",
    "results_df = pd.concat([results_df, new_results], ignore_index=True)\n",
    "results_df"
   ]
  },
  {
   "cell_type": "code",
   "execution_count": 28,
   "id": "6051e502",
   "metadata": {},
   "outputs": [
    {
     "data": {
      "image/png": "[encoded data removed]",
      "text/plain": [
       "<Figure size 640x480 with 1 Axes>"
      ]
     },
     "metadata": {},
     "output_type": "display_data"
    }
   ],
   "source": [
    "models = {\n",
    "    'Logistic Regression Oversampled': LogisticRegression(solver = 'liblinear', max_iter = 500, C=0.1, penalty='l1'),\n",
    "    'Logistic Regression Undersampled': LogisticRegression(solver = 'newton-cg', max_iter = 500, C=0.001, penalty='l2'),\n",
    "}\n",
    "\n",
    "training_data = {\n",
    "    'Logistic Regression Oversampled': (X_train_os, y_train_os),\n",
    "    'Logistic Regression Undersampled': (X_train_us, y_train_us),\n",
    "}\n",
    "\n",
    "# Use the same test data for both models\n",
    "testing_data = X_test\n",
    "\n",
    "for name, model in models.items():\n",
    "    X_train_res, y_train_res = training_data[name]\n",
    "    model.fit(X_train_res, y_train_res) # Use the resampled y_train data\n",
    "    y_scores = model.predict_proba(testing_data)[:, 1]\n",
    "    precision, recall, _ = precision_recall_curve(y_test, y_scores)\n",
    "    plt.plot(recall, precision, marker='.', label=name)\n",
    "\n",
    "plt.xlabel('Recall')\n",
    "plt.ylabel('Precision')\n",
    "plt.title('Precision-Recall Curve')\n",
    "plt.legend()\n",
    "plt.show()\n"
   ]
  },
  {
   "cell_type": "markdown",
   "id": "ece73aab",
   "metadata": {},
   "source": [
    "# Random Forest Classifier Model"
   ]
  },
  {
   "cell_type": "markdown",
   "id": "3e2b9fce",
   "metadata": {},
   "source": [
    "<b> Oversampled </b>"
   ]
  },
  {
   "cell_type": "code",
   "execution_count": 29,
   "id": "d1873778",
   "metadata": {},
   "outputs": [
    {
     "name": "stdout",
     "output_type": "stream",
     "text": [
      "[0.67283951 0.69538462 0.82539683 0.89371981 0.88674699]\n",
      "Mean CV F1 score for the positive class: 0.79 (+/- 0.19)\n",
      "Random Forest Model: Test data, Oversampled:\n",
      "               precision    recall  f1-score   support\n",
      "\n",
      "           0       0.72      0.87      0.79       320\n",
      "           1       0.53      0.31      0.40       156\n",
      "\n",
      "    accuracy                           0.68       476\n",
      "   macro avg       0.63      0.59      0.59       476\n",
      "weighted avg       0.66      0.68      0.66       476\n",
      "\n"
     ]
    }
   ],
   "source": [
    "# Create the model\n",
    "rfc_os = RandomForestClassifier(n_estimators=100, random_state=42)\n",
    "\n",
    "# Fit the model\n",
    "rfc_os.fit(X_train_os, y_train_os)\n",
    "\n",
    "# Predict the labels of the test set\n",
    "y_predict_test_os_rf = rfc_os.predict(X_test)\n",
    "\n",
    "\n",
    "scores = cross_val_score(rfc_os, X_train_os, y_train_os, cv=5, scoring='f1')\n",
    "print(scores)\n",
    "\n",
    "print(\"Mean CV F1 score for the positive class: %0.2f (+/- %0.2f)\" % (scores.mean(), scores.std() * 2))\n",
    "\n",
    "\n",
    "# Test classification report, all components: \n",
    "print('Random Forest Model: Test data, Oversampled:\\n',classification_report(y_test,y_predict_test_os_rf))\n"
   ]
  },
  {
   "cell_type": "code",
   "execution_count": 30,
   "id": "51f67ebe",
   "metadata": {},
   "outputs": [
    {
     "name": "stdout",
     "output_type": "stream",
     "text": [
      "[[277  43]\n",
      " [107  49]]\n"
     ]
    }
   ],
   "source": [
    "# confusion matrix\n",
    "cm = confusion_matrix(y_test, y_predict_test_os_rf)\n",
    "print(cm)"
   ]
  },
  {
   "cell_type": "code",
   "execution_count": 31,
   "id": "22239e8d",
   "metadata": {},
   "outputs": [
    {
     "data": {
      "text/html": [
       "<div>\n",
       "<style scoped>\n",
       "    .dataframe tbody tr th:only-of-type {\n",
       "        vertical-align: middle;\n",
       "    }\n",
       "\n",
       "    .dataframe tbody tr th {\n",
       "        vertical-align: top;\n",
       "    }\n",
       "\n",
       "    .dataframe thead th {\n",
       "        text-align: right;\n",
       "    }\n",
       "</style>\n",
       "<table border=\"1\" class=\"dataframe\">\n",
       "  <thead>\n",
       "    <tr style=\"text-align: right;\">\n",
       "      <th></th>\n",
       "      <th>Model</th>\n",
       "      <th>Mean CV F1 Score</th>\n",
       "      <th>F1 Pos Class Score</th>\n",
       "    </tr>\n",
       "  </thead>\n",
       "  <tbody>\n",
       "    <tr>\n",
       "      <th>0</th>\n",
       "      <td>Logistic Regression Base Model</td>\n",
       "      <td>0.42</td>\n",
       "      <td>0.47</td>\n",
       "    </tr>\n",
       "    <tr>\n",
       "      <th>1</th>\n",
       "      <td>Logistic Regression Oversampled Model</td>\n",
       "      <td>0.69</td>\n",
       "      <td>0.47</td>\n",
       "    </tr>\n",
       "    <tr>\n",
       "      <th>2</th>\n",
       "      <td>Logistic Regression Undersampled Model</td>\n",
       "      <td>0.72</td>\n",
       "      <td>0.53</td>\n",
       "    </tr>\n",
       "    <tr>\n",
       "      <th>3</th>\n",
       "      <td>Logistic Regression Oversampled, Tuned</td>\n",
       "      <td>0.72</td>\n",
       "      <td>0.47</td>\n",
       "    </tr>\n",
       "    <tr>\n",
       "      <th>4</th>\n",
       "      <td>Logistic Regression Undersampled, Tuned</td>\n",
       "      <td>0.77</td>\n",
       "      <td>0.53</td>\n",
       "    </tr>\n",
       "    <tr>\n",
       "      <th>5</th>\n",
       "      <td>Random Forest, Oversampled</td>\n",
       "      <td>0.79</td>\n",
       "      <td>0.40</td>\n",
       "    </tr>\n",
       "  </tbody>\n",
       "</table>\n",
       "</div>"
      ],
      "text/plain": [
       "                                     Model  Mean CV F1 Score  \\\n",
       "0           Logistic Regression Base Model              0.42   \n",
       "1    Logistic Regression Oversampled Model              0.69   \n",
       "2   Logistic Regression Undersampled Model              0.72   \n",
       "3   Logistic Regression Oversampled, Tuned              0.72   \n",
       "4  Logistic Regression Undersampled, Tuned              0.77   \n",
       "5               Random Forest, Oversampled              0.79   \n",
       "\n",
       "   F1 Pos Class Score  \n",
       "0                0.47  \n",
       "1                0.47  \n",
       "2                0.53  \n",
       "3                0.47  \n",
       "4                0.53  \n",
       "5                0.40  "
      ]
     },
     "execution_count": 31,
     "metadata": {},
     "output_type": "execute_result"
    }
   ],
   "source": [
    "# Append the results to the DataFrame containing all of the results:\n",
    "new_results = pd.DataFrame([{'Model': 'Random Forest, Oversampled', 'Mean CV F1 Score': round(scores.mean(),2), 'F1 Pos Class Score':0.40}])\n",
    "results_df = pd.concat([results_df, new_results], ignore_index=True)\n",
    "results_df"
   ]
  },
  {
   "cell_type": "markdown",
   "id": "6ffa56fd",
   "metadata": {},
   "source": [
    "<b> Undersampled </b>"
   ]
  },
  {
   "cell_type": "code",
   "execution_count": 32,
   "id": "05737b46",
   "metadata": {},
   "outputs": [
    {
     "name": "stdout",
     "output_type": "stream",
     "text": [
      "[0.83950617 0.72839506 0.75       0.74509804 0.69194313]\n",
      "Mean CV F1 score for the positive class: 0.75 (+/- 0.10)\n",
      "Random Forest Model: Test data, Undersampled:\n",
      "               precision    recall  f1-score   support\n",
      "\n",
      "           0       0.77      0.45      0.57       320\n",
      "           1       0.39      0.72      0.51       156\n",
      "\n",
      "    accuracy                           0.54       476\n",
      "   macro avg       0.58      0.59      0.54       476\n",
      "weighted avg       0.65      0.54      0.55       476\n",
      "\n"
     ]
    }
   ],
   "source": [
    "# Create the model\n",
    "rfc_us = RandomForestClassifier(n_estimators=100, random_state=42)\n",
    "\n",
    "# Fit the model\n",
    "rfc_us.fit(X_train_us, y_train_us)\n",
    "\n",
    "# Predict the labels of the test set\n",
    "y_predict_test_us_rf = rfc_us.predict(X_test)\n",
    "\n",
    "\n",
    "scores = cross_val_score(rfc_us, X_train_us, y_train_us, cv=5, scoring='f1')\n",
    "print(scores)\n",
    "print(\"Mean CV F1 score for the positive class: %0.2f (+/- %0.2f)\" % (scores.mean(), scores.std() * 2))\n",
    "\n",
    "# Test classification report, all components: \n",
    "print('Random Forest Model: Test data, Undersampled:\\n',classification_report(y_test,y_predict_test_us_rf))\n"
   ]
  },
  {
   "cell_type": "code",
   "execution_count": 33,
   "id": "c40bbbd4",
   "metadata": {},
   "outputs": [
    {
     "name": "stdout",
     "output_type": "stream",
     "text": [
      "[[145 175]\n",
      " [ 43 113]]\n"
     ]
    }
   ],
   "source": [
    "# confusion matrix\n",
    "cm = confusion_matrix(y_test, y_predict_test_us_rf)\n",
    "print(cm)"
   ]
  },
  {
   "cell_type": "code",
   "execution_count": 34,
   "id": "b8f3d9e6",
   "metadata": {},
   "outputs": [
    {
     "data": {
      "text/html": [
       "<div>\n",
       "<style scoped>\n",
       "    .dataframe tbody tr th:only-of-type {\n",
       "        vertical-align: middle;\n",
       "    }\n",
       "\n",
       "    .dataframe tbody tr th {\n",
       "        vertical-align: top;\n",
       "    }\n",
       "\n",
       "    .dataframe thead th {\n",
       "        text-align: right;\n",
       "    }\n",
       "</style>\n",
       "<table border=\"1\" class=\"dataframe\">\n",
       "  <thead>\n",
       "    <tr style=\"text-align: right;\">\n",
       "      <th></th>\n",
       "      <th>Model</th>\n",
       "      <th>Mean CV F1 Score</th>\n",
       "      <th>F1 Pos Class Score</th>\n",
       "    </tr>\n",
       "  </thead>\n",
       "  <tbody>\n",
       "    <tr>\n",
       "      <th>0</th>\n",
       "      <td>Logistic Regression Base Model</td>\n",
       "      <td>0.42</td>\n",
       "      <td>0.47</td>\n",
       "    </tr>\n",
       "    <tr>\n",
       "      <th>1</th>\n",
       "      <td>Logistic Regression Oversampled Model</td>\n",
       "      <td>0.69</td>\n",
       "      <td>0.47</td>\n",
       "    </tr>\n",
       "    <tr>\n",
       "      <th>2</th>\n",
       "      <td>Logistic Regression Undersampled Model</td>\n",
       "      <td>0.72</td>\n",
       "      <td>0.53</td>\n",
       "    </tr>\n",
       "    <tr>\n",
       "      <th>3</th>\n",
       "      <td>Logistic Regression Oversampled, Tuned</td>\n",
       "      <td>0.72</td>\n",
       "      <td>0.47</td>\n",
       "    </tr>\n",
       "    <tr>\n",
       "      <th>4</th>\n",
       "      <td>Logistic Regression Undersampled, Tuned</td>\n",
       "      <td>0.77</td>\n",
       "      <td>0.53</td>\n",
       "    </tr>\n",
       "    <tr>\n",
       "      <th>5</th>\n",
       "      <td>Random Forest, Oversampled</td>\n",
       "      <td>0.79</td>\n",
       "      <td>0.40</td>\n",
       "    </tr>\n",
       "    <tr>\n",
       "      <th>6</th>\n",
       "      <td>Random Forest, Undersampled</td>\n",
       "      <td>0.75</td>\n",
       "      <td>0.51</td>\n",
       "    </tr>\n",
       "  </tbody>\n",
       "</table>\n",
       "</div>"
      ],
      "text/plain": [
       "                                     Model  Mean CV F1 Score  \\\n",
       "0           Logistic Regression Base Model              0.42   \n",
       "1    Logistic Regression Oversampled Model              0.69   \n",
       "2   Logistic Regression Undersampled Model              0.72   \n",
       "3   Logistic Regression Oversampled, Tuned              0.72   \n",
       "4  Logistic Regression Undersampled, Tuned              0.77   \n",
       "5               Random Forest, Oversampled              0.79   \n",
       "6              Random Forest, Undersampled              0.75   \n",
       "\n",
       "   F1 Pos Class Score  \n",
       "0                0.47  \n",
       "1                0.47  \n",
       "2                0.53  \n",
       "3                0.47  \n",
       "4                0.53  \n",
       "5                0.40  \n",
       "6                0.51  "
      ]
     },
     "execution_count": 34,
     "metadata": {},
     "output_type": "execute_result"
    }
   ],
   "source": [
    "# Append the results to the DataFrame containing all of the results:\n",
    "new_results = pd.DataFrame([{'Model': 'Random Forest, Undersampled', 'Mean CV F1 Score': round(scores.mean(),2), 'F1 Pos Class Score':0.51}])\n",
    "results_df = pd.concat([results_df, new_results], ignore_index=True)\n",
    "results_df"
   ]
  },
  {
   "cell_type": "markdown",
   "id": "2efdc9c2",
   "metadata": {},
   "source": [
    "### Hyperparameter tuning"
   ]
  },
  {
   "cell_type": "markdown",
   "id": "ac9fae2d",
   "metadata": {},
   "source": [
    "<b> Oversampled </b>"
   ]
  },
  {
   "cell_type": "code",
   "execution_count": 35,
   "id": "7d8a9ba6",
   "metadata": {},
   "outputs": [
    {
     "name": "stdout",
     "output_type": "stream",
     "text": [
      "Fitting 5 folds for each of 108 candidates, totalling 540 fits\n",
      "{'max_depth': 10, 'min_samples_leaf': 2, 'min_samples_split': 2, 'n_estimators': 300}\n"
     ]
    }
   ],
   "source": [
    "# Define the parameter grid\n",
    "param_grid = {\n",
    "    'n_estimators': [100, 200, 300],\n",
    "    'max_depth': [None, 5, 10, 15],\n",
    "    'min_samples_split': [2, 5, 10],\n",
    "    'min_samples_leaf': [1, 2, 4],\n",
    "}\n",
    "\n",
    "# Create a base model\n",
    "rfc_os = RandomForestClassifier(random_state=42)\n",
    "\n",
    "# Instantiate the grid search model\n",
    "grid_search = GridSearchCV(estimator = rfc_os, param_grid = param_grid, \n",
    "                           cv = 5, scoring='f1', n_jobs = -1, verbose = 2)\n",
    "\n",
    "# Fit the grid search to the data\n",
    "grid_search.fit(X_train_os, y_train_os)\n",
    "\n",
    "# Get the best parameters\n",
    "print(grid_search.best_params_)"
   ]
  },
  {
   "cell_type": "markdown",
   "id": "67066e4f",
   "metadata": {},
   "source": [
    "<b> Tuning the model </b>"
   ]
  },
  {
   "cell_type": "code",
   "execution_count": 36,
   "id": "1b03a285",
   "metadata": {},
   "outputs": [
    {
     "name": "stdout",
     "output_type": "stream",
     "text": [
      "[0.73802817 0.77746479 0.81841432 0.88056206 0.8591224 ]\n",
      "Mean CV F1 score for the positive class: 0.81 (+/- 0.10)\n",
      "Random Forest Model: Test data, Oversampled:\n",
      "               precision    recall  f1-score   support\n",
      "\n",
      "           0       0.75      0.79      0.77       320\n",
      "           1       0.51      0.46      0.49       156\n",
      "\n",
      "    accuracy                           0.68       476\n",
      "   macro avg       0.63      0.62      0.63       476\n",
      "weighted avg       0.67      0.68      0.68       476\n",
      "\n"
     ]
    }
   ],
   "source": [
    "# Create the model\n",
    "rfc_os_tuned = RandomForestClassifier(n_estimators=300, max_depth=10,min_samples_leaf=2,min_samples_split=2, random_state=42)\n",
    "\n",
    "# Fit the model\n",
    "rfc_os_tuned.fit(X_train_os, y_train_os)\n",
    "\n",
    "# Predict the labels of the test set\n",
    "y_predict_test_os_rf_tuned = rfc_os_tuned.predict(X_test)\n",
    "\n",
    "\n",
    "scores = cross_val_score(rfc_os_tuned, X_train_os, y_train_os, cv=5, scoring='f1')\n",
    "print(scores)\n",
    "\n",
    "print(\"Mean CV F1 score for the positive class: %0.2f (+/- %0.2f)\" % (scores.mean(), scores.std() * 2))\n",
    "\n",
    "\n",
    "# Test classification report, all components: \n",
    "print('Random Forest Model: Test data, Oversampled:\\n',classification_report(y_test,y_predict_test_os_rf_tuned))\n"
   ]
  },
  {
   "cell_type": "code",
   "execution_count": 37,
   "id": "5a698e42",
   "metadata": {},
   "outputs": [
    {
     "name": "stdout",
     "output_type": "stream",
     "text": [
      "[[252  68]\n",
      " [ 84  72]]\n"
     ]
    }
   ],
   "source": [
    "# confusion matrix\n",
    "cm = confusion_matrix(y_test, y_predict_test_os_rf_tuned)\n",
    "print(cm)"
   ]
  },
  {
   "cell_type": "code",
   "execution_count": 38,
   "id": "24672b2b",
   "metadata": {},
   "outputs": [
    {
     "data": {
      "text/html": [
       "<div>\n",
       "<style scoped>\n",
       "    .dataframe tbody tr th:only-of-type {\n",
       "        vertical-align: middle;\n",
       "    }\n",
       "\n",
       "    .dataframe tbody tr th {\n",
       "        vertical-align: top;\n",
       "    }\n",
       "\n",
       "    .dataframe thead th {\n",
       "        text-align: right;\n",
       "    }\n",
       "</style>\n",
       "<table border=\"1\" class=\"dataframe\">\n",
       "  <thead>\n",
       "    <tr style=\"text-align: right;\">\n",
       "      <th></th>\n",
       "      <th>Model</th>\n",
       "      <th>Mean CV F1 Score</th>\n",
       "      <th>F1 Pos Class Score</th>\n",
       "    </tr>\n",
       "  </thead>\n",
       "  <tbody>\n",
       "    <tr>\n",
       "      <th>0</th>\n",
       "      <td>Logistic Regression Base Model</td>\n",
       "      <td>0.42</td>\n",
       "      <td>0.47</td>\n",
       "    </tr>\n",
       "    <tr>\n",
       "      <th>1</th>\n",
       "      <td>Logistic Regression Oversampled Model</td>\n",
       "      <td>0.69</td>\n",
       "      <td>0.47</td>\n",
       "    </tr>\n",
       "    <tr>\n",
       "      <th>2</th>\n",
       "      <td>Logistic Regression Undersampled Model</td>\n",
       "      <td>0.72</td>\n",
       "      <td>0.53</td>\n",
       "    </tr>\n",
       "    <tr>\n",
       "      <th>3</th>\n",
       "      <td>Logistic Regression Oversampled, Tuned</td>\n",
       "      <td>0.72</td>\n",
       "      <td>0.47</td>\n",
       "    </tr>\n",
       "    <tr>\n",
       "      <th>4</th>\n",
       "      <td>Logistic Regression Undersampled, Tuned</td>\n",
       "      <td>0.77</td>\n",
       "      <td>0.53</td>\n",
       "    </tr>\n",
       "    <tr>\n",
       "      <th>5</th>\n",
       "      <td>Random Forest, Oversampled</td>\n",
       "      <td>0.79</td>\n",
       "      <td>0.40</td>\n",
       "    </tr>\n",
       "    <tr>\n",
       "      <th>6</th>\n",
       "      <td>Random Forest, Undersampled</td>\n",
       "      <td>0.75</td>\n",
       "      <td>0.51</td>\n",
       "    </tr>\n",
       "    <tr>\n",
       "      <th>7</th>\n",
       "      <td>Random Forest, Oversampled, Tuned</td>\n",
       "      <td>0.81</td>\n",
       "      <td>0.49</td>\n",
       "    </tr>\n",
       "  </tbody>\n",
       "</table>\n",
       "</div>"
      ],
      "text/plain": [
       "                                     Model  Mean CV F1 Score  \\\n",
       "0           Logistic Regression Base Model              0.42   \n",
       "1    Logistic Regression Oversampled Model              0.69   \n",
       "2   Logistic Regression Undersampled Model              0.72   \n",
       "3   Logistic Regression Oversampled, Tuned              0.72   \n",
       "4  Logistic Regression Undersampled, Tuned              0.77   \n",
       "5               Random Forest, Oversampled              0.79   \n",
       "6              Random Forest, Undersampled              0.75   \n",
       "7        Random Forest, Oversampled, Tuned              0.81   \n",
       "\n",
       "   F1 Pos Class Score  \n",
       "0                0.47  \n",
       "1                0.47  \n",
       "2                0.53  \n",
       "3                0.47  \n",
       "4                0.53  \n",
       "5                0.40  \n",
       "6                0.51  \n",
       "7                0.49  "
      ]
     },
     "execution_count": 38,
     "metadata": {},
     "output_type": "execute_result"
    }
   ],
   "source": [
    "# Append the results to the DataFrame containing all of the results:\n",
    "new_results = pd.DataFrame([{'Model': 'Random Forest, Oversampled, Tuned', 'Mean CV F1 Score': round(scores.mean(),2), 'F1 Pos Class Score':0.49}])\n",
    "results_df = pd.concat([results_df, new_results], ignore_index=True)\n",
    "results_df"
   ]
  },
  {
   "cell_type": "markdown",
   "id": "0867d1e3",
   "metadata": {},
   "source": [
    "<b> Undersampled, Tuned </b>"
   ]
  },
  {
   "cell_type": "code",
   "execution_count": 39,
   "id": "d1290a36",
   "metadata": {},
   "outputs": [
    {
     "name": "stdout",
     "output_type": "stream",
     "text": [
      "Fitting 5 folds for each of 108 candidates, totalling 540 fits\n",
      "{'max_depth': 10, 'min_samples_leaf': 4, 'min_samples_split': 2, 'n_estimators': 300}\n"
     ]
    }
   ],
   "source": [
    "# Define the parameter grid\n",
    "param_grid = {\n",
    "    'n_estimators': [100, 200, 300],\n",
    "    'max_depth': [None, 5, 10, 15],\n",
    "    'min_samples_split': [2, 5, 10],\n",
    "    'min_samples_leaf': [1, 2, 4],\n",
    "}\n",
    "\n",
    "# Create a base model\n",
    "rfc_us = RandomForestClassifier(random_state=42)\n",
    "\n",
    "# Instantiate the grid search model\n",
    "grid_search = GridSearchCV(estimator = rfc_us, param_grid = param_grid, \n",
    "                           cv = 5, scoring='f1', n_jobs = -1, verbose = 2)\n",
    "\n",
    "# Fit the grid search to the data\n",
    "grid_search.fit(X_train_us, y_train_us)\n",
    "\n",
    "# Get the best parameters\n",
    "print(grid_search.best_params_)"
   ]
  },
  {
   "cell_type": "code",
   "execution_count": 40,
   "id": "f09fc0bd",
   "metadata": {},
   "outputs": [
    {
     "name": "stdout",
     "output_type": "stream",
     "text": [
      "[0.84146341 0.73619632 0.80446927 0.75247525 0.71497585]\n",
      "Mean CV F1 score for the positive class: 0.77 (+/- 0.09)\n",
      "Random Forest Model: Test data, Oversampled:\n",
      "               precision    recall  f1-score   support\n",
      "\n",
      "           0       0.79      0.47      0.59       320\n",
      "           1       0.41      0.74      0.52       156\n",
      "\n",
      "    accuracy                           0.56       476\n",
      "   macro avg       0.60      0.61      0.56       476\n",
      "weighted avg       0.66      0.56      0.57       476\n",
      "\n"
     ]
    }
   ],
   "source": [
    "# Create the model\n",
    "rfc_us_tuned = RandomForestClassifier(n_estimators=300, max_depth=10,min_samples_leaf=4,min_samples_split=2, random_state=42)\n",
    "\n",
    "# Fit the model\n",
    "rfc_us_tuned.fit(X_train_us, y_train_us)\n",
    "\n",
    "# Predict the labels of the test set\n",
    "y_predict_test_us_rf_tuned = rfc_us_tuned.predict(X_test)\n",
    "\n",
    "\n",
    "scores = cross_val_score(rfc_us_tuned, X_train_us, y_train_us, cv=5, scoring='f1')\n",
    "print(scores)\n",
    "\n",
    "print(\"Mean CV F1 score for the positive class: %0.2f (+/- %0.2f)\" % (scores.mean(), scores.std() * 2))\n",
    "\n",
    "\n",
    "# Test classification report, all components: \n",
    "print('Random Forest Model: Test data, Oversampled:\\n',classification_report(y_test,y_predict_test_us_rf_tuned))\n"
   ]
  },
  {
   "cell_type": "code",
   "execution_count": 41,
   "id": "393ad911",
   "metadata": {},
   "outputs": [
    {
     "name": "stdout",
     "output_type": "stream",
     "text": [
      "[[150 170]\n",
      " [ 40 116]]\n"
     ]
    }
   ],
   "source": [
    "# confusion matrix\n",
    "cm = confusion_matrix(y_test, y_predict_test_us_rf_tuned)\n",
    "print(cm)"
   ]
  },
  {
   "cell_type": "code",
   "execution_count": 42,
   "id": "13ecc7a4",
   "metadata": {},
   "outputs": [
    {
     "data": {
      "text/html": [
       "<div>\n",
       "<style scoped>\n",
       "    .dataframe tbody tr th:only-of-type {\n",
       "        vertical-align: middle;\n",
       "    }\n",
       "\n",
       "    .dataframe tbody tr th {\n",
       "        vertical-align: top;\n",
       "    }\n",
       "\n",
       "    .dataframe thead th {\n",
       "        text-align: right;\n",
       "    }\n",
       "</style>\n",
       "<table border=\"1\" class=\"dataframe\">\n",
       "  <thead>\n",
       "    <tr style=\"text-align: right;\">\n",
       "      <th></th>\n",
       "      <th>Model</th>\n",
       "      <th>Mean CV F1 Score</th>\n",
       "      <th>F1 Pos Class Score</th>\n",
       "    </tr>\n",
       "  </thead>\n",
       "  <tbody>\n",
       "    <tr>\n",
       "      <th>0</th>\n",
       "      <td>Logistic Regression Base Model</td>\n",
       "      <td>0.42</td>\n",
       "      <td>0.47</td>\n",
       "    </tr>\n",
       "    <tr>\n",
       "      <th>1</th>\n",
       "      <td>Logistic Regression Oversampled Model</td>\n",
       "      <td>0.69</td>\n",
       "      <td>0.47</td>\n",
       "    </tr>\n",
       "    <tr>\n",
       "      <th>2</th>\n",
       "      <td>Logistic Regression Undersampled Model</td>\n",
       "      <td>0.72</td>\n",
       "      <td>0.53</td>\n",
       "    </tr>\n",
       "    <tr>\n",
       "      <th>3</th>\n",
       "      <td>Logistic Regression Oversampled, Tuned</td>\n",
       "      <td>0.72</td>\n",
       "      <td>0.47</td>\n",
       "    </tr>\n",
       "    <tr>\n",
       "      <th>4</th>\n",
       "      <td>Logistic Regression Undersampled, Tuned</td>\n",
       "      <td>0.77</td>\n",
       "      <td>0.53</td>\n",
       "    </tr>\n",
       "    <tr>\n",
       "      <th>5</th>\n",
       "      <td>Random Forest, Oversampled</td>\n",
       "      <td>0.79</td>\n",
       "      <td>0.40</td>\n",
       "    </tr>\n",
       "    <tr>\n",
       "      <th>6</th>\n",
       "      <td>Random Forest, Undersampled</td>\n",
       "      <td>0.75</td>\n",
       "      <td>0.51</td>\n",
       "    </tr>\n",
       "    <tr>\n",
       "      <th>7</th>\n",
       "      <td>Random Forest, Oversampled, Tuned</td>\n",
       "      <td>0.81</td>\n",
       "      <td>0.49</td>\n",
       "    </tr>\n",
       "    <tr>\n",
       "      <th>8</th>\n",
       "      <td>Random Forest, Undersampled, Tuned</td>\n",
       "      <td>0.77</td>\n",
       "      <td>0.52</td>\n",
       "    </tr>\n",
       "  </tbody>\n",
       "</table>\n",
       "</div>"
      ],
      "text/plain": [
       "                                     Model  Mean CV F1 Score  \\\n",
       "0           Logistic Regression Base Model              0.42   \n",
       "1    Logistic Regression Oversampled Model              0.69   \n",
       "2   Logistic Regression Undersampled Model              0.72   \n",
       "3   Logistic Regression Oversampled, Tuned              0.72   \n",
       "4  Logistic Regression Undersampled, Tuned              0.77   \n",
       "5               Random Forest, Oversampled              0.79   \n",
       "6              Random Forest, Undersampled              0.75   \n",
       "7        Random Forest, Oversampled, Tuned              0.81   \n",
       "8       Random Forest, Undersampled, Tuned              0.77   \n",
       "\n",
       "   F1 Pos Class Score  \n",
       "0                0.47  \n",
       "1                0.47  \n",
       "2                0.53  \n",
       "3                0.47  \n",
       "4                0.53  \n",
       "5                0.40  \n",
       "6                0.51  \n",
       "7                0.49  \n",
       "8                0.52  "
      ]
     },
     "execution_count": 42,
     "metadata": {},
     "output_type": "execute_result"
    }
   ],
   "source": [
    "# Append the results to the DataFrame containing all of the results:\n",
    "new_results = pd.DataFrame([{'Model': 'Random Forest, Undersampled, Tuned', 'Mean CV F1 Score': round(scores.mean(),2), 'F1 Pos Class Score':0.52}])\n",
    "results_df = pd.concat([results_df, new_results], ignore_index=True)\n",
    "results_df"
   ]
  },
  {
   "cell_type": "markdown",
   "id": "d6155f54",
   "metadata": {},
   "source": [
    "# XG Boost Model"
   ]
  },
  {
   "cell_type": "markdown",
   "id": "d1acf24f",
   "metadata": {},
   "source": [
    "<b> Oversampled model </b>"
   ]
  },
  {
   "cell_type": "code",
   "execution_count": 43,
   "id": "1c8e2f80",
   "metadata": {
    "scrolled": true
   },
   "outputs": [
    {
     "name": "stdout",
     "output_type": "stream",
     "text": [
      "[0.60450161 0.72072072 0.81794195 0.89719626 0.89929742]\n",
      "Mean CV F1 score for the positive class: 0.79 (+/- 0.23)\n",
      "Test Classification Report, XG Boost, Oversampled               precision    recall  f1-score   support\n",
      "\n",
      "           0       0.75      0.83      0.79       320\n",
      "           1       0.55      0.43      0.48       156\n",
      "\n",
      "    accuracy                           0.70       476\n",
      "   macro avg       0.65      0.63      0.64       476\n",
      "weighted avg       0.69      0.70      0.69       476\n",
      "\n"
     ]
    }
   ],
   "source": [
    "# fit model\n",
    "xgboost_model_os = XGBClassifier()\n",
    "xgboost_model_os.fit(X_train_os, y_train_os)\n",
    "\n",
    "# make predictions for test data\n",
    "xgboost_y_pred_os = xgboost_model_os.predict(X_test)\n",
    "predictions = [round(value) for value in xgboost_y_pred_os]\n",
    "\n",
    "\n",
    "scores = cross_val_score(xgboost_model_os, X_train_os, y_train_os, cv=5, scoring='f1')\n",
    "print(scores)\n",
    "\n",
    "print(\"Mean CV F1 score for the positive class: %0.2f (+/- %0.2f)\" % (scores.mean(), scores.std() * 2))\n",
    "\n",
    "print('Test Classification Report, XG Boost, Oversampled',classification_report(y_test, xgboost_y_pred_os))"
   ]
  },
  {
   "cell_type": "code",
   "execution_count": 44,
   "id": "f56087bf",
   "metadata": {},
   "outputs": [
    {
     "name": "stdout",
     "output_type": "stream",
     "text": [
      "[[266  54]\n",
      " [ 89  67]]\n"
     ]
    }
   ],
   "source": [
    "# confusion matrix\n",
    "cm = confusion_matrix(y_test, xgboost_y_pred_os)\n",
    "print(cm)"
   ]
  },
  {
   "cell_type": "code",
   "execution_count": 45,
   "id": "062ed4e3",
   "metadata": {},
   "outputs": [
    {
     "data": {
      "text/html": [
       "<div>\n",
       "<style scoped>\n",
       "    .dataframe tbody tr th:only-of-type {\n",
       "        vertical-align: middle;\n",
       "    }\n",
       "\n",
       "    .dataframe tbody tr th {\n",
       "        vertical-align: top;\n",
       "    }\n",
       "\n",
       "    .dataframe thead th {\n",
       "        text-align: right;\n",
       "    }\n",
       "</style>\n",
       "<table border=\"1\" class=\"dataframe\">\n",
       "  <thead>\n",
       "    <tr style=\"text-align: right;\">\n",
       "      <th></th>\n",
       "      <th>Model</th>\n",
       "      <th>Mean CV F1 Score</th>\n",
       "      <th>F1 Pos Class Score</th>\n",
       "    </tr>\n",
       "  </thead>\n",
       "  <tbody>\n",
       "    <tr>\n",
       "      <th>0</th>\n",
       "      <td>Logistic Regression Base Model</td>\n",
       "      <td>0.42</td>\n",
       "      <td>0.47</td>\n",
       "    </tr>\n",
       "    <tr>\n",
       "      <th>1</th>\n",
       "      <td>Logistic Regression Oversampled Model</td>\n",
       "      <td>0.69</td>\n",
       "      <td>0.47</td>\n",
       "    </tr>\n",
       "    <tr>\n",
       "      <th>2</th>\n",
       "      <td>Logistic Regression Undersampled Model</td>\n",
       "      <td>0.72</td>\n",
       "      <td>0.53</td>\n",
       "    </tr>\n",
       "    <tr>\n",
       "      <th>3</th>\n",
       "      <td>Logistic Regression Oversampled, Tuned</td>\n",
       "      <td>0.72</td>\n",
       "      <td>0.47</td>\n",
       "    </tr>\n",
       "    <tr>\n",
       "      <th>4</th>\n",
       "      <td>Logistic Regression Undersampled, Tuned</td>\n",
       "      <td>0.77</td>\n",
       "      <td>0.53</td>\n",
       "    </tr>\n",
       "    <tr>\n",
       "      <th>5</th>\n",
       "      <td>Random Forest, Oversampled</td>\n",
       "      <td>0.79</td>\n",
       "      <td>0.40</td>\n",
       "    </tr>\n",
       "    <tr>\n",
       "      <th>6</th>\n",
       "      <td>Random Forest, Undersampled</td>\n",
       "      <td>0.75</td>\n",
       "      <td>0.51</td>\n",
       "    </tr>\n",
       "    <tr>\n",
       "      <th>7</th>\n",
       "      <td>Random Forest, Oversampled, Tuned</td>\n",
       "      <td>0.81</td>\n",
       "      <td>0.49</td>\n",
       "    </tr>\n",
       "    <tr>\n",
       "      <th>8</th>\n",
       "      <td>Random Forest, Undersampled, Tuned</td>\n",
       "      <td>0.77</td>\n",
       "      <td>0.52</td>\n",
       "    </tr>\n",
       "    <tr>\n",
       "      <th>9</th>\n",
       "      <td>XG Boost, Oversampled</td>\n",
       "      <td>0.79</td>\n",
       "      <td>0.48</td>\n",
       "    </tr>\n",
       "  </tbody>\n",
       "</table>\n",
       "</div>"
      ],
      "text/plain": [
       "                                     Model  Mean CV F1 Score  \\\n",
       "0           Logistic Regression Base Model              0.42   \n",
       "1    Logistic Regression Oversampled Model              0.69   \n",
       "2   Logistic Regression Undersampled Model              0.72   \n",
       "3   Logistic Regression Oversampled, Tuned              0.72   \n",
       "4  Logistic Regression Undersampled, Tuned              0.77   \n",
       "5               Random Forest, Oversampled              0.79   \n",
       "6              Random Forest, Undersampled              0.75   \n",
       "7        Random Forest, Oversampled, Tuned              0.81   \n",
       "8       Random Forest, Undersampled, Tuned              0.77   \n",
       "9                    XG Boost, Oversampled              0.79   \n",
       "\n",
       "   F1 Pos Class Score  \n",
       "0                0.47  \n",
       "1                0.47  \n",
       "2                0.53  \n",
       "3                0.47  \n",
       "4                0.53  \n",
       "5                0.40  \n",
       "6                0.51  \n",
       "7                0.49  \n",
       "8                0.52  \n",
       "9                0.48  "
      ]
     },
     "execution_count": 45,
     "metadata": {},
     "output_type": "execute_result"
    }
   ],
   "source": [
    "# Append the results to the DataFrame containing all of the results:\n",
    "new_results = pd.DataFrame([{'Model': 'XG Boost, Oversampled', 'Mean CV F1 Score': round(scores.mean(),2), 'F1 Pos Class Score':0.48}])\n",
    "results_df = pd.concat([results_df, new_results], ignore_index=True)\n",
    "results_df"
   ]
  },
  {
   "cell_type": "markdown",
   "id": "03d7719d",
   "metadata": {},
   "source": [
    "<b>Undersampled Model</b>"
   ]
  },
  {
   "cell_type": "code",
   "execution_count": 46,
   "id": "39570374",
   "metadata": {},
   "outputs": [
    {
     "name": "stdout",
     "output_type": "stream",
     "text": [
      "[0.82840237 0.72392638 0.74193548 0.75126904 0.71428571]\n",
      "Mean CV F1 score for the positive class: 0.75 (+/- 0.08)\n",
      "Test Classification Report, XG Boost, Undersampled               precision    recall  f1-score   support\n",
      "\n",
      "           0       0.81      0.49      0.61       320\n",
      "           1       0.43      0.77      0.55       156\n",
      "\n",
      "    accuracy                           0.58       476\n",
      "   macro avg       0.62      0.63      0.58       476\n",
      "weighted avg       0.69      0.58      0.59       476\n",
      "\n"
     ]
    }
   ],
   "source": [
    "# fit model\n",
    "xgboost_model_us = XGBClassifier()\n",
    "xgboost_model_us.fit(X_train_us, y_train_us)\n",
    "\n",
    "# make predictions for test data\n",
    "xgboost_y_pred_us = xgboost_model_us.predict(X_test)\n",
    "predictions = [round(value) for value in xgboost_y_pred_us]\n",
    "\n",
    "\n",
    "scores = cross_val_score(xgboost_model_us, X_train_us, y_train_us, cv=5, scoring='f1')\n",
    "print(scores)\n",
    "\n",
    "print(\"Mean CV F1 score for the positive class: %0.2f (+/- %0.2f)\" % (scores.mean(), scores.std() * 2))\n",
    "\n",
    "print('Test Classification Report, XG Boost, Undersampled',classification_report(y_test, xgboost_y_pred_us))"
   ]
  },
  {
   "cell_type": "code",
   "execution_count": 47,
   "id": "6bec5d86",
   "metadata": {},
   "outputs": [
    {
     "name": "stdout",
     "output_type": "stream",
     "text": [
      "[[158 162]\n",
      " [ 36 120]]\n"
     ]
    }
   ],
   "source": [
    "# confusion matrix\n",
    "cm = confusion_matrix(y_test, xgboost_y_pred_us)\n",
    "print(cm)"
   ]
  },
  {
   "cell_type": "code",
   "execution_count": 48,
   "id": "9819cb00",
   "metadata": {},
   "outputs": [
    {
     "data": {
      "text/html": [
       "<div>\n",
       "<style scoped>\n",
       "    .dataframe tbody tr th:only-of-type {\n",
       "        vertical-align: middle;\n",
       "    }\n",
       "\n",
       "    .dataframe tbody tr th {\n",
       "        vertical-align: top;\n",
       "    }\n",
       "\n",
       "    .dataframe thead th {\n",
       "        text-align: right;\n",
       "    }\n",
       "</style>\n",
       "<table border=\"1\" class=\"dataframe\">\n",
       "  <thead>\n",
       "    <tr style=\"text-align: right;\">\n",
       "      <th></th>\n",
       "      <th>Model</th>\n",
       "      <th>Mean CV F1 Score</th>\n",
       "      <th>F1 Pos Class Score</th>\n",
       "    </tr>\n",
       "  </thead>\n",
       "  <tbody>\n",
       "    <tr>\n",
       "      <th>0</th>\n",
       "      <td>Logistic Regression Base Model</td>\n",
       "      <td>0.42</td>\n",
       "      <td>0.47</td>\n",
       "    </tr>\n",
       "    <tr>\n",
       "      <th>1</th>\n",
       "      <td>Logistic Regression Oversampled Model</td>\n",
       "      <td>0.69</td>\n",
       "      <td>0.47</td>\n",
       "    </tr>\n",
       "    <tr>\n",
       "      <th>2</th>\n",
       "      <td>Logistic Regression Undersampled Model</td>\n",
       "      <td>0.72</td>\n",
       "      <td>0.53</td>\n",
       "    </tr>\n",
       "    <tr>\n",
       "      <th>3</th>\n",
       "      <td>Logistic Regression Oversampled, Tuned</td>\n",
       "      <td>0.72</td>\n",
       "      <td>0.47</td>\n",
       "    </tr>\n",
       "    <tr>\n",
       "      <th>4</th>\n",
       "      <td>Logistic Regression Undersampled, Tuned</td>\n",
       "      <td>0.77</td>\n",
       "      <td>0.53</td>\n",
       "    </tr>\n",
       "    <tr>\n",
       "      <th>5</th>\n",
       "      <td>Random Forest, Oversampled</td>\n",
       "      <td>0.79</td>\n",
       "      <td>0.40</td>\n",
       "    </tr>\n",
       "    <tr>\n",
       "      <th>6</th>\n",
       "      <td>Random Forest, Undersampled</td>\n",
       "      <td>0.75</td>\n",
       "      <td>0.51</td>\n",
       "    </tr>\n",
       "    <tr>\n",
       "      <th>7</th>\n",
       "      <td>Random Forest, Oversampled, Tuned</td>\n",
       "      <td>0.81</td>\n",
       "      <td>0.49</td>\n",
       "    </tr>\n",
       "    <tr>\n",
       "      <th>8</th>\n",
       "      <td>Random Forest, Undersampled, Tuned</td>\n",
       "      <td>0.77</td>\n",
       "      <td>0.52</td>\n",
       "    </tr>\n",
       "    <tr>\n",
       "      <th>9</th>\n",
       "      <td>XG Boost, Oversampled</td>\n",
       "      <td>0.79</td>\n",
       "      <td>0.48</td>\n",
       "    </tr>\n",
       "    <tr>\n",
       "      <th>10</th>\n",
       "      <td>XG Boost, Undersampled</td>\n",
       "      <td>0.75</td>\n",
       "      <td>0.55</td>\n",
       "    </tr>\n",
       "  </tbody>\n",
       "</table>\n",
       "</div>"
      ],
      "text/plain": [
       "                                      Model  Mean CV F1 Score  \\\n",
       "0            Logistic Regression Base Model              0.42   \n",
       "1     Logistic Regression Oversampled Model              0.69   \n",
       "2    Logistic Regression Undersampled Model              0.72   \n",
       "3    Logistic Regression Oversampled, Tuned              0.72   \n",
       "4   Logistic Regression Undersampled, Tuned              0.77   \n",
       "5                Random Forest, Oversampled              0.79   \n",
       "6               Random Forest, Undersampled              0.75   \n",
       "7         Random Forest, Oversampled, Tuned              0.81   \n",
       "8        Random Forest, Undersampled, Tuned              0.77   \n",
       "9                     XG Boost, Oversampled              0.79   \n",
       "10                   XG Boost, Undersampled              0.75   \n",
       "\n",
       "    F1 Pos Class Score  \n",
       "0                 0.47  \n",
       "1                 0.47  \n",
       "2                 0.53  \n",
       "3                 0.47  \n",
       "4                 0.53  \n",
       "5                 0.40  \n",
       "6                 0.51  \n",
       "7                 0.49  \n",
       "8                 0.52  \n",
       "9                 0.48  \n",
       "10                0.55  "
      ]
     },
     "execution_count": 48,
     "metadata": {},
     "output_type": "execute_result"
    }
   ],
   "source": [
    "# Append the results to the DataFrame containing all of the results:\n",
    "new_results = pd.DataFrame([{'Model': 'XG Boost, Undersampled', 'Mean CV F1 Score': round(scores.mean(),2), 'F1 Pos Class Score':0.55}])\n",
    "results_df = pd.concat([results_df, new_results], ignore_index=True)\n",
    "results_df"
   ]
  },
  {
   "cell_type": "markdown",
   "id": "960c57f2",
   "metadata": {},
   "source": [
    "NOTE: This is the best one so far, as far as the F1 score goes"
   ]
  },
  {
   "cell_type": "markdown",
   "id": "41b73fb1",
   "metadata": {},
   "source": [
    "### Hyperparameter Tuning"
   ]
  },
  {
   "cell_type": "markdown",
   "id": "784c2e06",
   "metadata": {},
   "source": [
    "<b> Oversampled </b>"
   ]
  },
  {
   "cell_type": "code",
   "execution_count": 49,
   "id": "b0918a5e",
   "metadata": {},
   "outputs": [
    {
     "name": "stdout",
     "output_type": "stream",
     "text": [
      "Fitting 5 folds for each of 243 candidates, totalling 1215 fits\n",
      "{'gamma': 0, 'learning_rate': 0.05, 'max_depth': 6, 'min_child_weight': 1, 'n_estimators': 200}\n",
      "0.7998481713612512\n"
     ]
    }
   ],
   "source": [
    "grid = {\n",
    "    'n_estimators': [100, 200, 300],\n",
    "    'max_depth': [2, 4, 6],\n",
    "    'min_child_weight': [1, 2, 3],\n",
    "    'learning_rate': [0.1, 0.01, 0.05],\n",
    "    'gamma': [0, 0.1, 0.2]\n",
    "}\n",
    "\n",
    "# Initialize the classifier\n",
    "xgboost_model_os = XGBClassifier()\n",
    "\n",
    "# Initialize GridSearchCV\n",
    "grid_search = GridSearchCV(estimator=xgboost_model_os, param_grid=grid, cv=5, scoring='f1', verbose=1, n_jobs=-1)\n",
    "\n",
    "# Fit GridSearchCV\n",
    "grid_search.fit(X_train_os, y_train_os)\n",
    "\n",
    "# Print the best parameters found\n",
    "print(grid_search.best_params_)\n",
    "print(grid_search.best_score_)"
   ]
  },
  {
   "cell_type": "markdown",
   "id": "c615b3bb",
   "metadata": {},
   "source": [
    "Apply the tuned hyperparameters:"
   ]
  },
  {
   "cell_type": "code",
   "execution_count": 50,
   "id": "30539800",
   "metadata": {},
   "outputs": [
    {
     "name": "stdout",
     "output_type": "stream",
     "text": [
      "[0.60450161 0.72072072 0.81794195 0.89719626 0.89929742]\n",
      "Mean CV F1 score for the positive class: 0.79 (+/- 0.23)\n",
      "Test Classification Report, XG Boost, Oversampled, Tuned               precision    recall  f1-score   support\n",
      "\n",
      "           0       0.75      0.83      0.79       320\n",
      "           1       0.55      0.43      0.48       156\n",
      "\n",
      "    accuracy                           0.70       476\n",
      "   macro avg       0.65      0.63      0.64       476\n",
      "weighted avg       0.69      0.70      0.69       476\n",
      "\n"
     ]
    }
   ],
   "source": [
    "# fit model\n",
    "xgboost_model_os_tuned = XGBClassifier()\n",
    "xgboost_model_os_tuned.fit(X_train_os, y_train_os)\n",
    "\n",
    "# make predictions for test data\n",
    "xgboost_y_pred_os_tuned = xgboost_model_os_tuned.predict(X_test)\n",
    "predictions = [round(value) for value in xgboost_y_pred_os_tuned]\n",
    "\n",
    "\n",
    "scores = cross_val_score(xgboost_model_os_tuned, X_train_os, y_train_os, cv=5, scoring='f1')\n",
    "print(scores)\n",
    "\n",
    "print(\"Mean CV F1 score for the positive class: %0.2f (+/- %0.2f)\" % (scores.mean(), scores.std() * 2))\n",
    "\n",
    "print('Test Classification Report, XG Boost, Oversampled, Tuned',classification_report(y_test, xgboost_y_pred_os_tuned))"
   ]
  },
  {
   "cell_type": "code",
   "execution_count": 51,
   "id": "9dc06436",
   "metadata": {},
   "outputs": [
    {
     "name": "stdout",
     "output_type": "stream",
     "text": [
      "[[266  54]\n",
      " [ 89  67]]\n"
     ]
    }
   ],
   "source": [
    "# confusion matrix\n",
    "cm = confusion_matrix(y_test, xgboost_y_pred_os_tuned)\n",
    "print(cm)"
   ]
  },
  {
   "cell_type": "code",
   "execution_count": 52,
   "id": "0dbbe01c",
   "metadata": {},
   "outputs": [
    {
     "data": {
      "text/html": [
       "<div>\n",
       "<style scoped>\n",
       "    .dataframe tbody tr th:only-of-type {\n",
       "        vertical-align: middle;\n",
       "    }\n",
       "\n",
       "    .dataframe tbody tr th {\n",
       "        vertical-align: top;\n",
       "    }\n",
       "\n",
       "    .dataframe thead th {\n",
       "        text-align: right;\n",
       "    }\n",
       "</style>\n",
       "<table border=\"1\" class=\"dataframe\">\n",
       "  <thead>\n",
       "    <tr style=\"text-align: right;\">\n",
       "      <th></th>\n",
       "      <th>Model</th>\n",
       "      <th>Mean CV F1 Score</th>\n",
       "      <th>F1 Pos Class Score</th>\n",
       "    </tr>\n",
       "  </thead>\n",
       "  <tbody>\n",
       "    <tr>\n",
       "      <th>0</th>\n",
       "      <td>Logistic Regression Base Model</td>\n",
       "      <td>0.42</td>\n",
       "      <td>0.47</td>\n",
       "    </tr>\n",
       "    <tr>\n",
       "      <th>1</th>\n",
       "      <td>Logistic Regression Oversampled Model</td>\n",
       "      <td>0.69</td>\n",
       "      <td>0.47</td>\n",
       "    </tr>\n",
       "    <tr>\n",
       "      <th>2</th>\n",
       "      <td>Logistic Regression Undersampled Model</td>\n",
       "      <td>0.72</td>\n",
       "      <td>0.53</td>\n",
       "    </tr>\n",
       "    <tr>\n",
       "      <th>3</th>\n",
       "      <td>Logistic Regression Oversampled, Tuned</td>\n",
       "      <td>0.72</td>\n",
       "      <td>0.47</td>\n",
       "    </tr>\n",
       "    <tr>\n",
       "      <th>4</th>\n",
       "      <td>Logistic Regression Undersampled, Tuned</td>\n",
       "      <td>0.77</td>\n",
       "      <td>0.53</td>\n",
       "    </tr>\n",
       "    <tr>\n",
       "      <th>5</th>\n",
       "      <td>Random Forest, Oversampled</td>\n",
       "      <td>0.79</td>\n",
       "      <td>0.40</td>\n",
       "    </tr>\n",
       "    <tr>\n",
       "      <th>6</th>\n",
       "      <td>Random Forest, Undersampled</td>\n",
       "      <td>0.75</td>\n",
       "      <td>0.51</td>\n",
       "    </tr>\n",
       "    <tr>\n",
       "      <th>7</th>\n",
       "      <td>Random Forest, Oversampled, Tuned</td>\n",
       "      <td>0.81</td>\n",
       "      <td>0.49</td>\n",
       "    </tr>\n",
       "    <tr>\n",
       "      <th>8</th>\n",
       "      <td>Random Forest, Undersampled, Tuned</td>\n",
       "      <td>0.77</td>\n",
       "      <td>0.52</td>\n",
       "    </tr>\n",
       "    <tr>\n",
       "      <th>9</th>\n",
       "      <td>XG Boost, Oversampled</td>\n",
       "      <td>0.79</td>\n",
       "      <td>0.48</td>\n",
       "    </tr>\n",
       "    <tr>\n",
       "      <th>10</th>\n",
       "      <td>XG Boost, Undersampled</td>\n",
       "      <td>0.75</td>\n",
       "      <td>0.55</td>\n",
       "    </tr>\n",
       "    <tr>\n",
       "      <th>11</th>\n",
       "      <td>XG Boost, Oversampled, Tuned</td>\n",
       "      <td>0.79</td>\n",
       "      <td>0.48</td>\n",
       "    </tr>\n",
       "  </tbody>\n",
       "</table>\n",
       "</div>"
      ],
      "text/plain": [
       "                                      Model  Mean CV F1 Score  \\\n",
       "0            Logistic Regression Base Model              0.42   \n",
       "1     Logistic Regression Oversampled Model              0.69   \n",
       "2    Logistic Regression Undersampled Model              0.72   \n",
       "3    Logistic Regression Oversampled, Tuned              0.72   \n",
       "4   Logistic Regression Undersampled, Tuned              0.77   \n",
       "5                Random Forest, Oversampled              0.79   \n",
       "6               Random Forest, Undersampled              0.75   \n",
       "7         Random Forest, Oversampled, Tuned              0.81   \n",
       "8        Random Forest, Undersampled, Tuned              0.77   \n",
       "9                     XG Boost, Oversampled              0.79   \n",
       "10                   XG Boost, Undersampled              0.75   \n",
       "11             XG Boost, Oversampled, Tuned              0.79   \n",
       "\n",
       "    F1 Pos Class Score  \n",
       "0                 0.47  \n",
       "1                 0.47  \n",
       "2                 0.53  \n",
       "3                 0.47  \n",
       "4                 0.53  \n",
       "5                 0.40  \n",
       "6                 0.51  \n",
       "7                 0.49  \n",
       "8                 0.52  \n",
       "9                 0.48  \n",
       "10                0.55  \n",
       "11                0.48  "
      ]
     },
     "execution_count": 52,
     "metadata": {},
     "output_type": "execute_result"
    }
   ],
   "source": [
    "# Append the results to the DataFrame containing all of the results:\n",
    "new_results = pd.DataFrame([{'Model': 'XG Boost, Oversampled, Tuned', 'Mean CV F1 Score': round(scores.mean(),2), 'F1 Pos Class Score':0.48}])\n",
    "results_df = pd.concat([results_df, new_results], ignore_index=True)\n",
    "results_df"
   ]
  },
  {
   "cell_type": "markdown",
   "id": "c7a35021",
   "metadata": {},
   "source": [
    "<b> Undersampled </b>"
   ]
  },
  {
   "cell_type": "code",
   "execution_count": 53,
   "id": "6abc189e",
   "metadata": {},
   "outputs": [
    {
     "name": "stdout",
     "output_type": "stream",
     "text": [
      "Fitting 5 folds for each of 243 candidates, totalling 1215 fits\n",
      "{'gamma': 0, 'learning_rate': 0.05, 'max_depth': 6, 'min_child_weight': 1, 'n_estimators': 200}\n",
      "0.7621981384459869\n"
     ]
    }
   ],
   "source": [
    "grid = {\n",
    "    'n_estimators': [100, 200, 300],\n",
    "    'max_depth': [2, 4, 6],\n",
    "    'min_child_weight': [1, 2, 3],\n",
    "    'learning_rate': [0.1, 0.01, 0.05],\n",
    "    'gamma': [0, 0.1, 0.2]\n",
    "}\n",
    "\n",
    "# Initialize the classifier\n",
    "xgboost_model_us_tuned = XGBClassifier()\n",
    "\n",
    "# Initialize GridSearchCV\n",
    "grid_search = GridSearchCV(estimator=xgboost_model_us_tuned, param_grid=grid, cv=5, scoring='f1', verbose=1, n_jobs=-1)\n",
    "\n",
    "# Fit GridSearchCV\n",
    "grid_search.fit(X_train_us, y_train_us)\n",
    "\n",
    "# Print the best parameters found\n",
    "print(grid_search.best_params_)\n",
    "print(grid_search.best_score_)"
   ]
  },
  {
   "cell_type": "markdown",
   "id": "1579f8fb",
   "metadata": {},
   "source": [
    "Applying the tuned hyperparameters:"
   ]
  },
  {
   "cell_type": "code",
   "execution_count": 54,
   "id": "a2508f13",
   "metadata": {},
   "outputs": [
    {
     "name": "stdout",
     "output_type": "stream",
     "text": [
      "[0.82142857 0.73493976 0.77777778 0.76530612 0.71153846]\n",
      "Mean CV F1 score for the positive class: 0.76 (+/- 0.08)\n",
      "Test Classification Report, XG Boost, Undersampled, Tuned               precision    recall  f1-score   support\n",
      "\n",
      "           0       0.84      0.50      0.63       320\n",
      "           1       0.44      0.81      0.57       156\n",
      "\n",
      "    accuracy                           0.60       476\n",
      "   macro avg       0.64      0.65      0.60       476\n",
      "weighted avg       0.71      0.60      0.61       476\n",
      "\n"
     ]
    }
   ],
   "source": [
    "# fit model\n",
    "xgboost_model_us_tuned = XGBClassifier(gamma= 0, learning_rate=0.05, max_depth= 6, min_child_weight=1, n_estimators=200)\n",
    "xgboost_model_us_tuned.fit(X_train_us, y_train_us)\n",
    "\n",
    "# make predictions for test data\n",
    "xgboost_y_pred_us_tuned = xgboost_model_us_tuned.predict(X_test)\n",
    "predictions = [round(value) for value in xgboost_y_pred_us_tuned]\n",
    "\n",
    "\n",
    "scores = cross_val_score(xgboost_model_us_tuned, X_train_us, y_train_us, cv=5, scoring='f1')\n",
    "print(scores)\n",
    "\n",
    "print(\"Mean CV F1 score for the positive class: %0.2f (+/- %0.2f)\" % (scores.mean(), scores.std() * 2))\n",
    "\n",
    "print('Test Classification Report, XG Boost, Undersampled, Tuned',classification_report(y_test, xgboost_y_pred_us_tuned))"
   ]
  },
  {
   "cell_type": "code",
   "execution_count": 55,
   "id": "a8b4bd1f",
   "metadata": {},
   "outputs": [
    {
     "name": "stdout",
     "output_type": "stream",
     "text": [
      "[[160 160]\n",
      " [ 30 126]]\n"
     ]
    }
   ],
   "source": [
    "# confusion matrix\n",
    "cm = confusion_matrix(y_test, xgboost_y_pred_us_tuned)\n",
    "print(cm)"
   ]
  },
  {
   "cell_type": "code",
   "execution_count": 56,
   "id": "d654c764",
   "metadata": {},
   "outputs": [
    {
     "data": {
      "text/html": [
       "<div>\n",
       "<style scoped>\n",
       "    .dataframe tbody tr th:only-of-type {\n",
       "        vertical-align: middle;\n",
       "    }\n",
       "\n",
       "    .dataframe tbody tr th {\n",
       "        vertical-align: top;\n",
       "    }\n",
       "\n",
       "    .dataframe thead th {\n",
       "        text-align: right;\n",
       "    }\n",
       "</style>\n",
       "<table border=\"1\" class=\"dataframe\">\n",
       "  <thead>\n",
       "    <tr style=\"text-align: right;\">\n",
       "      <th></th>\n",
       "      <th>Model</th>\n",
       "      <th>Mean CV F1 Score</th>\n",
       "      <th>F1 Pos Class Score</th>\n",
       "    </tr>\n",
       "  </thead>\n",
       "  <tbody>\n",
       "    <tr>\n",
       "      <th>0</th>\n",
       "      <td>Logistic Regression Base Model</td>\n",
       "      <td>0.42</td>\n",
       "      <td>0.47</td>\n",
       "    </tr>\n",
       "    <tr>\n",
       "      <th>1</th>\n",
       "      <td>Logistic Regression Oversampled Model</td>\n",
       "      <td>0.69</td>\n",
       "      <td>0.47</td>\n",
       "    </tr>\n",
       "    <tr>\n",
       "      <th>2</th>\n",
       "      <td>Logistic Regression Undersampled Model</td>\n",
       "      <td>0.72</td>\n",
       "      <td>0.53</td>\n",
       "    </tr>\n",
       "    <tr>\n",
       "      <th>3</th>\n",
       "      <td>Logistic Regression Oversampled, Tuned</td>\n",
       "      <td>0.72</td>\n",
       "      <td>0.47</td>\n",
       "    </tr>\n",
       "    <tr>\n",
       "      <th>4</th>\n",
       "      <td>Logistic Regression Undersampled, Tuned</td>\n",
       "      <td>0.77</td>\n",
       "      <td>0.53</td>\n",
       "    </tr>\n",
       "    <tr>\n",
       "      <th>5</th>\n",
       "      <td>Random Forest, Oversampled</td>\n",
       "      <td>0.79</td>\n",
       "      <td>0.40</td>\n",
       "    </tr>\n",
       "    <tr>\n",
       "      <th>6</th>\n",
       "      <td>Random Forest, Undersampled</td>\n",
       "      <td>0.75</td>\n",
       "      <td>0.51</td>\n",
       "    </tr>\n",
       "    <tr>\n",
       "      <th>7</th>\n",
       "      <td>Random Forest, Oversampled, Tuned</td>\n",
       "      <td>0.81</td>\n",
       "      <td>0.49</td>\n",
       "    </tr>\n",
       "    <tr>\n",
       "      <th>8</th>\n",
       "      <td>Random Forest, Undersampled, Tuned</td>\n",
       "      <td>0.77</td>\n",
       "      <td>0.52</td>\n",
       "    </tr>\n",
       "    <tr>\n",
       "      <th>9</th>\n",
       "      <td>XG Boost, Oversampled</td>\n",
       "      <td>0.79</td>\n",
       "      <td>0.48</td>\n",
       "    </tr>\n",
       "    <tr>\n",
       "      <th>10</th>\n",
       "      <td>XG Boost, Undersampled</td>\n",
       "      <td>0.75</td>\n",
       "      <td>0.55</td>\n",
       "    </tr>\n",
       "    <tr>\n",
       "      <th>11</th>\n",
       "      <td>XG Boost, Oversampled, Tuned</td>\n",
       "      <td>0.79</td>\n",
       "      <td>0.48</td>\n",
       "    </tr>\n",
       "    <tr>\n",
       "      <th>12</th>\n",
       "      <td>XG Boost, Undersampled, Tuned</td>\n",
       "      <td>0.76</td>\n",
       "      <td>0.57</td>\n",
       "    </tr>\n",
       "  </tbody>\n",
       "</table>\n",
       "</div>"
      ],
      "text/plain": [
       "                                      Model  Mean CV F1 Score  \\\n",
       "0            Logistic Regression Base Model              0.42   \n",
       "1     Logistic Regression Oversampled Model              0.69   \n",
       "2    Logistic Regression Undersampled Model              0.72   \n",
       "3    Logistic Regression Oversampled, Tuned              0.72   \n",
       "4   Logistic Regression Undersampled, Tuned              0.77   \n",
       "5                Random Forest, Oversampled              0.79   \n",
       "6               Random Forest, Undersampled              0.75   \n",
       "7         Random Forest, Oversampled, Tuned              0.81   \n",
       "8        Random Forest, Undersampled, Tuned              0.77   \n",
       "9                     XG Boost, Oversampled              0.79   \n",
       "10                   XG Boost, Undersampled              0.75   \n",
       "11             XG Boost, Oversampled, Tuned              0.79   \n",
       "12            XG Boost, Undersampled, Tuned              0.76   \n",
       "\n",
       "    F1 Pos Class Score  \n",
       "0                 0.47  \n",
       "1                 0.47  \n",
       "2                 0.53  \n",
       "3                 0.47  \n",
       "4                 0.53  \n",
       "5                 0.40  \n",
       "6                 0.51  \n",
       "7                 0.49  \n",
       "8                 0.52  \n",
       "9                 0.48  \n",
       "10                0.55  \n",
       "11                0.48  \n",
       "12                0.57  "
      ]
     },
     "execution_count": 56,
     "metadata": {},
     "output_type": "execute_result"
    }
   ],
   "source": [
    "# Append the results to the DataFrame containing all of the results:\n",
    "new_results = pd.DataFrame([{'Model': 'XG Boost, Undersampled, Tuned', 'Mean CV F1 Score': round(scores.mean(),2), 'F1 Pos Class Score':0.57}])\n",
    "results_df = pd.concat([results_df, new_results], ignore_index=True)\n",
    "results_df"
   ]
  },
  {
   "cell_type": "markdown",
   "id": "b4587a14",
   "metadata": {},
   "source": [
    "XG Boost, undersampled and tuned is the best so far!"
   ]
  },
  {
   "cell_type": "markdown",
   "id": "e0dfd4e4",
   "metadata": {},
   "source": [
    "# LGBM Model"
   ]
  },
  {
   "cell_type": "markdown",
   "id": "9b0501a0",
   "metadata": {},
   "source": [
    "<b> Oversampled </b>"
   ]
  },
  {
   "cell_type": "code",
   "execution_count": 57,
   "id": "68ec8f9e",
   "metadata": {},
   "outputs": [
    {
     "name": "stdout",
     "output_type": "stream",
     "text": [
      "[0.61073826 0.64761905 0.82414698 0.90140845 0.89671362]\n",
      "Mean CV F1 score for the positive class: 0.78 (+/- 0.25)\n",
      "Test Classification Report, LGBM, Oversampled               precision    recall  f1-score   support\n",
      "\n",
      "           0       0.75      0.83      0.79       320\n",
      "           1       0.56      0.43      0.49       156\n",
      "\n",
      "    accuracy                           0.70       476\n",
      "   macro avg       0.65      0.63      0.64       476\n",
      "weighted avg       0.69      0.70      0.69       476\n",
      "\n"
     ]
    }
   ],
   "source": [
    "# using this method: https://machinelearningmastery.com/light-gradient-boosted-machine-lightgbm-ensemble/\n",
    "\n",
    "#create the model\n",
    "\n",
    "lgbm_model_os= LGBMClassifier()\n",
    "\n",
    "# fit the model\n",
    "lgbm_model_os.fit(X_train_os, y_train_os)\n",
    "\n",
    "# make predictions for test data\n",
    "lgbm_y_pred_os = lgbm_model_os.predict(X_test)\n",
    "predictions = [round(value) for value in lgbm_y_pred_os]\n",
    "\n",
    "\n",
    "scores = cross_val_score(lgbm_model_os, X_train_os, y_train_os, cv=5, scoring='f1')\n",
    "print(scores)\n",
    "\n",
    "print(\"Mean CV F1 score for the positive class: %0.2f (+/- %0.2f)\" % (scores.mean(), scores.std() * 2))\n",
    "\n",
    "print('Test Classification Report, LGBM, Oversampled',classification_report(y_test, lgbm_y_pred_os))"
   ]
  },
  {
   "cell_type": "code",
   "execution_count": 58,
   "id": "a1f07ae0",
   "metadata": {},
   "outputs": [
    {
     "name": "stdout",
     "output_type": "stream",
     "text": [
      "[[267  53]\n",
      " [ 89  67]]\n"
     ]
    }
   ],
   "source": [
    "# confusion matrix\n",
    "cm = confusion_matrix(y_test, lgbm_y_pred_os)\n",
    "print(cm)"
   ]
  },
  {
   "cell_type": "code",
   "execution_count": 59,
   "id": "72fc361d",
   "metadata": {},
   "outputs": [
    {
     "data": {
      "text/html": [
       "<div>\n",
       "<style scoped>\n",
       "    .dataframe tbody tr th:only-of-type {\n",
       "        vertical-align: middle;\n",
       "    }\n",
       "\n",
       "    .dataframe tbody tr th {\n",
       "        vertical-align: top;\n",
       "    }\n",
       "\n",
       "    .dataframe thead th {\n",
       "        text-align: right;\n",
       "    }\n",
       "</style>\n",
       "<table border=\"1\" class=\"dataframe\">\n",
       "  <thead>\n",
       "    <tr style=\"text-align: right;\">\n",
       "      <th></th>\n",
       "      <th>Model</th>\n",
       "      <th>Mean CV F1 Score</th>\n",
       "      <th>F1 Pos Class Score</th>\n",
       "    </tr>\n",
       "  </thead>\n",
       "  <tbody>\n",
       "    <tr>\n",
       "      <th>0</th>\n",
       "      <td>Logistic Regression Base Model</td>\n",
       "      <td>0.42</td>\n",
       "      <td>0.47</td>\n",
       "    </tr>\n",
       "    <tr>\n",
       "      <th>1</th>\n",
       "      <td>Logistic Regression Oversampled Model</td>\n",
       "      <td>0.69</td>\n",
       "      <td>0.47</td>\n",
       "    </tr>\n",
       "    <tr>\n",
       "      <th>2</th>\n",
       "      <td>Logistic Regression Undersampled Model</td>\n",
       "      <td>0.72</td>\n",
       "      <td>0.53</td>\n",
       "    </tr>\n",
       "    <tr>\n",
       "      <th>3</th>\n",
       "      <td>Logistic Regression Oversampled, Tuned</td>\n",
       "      <td>0.72</td>\n",
       "      <td>0.47</td>\n",
       "    </tr>\n",
       "    <tr>\n",
       "      <th>4</th>\n",
       "      <td>Logistic Regression Undersampled, Tuned</td>\n",
       "      <td>0.77</td>\n",
       "      <td>0.53</td>\n",
       "    </tr>\n",
       "    <tr>\n",
       "      <th>5</th>\n",
       "      <td>Random Forest, Oversampled</td>\n",
       "      <td>0.79</td>\n",
       "      <td>0.40</td>\n",
       "    </tr>\n",
       "    <tr>\n",
       "      <th>6</th>\n",
       "      <td>Random Forest, Undersampled</td>\n",
       "      <td>0.75</td>\n",
       "      <td>0.51</td>\n",
       "    </tr>\n",
       "    <tr>\n",
       "      <th>7</th>\n",
       "      <td>Random Forest, Oversampled, Tuned</td>\n",
       "      <td>0.81</td>\n",
       "      <td>0.49</td>\n",
       "    </tr>\n",
       "    <tr>\n",
       "      <th>8</th>\n",
       "      <td>Random Forest, Undersampled, Tuned</td>\n",
       "      <td>0.77</td>\n",
       "      <td>0.52</td>\n",
       "    </tr>\n",
       "    <tr>\n",
       "      <th>9</th>\n",
       "      <td>XG Boost, Oversampled</td>\n",
       "      <td>0.79</td>\n",
       "      <td>0.48</td>\n",
       "    </tr>\n",
       "    <tr>\n",
       "      <th>10</th>\n",
       "      <td>XG Boost, Undersampled</td>\n",
       "      <td>0.75</td>\n",
       "      <td>0.55</td>\n",
       "    </tr>\n",
       "    <tr>\n",
       "      <th>11</th>\n",
       "      <td>XG Boost, Oversampled, Tuned</td>\n",
       "      <td>0.79</td>\n",
       "      <td>0.48</td>\n",
       "    </tr>\n",
       "    <tr>\n",
       "      <th>12</th>\n",
       "      <td>XG Boost, Undersampled, Tuned</td>\n",
       "      <td>0.76</td>\n",
       "      <td>0.57</td>\n",
       "    </tr>\n",
       "    <tr>\n",
       "      <th>13</th>\n",
       "      <td>LGBM Model, Oversampled</td>\n",
       "      <td>0.78</td>\n",
       "      <td>0.49</td>\n",
       "    </tr>\n",
       "  </tbody>\n",
       "</table>\n",
       "</div>"
      ],
      "text/plain": [
       "                                      Model  Mean CV F1 Score  \\\n",
       "0            Logistic Regression Base Model              0.42   \n",
       "1     Logistic Regression Oversampled Model              0.69   \n",
       "2    Logistic Regression Undersampled Model              0.72   \n",
       "3    Logistic Regression Oversampled, Tuned              0.72   \n",
       "4   Logistic Regression Undersampled, Tuned              0.77   \n",
       "5                Random Forest, Oversampled              0.79   \n",
       "6               Random Forest, Undersampled              0.75   \n",
       "7         Random Forest, Oversampled, Tuned              0.81   \n",
       "8        Random Forest, Undersampled, Tuned              0.77   \n",
       "9                     XG Boost, Oversampled              0.79   \n",
       "10                   XG Boost, Undersampled              0.75   \n",
       "11             XG Boost, Oversampled, Tuned              0.79   \n",
       "12            XG Boost, Undersampled, Tuned              0.76   \n",
       "13                  LGBM Model, Oversampled              0.78   \n",
       "\n",
       "    F1 Pos Class Score  \n",
       "0                 0.47  \n",
       "1                 0.47  \n",
       "2                 0.53  \n",
       "3                 0.47  \n",
       "4                 0.53  \n",
       "5                 0.40  \n",
       "6                 0.51  \n",
       "7                 0.49  \n",
       "8                 0.52  \n",
       "9                 0.48  \n",
       "10                0.55  \n",
       "11                0.48  \n",
       "12                0.57  \n",
       "13                0.49  "
      ]
     },
     "execution_count": 59,
     "metadata": {},
     "output_type": "execute_result"
    }
   ],
   "source": [
    "# Append the results to the DataFrame containing all of the results:\n",
    "new_results = pd.DataFrame([{'Model': 'LGBM Model, Oversampled', 'Mean CV F1 Score': round(scores.mean(),2), 'F1 Pos Class Score':0.49}])\n",
    "results_df = pd.concat([results_df, new_results], ignore_index=True)\n",
    "results_df"
   ]
  },
  {
   "cell_type": "markdown",
   "id": "288c3737",
   "metadata": {},
   "source": [
    "<b> Undersampled </b>"
   ]
  },
  {
   "cell_type": "code",
   "execution_count": 60,
   "id": "e3019c92",
   "metadata": {},
   "outputs": [
    {
     "name": "stdout",
     "output_type": "stream",
     "text": [
      "[0.82352941 0.73619632 0.75280899 0.75376884 0.71962617]\n",
      "Mean CV F1 score for the positive class: 0.76 (+/- 0.07)\n",
      "Test Classification Report, LGBM, Undersampled               precision    recall  f1-score   support\n",
      "\n",
      "           0       0.84      0.49      0.62       320\n",
      "           1       0.44      0.81      0.57       156\n",
      "\n",
      "    accuracy                           0.59       476\n",
      "   macro avg       0.64      0.65      0.59       476\n",
      "weighted avg       0.71      0.59      0.60       476\n",
      "\n"
     ]
    }
   ],
   "source": [
    "#create the model\n",
    "\n",
    "lgbm_model_us= LGBMClassifier()\n",
    "\n",
    "# fit the model\n",
    "lgbm_model_us.fit(X_train_us, y_train_us)\n",
    "\n",
    "# make predictions for test data\n",
    "lgbm_y_pred_us = lgbm_model_us.predict(X_test)\n",
    "predictions = [round(value) for value in lgbm_y_pred_us]\n",
    "\n",
    "\n",
    "scores = cross_val_score(lgbm_model_us, X_train_us, y_train_us, cv=5, scoring='f1')\n",
    "print(scores)\n",
    "\n",
    "print(\"Mean CV F1 score for the positive class: %0.2f (+/- %0.2f)\" % (scores.mean(), scores.std() * 2))\n",
    "\n",
    "print('Test Classification Report, LGBM, Undersampled',classification_report(y_test, lgbm_y_pred_us))"
   ]
  },
  {
   "cell_type": "code",
   "execution_count": 61,
   "id": "e9e10c84",
   "metadata": {},
   "outputs": [
    {
     "name": "stdout",
     "output_type": "stream",
     "text": [
      "[[157 163]\n",
      " [ 30 126]]\n"
     ]
    }
   ],
   "source": [
    "# confusion matrix\n",
    "cm = confusion_matrix(y_test, lgbm_y_pred_us)\n",
    "print(cm)"
   ]
  },
  {
   "cell_type": "code",
   "execution_count": 62,
   "id": "e2dd652d",
   "metadata": {},
   "outputs": [
    {
     "data": {
      "text/html": [
       "<div>\n",
       "<style scoped>\n",
       "    .dataframe tbody tr th:only-of-type {\n",
       "        vertical-align: middle;\n",
       "    }\n",
       "\n",
       "    .dataframe tbody tr th {\n",
       "        vertical-align: top;\n",
       "    }\n",
       "\n",
       "    .dataframe thead th {\n",
       "        text-align: right;\n",
       "    }\n",
       "</style>\n",
       "<table border=\"1\" class=\"dataframe\">\n",
       "  <thead>\n",
       "    <tr style=\"text-align: right;\">\n",
       "      <th></th>\n",
       "      <th>Model</th>\n",
       "      <th>Mean CV F1 Score</th>\n",
       "      <th>F1 Pos Class Score</th>\n",
       "    </tr>\n",
       "  </thead>\n",
       "  <tbody>\n",
       "    <tr>\n",
       "      <th>0</th>\n",
       "      <td>Logistic Regression Base Model</td>\n",
       "      <td>0.42</td>\n",
       "      <td>0.47</td>\n",
       "    </tr>\n",
       "    <tr>\n",
       "      <th>1</th>\n",
       "      <td>Logistic Regression Oversampled Model</td>\n",
       "      <td>0.69</td>\n",
       "      <td>0.47</td>\n",
       "    </tr>\n",
       "    <tr>\n",
       "      <th>2</th>\n",
       "      <td>Logistic Regression Undersampled Model</td>\n",
       "      <td>0.72</td>\n",
       "      <td>0.53</td>\n",
       "    </tr>\n",
       "    <tr>\n",
       "      <th>3</th>\n",
       "      <td>Logistic Regression Oversampled, Tuned</td>\n",
       "      <td>0.72</td>\n",
       "      <td>0.47</td>\n",
       "    </tr>\n",
       "    <tr>\n",
       "      <th>4</th>\n",
       "      <td>Logistic Regression Undersampled, Tuned</td>\n",
       "      <td>0.77</td>\n",
       "      <td>0.53</td>\n",
       "    </tr>\n",
       "    <tr>\n",
       "      <th>5</th>\n",
       "      <td>Random Forest, Oversampled</td>\n",
       "      <td>0.79</td>\n",
       "      <td>0.40</td>\n",
       "    </tr>\n",
       "    <tr>\n",
       "      <th>6</th>\n",
       "      <td>Random Forest, Undersampled</td>\n",
       "      <td>0.75</td>\n",
       "      <td>0.51</td>\n",
       "    </tr>\n",
       "    <tr>\n",
       "      <th>7</th>\n",
       "      <td>Random Forest, Oversampled, Tuned</td>\n",
       "      <td>0.81</td>\n",
       "      <td>0.49</td>\n",
       "    </tr>\n",
       "    <tr>\n",
       "      <th>8</th>\n",
       "      <td>Random Forest, Undersampled, Tuned</td>\n",
       "      <td>0.77</td>\n",
       "      <td>0.52</td>\n",
       "    </tr>\n",
       "    <tr>\n",
       "      <th>9</th>\n",
       "      <td>XG Boost, Oversampled</td>\n",
       "      <td>0.79</td>\n",
       "      <td>0.48</td>\n",
       "    </tr>\n",
       "    <tr>\n",
       "      <th>10</th>\n",
       "      <td>XG Boost, Undersampled</td>\n",
       "      <td>0.75</td>\n",
       "      <td>0.55</td>\n",
       "    </tr>\n",
       "    <tr>\n",
       "      <th>11</th>\n",
       "      <td>XG Boost, Oversampled, Tuned</td>\n",
       "      <td>0.79</td>\n",
       "      <td>0.48</td>\n",
       "    </tr>\n",
       "    <tr>\n",
       "      <th>12</th>\n",
       "      <td>XG Boost, Undersampled, Tuned</td>\n",
       "      <td>0.76</td>\n",
       "      <td>0.57</td>\n",
       "    </tr>\n",
       "    <tr>\n",
       "      <th>13</th>\n",
       "      <td>LGBM Model, Oversampled</td>\n",
       "      <td>0.78</td>\n",
       "      <td>0.49</td>\n",
       "    </tr>\n",
       "    <tr>\n",
       "      <th>14</th>\n",
       "      <td>LGBM Model, Undersampled</td>\n",
       "      <td>0.76</td>\n",
       "      <td>0.57</td>\n",
       "    </tr>\n",
       "  </tbody>\n",
       "</table>\n",
       "</div>"
      ],
      "text/plain": [
       "                                      Model  Mean CV F1 Score  \\\n",
       "0            Logistic Regression Base Model              0.42   \n",
       "1     Logistic Regression Oversampled Model              0.69   \n",
       "2    Logistic Regression Undersampled Model              0.72   \n",
       "3    Logistic Regression Oversampled, Tuned              0.72   \n",
       "4   Logistic Regression Undersampled, Tuned              0.77   \n",
       "5                Random Forest, Oversampled              0.79   \n",
       "6               Random Forest, Undersampled              0.75   \n",
       "7         Random Forest, Oversampled, Tuned              0.81   \n",
       "8        Random Forest, Undersampled, Tuned              0.77   \n",
       "9                     XG Boost, Oversampled              0.79   \n",
       "10                   XG Boost, Undersampled              0.75   \n",
       "11             XG Boost, Oversampled, Tuned              0.79   \n",
       "12            XG Boost, Undersampled, Tuned              0.76   \n",
       "13                  LGBM Model, Oversampled              0.78   \n",
       "14                 LGBM Model, Undersampled              0.76   \n",
       "\n",
       "    F1 Pos Class Score  \n",
       "0                 0.47  \n",
       "1                 0.47  \n",
       "2                 0.53  \n",
       "3                 0.47  \n",
       "4                 0.53  \n",
       "5                 0.40  \n",
       "6                 0.51  \n",
       "7                 0.49  \n",
       "8                 0.52  \n",
       "9                 0.48  \n",
       "10                0.55  \n",
       "11                0.48  \n",
       "12                0.57  \n",
       "13                0.49  \n",
       "14                0.57  "
      ]
     },
     "execution_count": 62,
     "metadata": {},
     "output_type": "execute_result"
    }
   ],
   "source": [
    "# Append the results to the DataFrame containing all of the results:\n",
    "new_results = pd.DataFrame([{'Model': 'LGBM Model, Undersampled', 'Mean CV F1 Score': round(scores.mean(),2), 'F1 Pos Class Score':0.57}])\n",
    "results_df = pd.concat([results_df, new_results], ignore_index=True)\n",
    "results_df"
   ]
  },
  {
   "cell_type": "markdown",
   "id": "3f1946bb",
   "metadata": {},
   "source": [
    "### Hyperparameter tuning"
   ]
  },
  {
   "cell_type": "code",
   "execution_count": 63,
   "id": "185f1297",
   "metadata": {},
   "outputs": [
    {
     "name": "stdout",
     "output_type": "stream",
     "text": [
      "Fitting 5 folds for each of 54 candidates, totalling 270 fits\n",
      "{'learning_rate': 0.2, 'max_depth': 7, 'min_child_samples': 20, 'num_leaves': 31}\n",
      "0.8006962542460357\n"
     ]
    }
   ],
   "source": [
    "grid = {\n",
    "    'num_leaves': [31, 127],\n",
    "    'min_child_samples': [20, 30, 40],\n",
    "    'max_depth': [5, 6, 7],\n",
    "    'learning_rate': [0.01, 0.1, 0.2],\n",
    "}\n",
    "\n",
    "# Initialize the classifier\n",
    "lgbm_model_os = LGBMClassifier()\n",
    "\n",
    "# Initialize GridSearchCV\n",
    "grid_search = GridSearchCV(estimator=lgbm_model_os, param_grid=grid, cv=5, scoring='f1', verbose=1, n_jobs=-1)\n",
    "\n",
    "# Fit GridSearchCV\n",
    "grid_search.fit(X_train_os, y_train_os)\n",
    "\n",
    "# Print the best parameters found\n",
    "print(grid_search.best_params_)\n",
    "print(grid_search.best_score_)"
   ]
  },
  {
   "cell_type": "code",
   "execution_count": 64,
   "id": "2e00274c",
   "metadata": {},
   "outputs": [
    {
     "name": "stdout",
     "output_type": "stream",
     "text": [
      "[0.67507886 0.68125    0.82506527 0.91428571 0.90780142]\n",
      "Mean CV F1 score for the positive class: 0.80 (+/- 0.21)\n",
      "Test Classification Report, LGBM, Oversampled               precision    recall  f1-score   support\n",
      "\n",
      "           0       0.74      0.83      0.78       320\n",
      "           1       0.54      0.39      0.45       156\n",
      "\n",
      "    accuracy                           0.69       476\n",
      "   macro avg       0.64      0.61      0.62       476\n",
      "weighted avg       0.67      0.69      0.67       476\n",
      "\n"
     ]
    }
   ],
   "source": [
    "# apply the tuned hyperparameters:\n",
    "\n",
    "lgbm_model_os_tuned= LGBMClassifier(num_leaves=31,min_child_samples=20,max_depth=7,learning_rate=0.2)\n",
    "\n",
    "# fit the model\n",
    "lgbm_model_os_tuned.fit(X_train_os, y_train_os)\n",
    "\n",
    "# make predictions for test data\n",
    "lgbm_y_pred_os_tuned = lgbm_model_os_tuned.predict(X_test)\n",
    "predictions = [round(value) for value in lgbm_y_pred_os_tuned]\n",
    "\n",
    "\n",
    "scores = cross_val_score(lgbm_model_os_tuned, X_train_os, y_train_os, cv=5, scoring='f1')\n",
    "print(scores)\n",
    "\n",
    "print(\"Mean CV F1 score for the positive class: %0.2f (+/- %0.2f)\" % (scores.mean(), scores.std() * 2))\n",
    "\n",
    "print('Test Classification Report, LGBM, Oversampled',classification_report(y_test, lgbm_y_pred_os_tuned))"
   ]
  },
  {
   "cell_type": "code",
   "execution_count": 65,
   "id": "83d2c17b",
   "metadata": {},
   "outputs": [
    {
     "name": "stdout",
     "output_type": "stream",
     "text": [
      "[[267  53]\n",
      " [ 95  61]]\n"
     ]
    }
   ],
   "source": [
    "# confusion matrix\n",
    "cm = confusion_matrix(y_test, lgbm_y_pred_os_tuned)\n",
    "print(cm)"
   ]
  },
  {
   "cell_type": "code",
   "execution_count": 66,
   "id": "d6a92979",
   "metadata": {},
   "outputs": [
    {
     "data": {
      "text/html": [
       "<div>\n",
       "<style scoped>\n",
       "    .dataframe tbody tr th:only-of-type {\n",
       "        vertical-align: middle;\n",
       "    }\n",
       "\n",
       "    .dataframe tbody tr th {\n",
       "        vertical-align: top;\n",
       "    }\n",
       "\n",
       "    .dataframe thead th {\n",
       "        text-align: right;\n",
       "    }\n",
       "</style>\n",
       "<table border=\"1\" class=\"dataframe\">\n",
       "  <thead>\n",
       "    <tr style=\"text-align: right;\">\n",
       "      <th></th>\n",
       "      <th>Model</th>\n",
       "      <th>Mean CV F1 Score</th>\n",
       "      <th>F1 Pos Class Score</th>\n",
       "    </tr>\n",
       "  </thead>\n",
       "  <tbody>\n",
       "    <tr>\n",
       "      <th>0</th>\n",
       "      <td>Logistic Regression Base Model</td>\n",
       "      <td>0.42</td>\n",
       "      <td>0.47</td>\n",
       "    </tr>\n",
       "    <tr>\n",
       "      <th>1</th>\n",
       "      <td>Logistic Regression Oversampled Model</td>\n",
       "      <td>0.69</td>\n",
       "      <td>0.47</td>\n",
       "    </tr>\n",
       "    <tr>\n",
       "      <th>2</th>\n",
       "      <td>Logistic Regression Undersampled Model</td>\n",
       "      <td>0.72</td>\n",
       "      <td>0.53</td>\n",
       "    </tr>\n",
       "    <tr>\n",
       "      <th>3</th>\n",
       "      <td>Logistic Regression Oversampled, Tuned</td>\n",
       "      <td>0.72</td>\n",
       "      <td>0.47</td>\n",
       "    </tr>\n",
       "    <tr>\n",
       "      <th>4</th>\n",
       "      <td>Logistic Regression Undersampled, Tuned</td>\n",
       "      <td>0.77</td>\n",
       "      <td>0.53</td>\n",
       "    </tr>\n",
       "    <tr>\n",
       "      <th>5</th>\n",
       "      <td>Random Forest, Oversampled</td>\n",
       "      <td>0.79</td>\n",
       "      <td>0.40</td>\n",
       "    </tr>\n",
       "    <tr>\n",
       "      <th>6</th>\n",
       "      <td>Random Forest, Undersampled</td>\n",
       "      <td>0.75</td>\n",
       "      <td>0.51</td>\n",
       "    </tr>\n",
       "    <tr>\n",
       "      <th>7</th>\n",
       "      <td>Random Forest, Oversampled, Tuned</td>\n",
       "      <td>0.81</td>\n",
       "      <td>0.49</td>\n",
       "    </tr>\n",
       "    <tr>\n",
       "      <th>8</th>\n",
       "      <td>Random Forest, Undersampled, Tuned</td>\n",
       "      <td>0.77</td>\n",
       "      <td>0.52</td>\n",
       "    </tr>\n",
       "    <tr>\n",
       "      <th>9</th>\n",
       "      <td>XG Boost, Oversampled</td>\n",
       "      <td>0.79</td>\n",
       "      <td>0.48</td>\n",
       "    </tr>\n",
       "    <tr>\n",
       "      <th>10</th>\n",
       "      <td>XG Boost, Undersampled</td>\n",
       "      <td>0.75</td>\n",
       "      <td>0.55</td>\n",
       "    </tr>\n",
       "    <tr>\n",
       "      <th>11</th>\n",
       "      <td>XG Boost, Oversampled, Tuned</td>\n",
       "      <td>0.79</td>\n",
       "      <td>0.48</td>\n",
       "    </tr>\n",
       "    <tr>\n",
       "      <th>12</th>\n",
       "      <td>XG Boost, Undersampled, Tuned</td>\n",
       "      <td>0.76</td>\n",
       "      <td>0.57</td>\n",
       "    </tr>\n",
       "    <tr>\n",
       "      <th>13</th>\n",
       "      <td>LGBM Model, Oversampled</td>\n",
       "      <td>0.78</td>\n",
       "      <td>0.49</td>\n",
       "    </tr>\n",
       "    <tr>\n",
       "      <th>14</th>\n",
       "      <td>LGBM Model, Undersampled</td>\n",
       "      <td>0.76</td>\n",
       "      <td>0.57</td>\n",
       "    </tr>\n",
       "    <tr>\n",
       "      <th>15</th>\n",
       "      <td>LGBM Model, Oversampled, tuned</td>\n",
       "      <td>0.80</td>\n",
       "      <td>0.45</td>\n",
       "    </tr>\n",
       "  </tbody>\n",
       "</table>\n",
       "</div>"
      ],
      "text/plain": [
       "                                      Model  Mean CV F1 Score  \\\n",
       "0            Logistic Regression Base Model              0.42   \n",
       "1     Logistic Regression Oversampled Model              0.69   \n",
       "2    Logistic Regression Undersampled Model              0.72   \n",
       "3    Logistic Regression Oversampled, Tuned              0.72   \n",
       "4   Logistic Regression Undersampled, Tuned              0.77   \n",
       "5                Random Forest, Oversampled              0.79   \n",
       "6               Random Forest, Undersampled              0.75   \n",
       "7         Random Forest, Oversampled, Tuned              0.81   \n",
       "8        Random Forest, Undersampled, Tuned              0.77   \n",
       "9                     XG Boost, Oversampled              0.79   \n",
       "10                   XG Boost, Undersampled              0.75   \n",
       "11             XG Boost, Oversampled, Tuned              0.79   \n",
       "12            XG Boost, Undersampled, Tuned              0.76   \n",
       "13                  LGBM Model, Oversampled              0.78   \n",
       "14                 LGBM Model, Undersampled              0.76   \n",
       "15           LGBM Model, Oversampled, tuned              0.80   \n",
       "\n",
       "    F1 Pos Class Score  \n",
       "0                 0.47  \n",
       "1                 0.47  \n",
       "2                 0.53  \n",
       "3                 0.47  \n",
       "4                 0.53  \n",
       "5                 0.40  \n",
       "6                 0.51  \n",
       "7                 0.49  \n",
       "8                 0.52  \n",
       "9                 0.48  \n",
       "10                0.55  \n",
       "11                0.48  \n",
       "12                0.57  \n",
       "13                0.49  \n",
       "14                0.57  \n",
       "15                0.45  "
      ]
     },
     "execution_count": 66,
     "metadata": {},
     "output_type": "execute_result"
    }
   ],
   "source": [
    "# Append the results to the DataFrame containing all of the results:\n",
    "new_results = pd.DataFrame([{'Model': 'LGBM Model, Oversampled, tuned', 'Mean CV F1 Score': round(scores.mean(),2), 'F1 Pos Class Score':0.45}])\n",
    "results_df = pd.concat([results_df, new_results], ignore_index=True)\n",
    "results_df"
   ]
  },
  {
   "cell_type": "markdown",
   "id": "cdd25326",
   "metadata": {},
   "source": [
    "<b>Undersampled</b>"
   ]
  },
  {
   "cell_type": "code",
   "execution_count": 67,
   "id": "70d452d7",
   "metadata": {},
   "outputs": [
    {
     "name": "stdout",
     "output_type": "stream",
     "text": [
      "Fitting 5 folds for each of 54 candidates, totalling 270 fits\n",
      "{'learning_rate': 0.2, 'max_depth': 7, 'min_child_samples': 20, 'num_leaves': 31}\n",
      "0.7612449110387799\n"
     ]
    }
   ],
   "source": [
    "grid = {\n",
    "    'num_leaves': [31, 127],\n",
    "    'min_child_samples': [20, 30, 40],\n",
    "    'max_depth': [5, 6, 7],\n",
    "    'learning_rate': [0.01, 0.1, 0.2],\n",
    "}\n",
    "\n",
    "# Initialize the classifier\n",
    "lgbm_model_us = LGBMClassifier()\n",
    "\n",
    "# Initialize GridSearchCV\n",
    "grid_search = GridSearchCV(estimator=lgbm_model_us, param_grid=grid, cv=5, scoring='f1', verbose=1, n_jobs=-1)\n",
    "\n",
    "# Fit GridSearchCV\n",
    "grid_search.fit(X_train_us, y_train_us)\n",
    "\n",
    "# Print the best parameters found\n",
    "print(grid_search.best_params_)\n",
    "print(grid_search.best_score_)"
   ]
  },
  {
   "cell_type": "code",
   "execution_count": 68,
   "id": "ddffcffe",
   "metadata": {},
   "outputs": [
    {
     "name": "stdout",
     "output_type": "stream",
     "text": [
      "[0.83529412 0.71604938 0.76300578 0.75757576 0.73429952]\n",
      "Mean CV F1 score for the positive class: 0.76 (+/- 0.08)\n",
      "Test Classification Report, LGBM, Undersampled               precision    recall  f1-score   support\n",
      "\n",
      "           0       0.81      0.50      0.62       320\n",
      "           1       0.42      0.76      0.54       156\n",
      "\n",
      "    accuracy                           0.58       476\n",
      "   macro avg       0.62      0.63      0.58       476\n",
      "weighted avg       0.68      0.58      0.59       476\n",
      "\n"
     ]
    }
   ],
   "source": [
    "# apply the tuned hyperparameters:\n",
    "\n",
    "lgbm_model_us_tuned= LGBMClassifier(num_leaves=31,min_child_samples=20,max_depth=7,learning_rate=0.2)\n",
    "\n",
    "# fit the model\n",
    "lgbm_model_us_tuned.fit(X_train_us, y_train_us)\n",
    "\n",
    "# make predictions for test data\n",
    "lgbm_y_pred_us_tuned = lgbm_model_us_tuned.predict(X_test)\n",
    "predictions = [round(value) for value in lgbm_y_pred_us_tuned]\n",
    "\n",
    "\n",
    "scores = cross_val_score(lgbm_model_us_tuned, X_train_us, y_train_us, cv=5, scoring='f1')\n",
    "print(scores)\n",
    "\n",
    "print(\"Mean CV F1 score for the positive class: %0.2f (+/- %0.2f)\" % (scores.mean(), scores.std() * 2))\n",
    "\n",
    "print('Test Classification Report, LGBM, Undersampled',classification_report(y_test, lgbm_y_pred_us_tuned))"
   ]
  },
  {
   "cell_type": "code",
   "execution_count": 69,
   "id": "bf0b99d1",
   "metadata": {},
   "outputs": [
    {
     "name": "stdout",
     "output_type": "stream",
     "text": [
      "[[160 160]\n",
      " [ 38 118]]\n"
     ]
    }
   ],
   "source": [
    "# confusion matrix\n",
    "cm = confusion_matrix(y_test, lgbm_y_pred_us_tuned)\n",
    "print(cm)"
   ]
  },
  {
   "cell_type": "code",
   "execution_count": 70,
   "id": "7c9f01a8",
   "metadata": {},
   "outputs": [
    {
     "data": {
      "text/html": [
       "<div>\n",
       "<style scoped>\n",
       "    .dataframe tbody tr th:only-of-type {\n",
       "        vertical-align: middle;\n",
       "    }\n",
       "\n",
       "    .dataframe tbody tr th {\n",
       "        vertical-align: top;\n",
       "    }\n",
       "\n",
       "    .dataframe thead th {\n",
       "        text-align: right;\n",
       "    }\n",
       "</style>\n",
       "<table border=\"1\" class=\"dataframe\">\n",
       "  <thead>\n",
       "    <tr style=\"text-align: right;\">\n",
       "      <th></th>\n",
       "      <th>Model</th>\n",
       "      <th>Mean CV F1 Score</th>\n",
       "      <th>F1 Pos Class Score</th>\n",
       "    </tr>\n",
       "  </thead>\n",
       "  <tbody>\n",
       "    <tr>\n",
       "      <th>0</th>\n",
       "      <td>Logistic Regression Base Model</td>\n",
       "      <td>0.42</td>\n",
       "      <td>0.47</td>\n",
       "    </tr>\n",
       "    <tr>\n",
       "      <th>1</th>\n",
       "      <td>Logistic Regression Oversampled Model</td>\n",
       "      <td>0.69</td>\n",
       "      <td>0.47</td>\n",
       "    </tr>\n",
       "    <tr>\n",
       "      <th>2</th>\n",
       "      <td>Logistic Regression Undersampled Model</td>\n",
       "      <td>0.72</td>\n",
       "      <td>0.53</td>\n",
       "    </tr>\n",
       "    <tr>\n",
       "      <th>3</th>\n",
       "      <td>Logistic Regression Oversampled, Tuned</td>\n",
       "      <td>0.72</td>\n",
       "      <td>0.47</td>\n",
       "    </tr>\n",
       "    <tr>\n",
       "      <th>4</th>\n",
       "      <td>Logistic Regression Undersampled, Tuned</td>\n",
       "      <td>0.77</td>\n",
       "      <td>0.53</td>\n",
       "    </tr>\n",
       "    <tr>\n",
       "      <th>5</th>\n",
       "      <td>Random Forest, Oversampled</td>\n",
       "      <td>0.79</td>\n",
       "      <td>0.40</td>\n",
       "    </tr>\n",
       "    <tr>\n",
       "      <th>6</th>\n",
       "      <td>Random Forest, Undersampled</td>\n",
       "      <td>0.75</td>\n",
       "      <td>0.51</td>\n",
       "    </tr>\n",
       "    <tr>\n",
       "      <th>7</th>\n",
       "      <td>Random Forest, Oversampled, Tuned</td>\n",
       "      <td>0.81</td>\n",
       "      <td>0.49</td>\n",
       "    </tr>\n",
       "    <tr>\n",
       "      <th>8</th>\n",
       "      <td>Random Forest, Undersampled, Tuned</td>\n",
       "      <td>0.77</td>\n",
       "      <td>0.52</td>\n",
       "    </tr>\n",
       "    <tr>\n",
       "      <th>9</th>\n",
       "      <td>XG Boost, Oversampled</td>\n",
       "      <td>0.79</td>\n",
       "      <td>0.48</td>\n",
       "    </tr>\n",
       "    <tr>\n",
       "      <th>10</th>\n",
       "      <td>XG Boost, Undersampled</td>\n",
       "      <td>0.75</td>\n",
       "      <td>0.55</td>\n",
       "    </tr>\n",
       "    <tr>\n",
       "      <th>11</th>\n",
       "      <td>XG Boost, Oversampled, Tuned</td>\n",
       "      <td>0.79</td>\n",
       "      <td>0.48</td>\n",
       "    </tr>\n",
       "    <tr>\n",
       "      <th>12</th>\n",
       "      <td>XG Boost, Undersampled, Tuned</td>\n",
       "      <td>0.76</td>\n",
       "      <td>0.57</td>\n",
       "    </tr>\n",
       "    <tr>\n",
       "      <th>13</th>\n",
       "      <td>LGBM Model, Oversampled</td>\n",
       "      <td>0.78</td>\n",
       "      <td>0.49</td>\n",
       "    </tr>\n",
       "    <tr>\n",
       "      <th>14</th>\n",
       "      <td>LGBM Model, Undersampled</td>\n",
       "      <td>0.76</td>\n",
       "      <td>0.57</td>\n",
       "    </tr>\n",
       "    <tr>\n",
       "      <th>15</th>\n",
       "      <td>LGBM Model, Oversampled, tuned</td>\n",
       "      <td>0.80</td>\n",
       "      <td>0.45</td>\n",
       "    </tr>\n",
       "    <tr>\n",
       "      <th>16</th>\n",
       "      <td>LGBM Model, Undersampled, tuned</td>\n",
       "      <td>0.76</td>\n",
       "      <td>0.54</td>\n",
       "    </tr>\n",
       "  </tbody>\n",
       "</table>\n",
       "</div>"
      ],
      "text/plain": [
       "                                      Model  Mean CV F1 Score  \\\n",
       "0            Logistic Regression Base Model              0.42   \n",
       "1     Logistic Regression Oversampled Model              0.69   \n",
       "2    Logistic Regression Undersampled Model              0.72   \n",
       "3    Logistic Regression Oversampled, Tuned              0.72   \n",
       "4   Logistic Regression Undersampled, Tuned              0.77   \n",
       "5                Random Forest, Oversampled              0.79   \n",
       "6               Random Forest, Undersampled              0.75   \n",
       "7         Random Forest, Oversampled, Tuned              0.81   \n",
       "8        Random Forest, Undersampled, Tuned              0.77   \n",
       "9                     XG Boost, Oversampled              0.79   \n",
       "10                   XG Boost, Undersampled              0.75   \n",
       "11             XG Boost, Oversampled, Tuned              0.79   \n",
       "12            XG Boost, Undersampled, Tuned              0.76   \n",
       "13                  LGBM Model, Oversampled              0.78   \n",
       "14                 LGBM Model, Undersampled              0.76   \n",
       "15           LGBM Model, Oversampled, tuned              0.80   \n",
       "16          LGBM Model, Undersampled, tuned              0.76   \n",
       "\n",
       "    F1 Pos Class Score  \n",
       "0                 0.47  \n",
       "1                 0.47  \n",
       "2                 0.53  \n",
       "3                 0.47  \n",
       "4                 0.53  \n",
       "5                 0.40  \n",
       "6                 0.51  \n",
       "7                 0.49  \n",
       "8                 0.52  \n",
       "9                 0.48  \n",
       "10                0.55  \n",
       "11                0.48  \n",
       "12                0.57  \n",
       "13                0.49  \n",
       "14                0.57  \n",
       "15                0.45  \n",
       "16                0.54  "
      ]
     },
     "execution_count": 70,
     "metadata": {},
     "output_type": "execute_result"
    }
   ],
   "source": [
    "# Append the results to the DataFrame containing all of the results:\n",
    "new_results = pd.DataFrame([{'Model': 'LGBM Model, Undersampled, tuned', 'Mean CV F1 Score': round(scores.mean(),2), 'F1 Pos Class Score':0.54}])\n",
    "results_df = pd.concat([results_df, new_results], ignore_index=True)\n",
    "results_df"
   ]
  },
  {
   "cell_type": "markdown",
   "id": "bfddc960",
   "metadata": {},
   "source": [
    "This is actually worse than when it was untuned."
   ]
  },
  {
   "cell_type": "code",
   "execution_count": 71,
   "id": "64c72203",
   "metadata": {},
   "outputs": [
    {
     "data": {
      "text/html": [
       "<div>\n",
       "<style scoped>\n",
       "    .dataframe tbody tr th:only-of-type {\n",
       "        vertical-align: middle;\n",
       "    }\n",
       "\n",
       "    .dataframe tbody tr th {\n",
       "        vertical-align: top;\n",
       "    }\n",
       "\n",
       "    .dataframe thead th {\n",
       "        text-align: right;\n",
       "    }\n",
       "</style>\n",
       "<table border=\"1\" class=\"dataframe\">\n",
       "  <thead>\n",
       "    <tr style=\"text-align: right;\">\n",
       "      <th></th>\n",
       "      <th>Model</th>\n",
       "      <th>Mean CV F1 Score</th>\n",
       "      <th>F1 Pos Class Score</th>\n",
       "    </tr>\n",
       "  </thead>\n",
       "  <tbody>\n",
       "    <tr>\n",
       "      <th>5</th>\n",
       "      <td>Random Forest, Oversampled</td>\n",
       "      <td>0.79</td>\n",
       "      <td>0.40</td>\n",
       "    </tr>\n",
       "    <tr>\n",
       "      <th>15</th>\n",
       "      <td>LGBM Model, Oversampled, tuned</td>\n",
       "      <td>0.80</td>\n",
       "      <td>0.45</td>\n",
       "    </tr>\n",
       "    <tr>\n",
       "      <th>0</th>\n",
       "      <td>Logistic Regression Base Model</td>\n",
       "      <td>0.42</td>\n",
       "      <td>0.47</td>\n",
       "    </tr>\n",
       "    <tr>\n",
       "      <th>1</th>\n",
       "      <td>Logistic Regression Oversampled Model</td>\n",
       "      <td>0.69</td>\n",
       "      <td>0.47</td>\n",
       "    </tr>\n",
       "    <tr>\n",
       "      <th>3</th>\n",
       "      <td>Logistic Regression Oversampled, Tuned</td>\n",
       "      <td>0.72</td>\n",
       "      <td>0.47</td>\n",
       "    </tr>\n",
       "    <tr>\n",
       "      <th>11</th>\n",
       "      <td>XG Boost, Oversampled, Tuned</td>\n",
       "      <td>0.79</td>\n",
       "      <td>0.48</td>\n",
       "    </tr>\n",
       "    <tr>\n",
       "      <th>9</th>\n",
       "      <td>XG Boost, Oversampled</td>\n",
       "      <td>0.79</td>\n",
       "      <td>0.48</td>\n",
       "    </tr>\n",
       "    <tr>\n",
       "      <th>13</th>\n",
       "      <td>LGBM Model, Oversampled</td>\n",
       "      <td>0.78</td>\n",
       "      <td>0.49</td>\n",
       "    </tr>\n",
       "    <tr>\n",
       "      <th>7</th>\n",
       "      <td>Random Forest, Oversampled, Tuned</td>\n",
       "      <td>0.81</td>\n",
       "      <td>0.49</td>\n",
       "    </tr>\n",
       "    <tr>\n",
       "      <th>6</th>\n",
       "      <td>Random Forest, Undersampled</td>\n",
       "      <td>0.75</td>\n",
       "      <td>0.51</td>\n",
       "    </tr>\n",
       "    <tr>\n",
       "      <th>8</th>\n",
       "      <td>Random Forest, Undersampled, Tuned</td>\n",
       "      <td>0.77</td>\n",
       "      <td>0.52</td>\n",
       "    </tr>\n",
       "    <tr>\n",
       "      <th>4</th>\n",
       "      <td>Logistic Regression Undersampled, Tuned</td>\n",
       "      <td>0.77</td>\n",
       "      <td>0.53</td>\n",
       "    </tr>\n",
       "    <tr>\n",
       "      <th>2</th>\n",
       "      <td>Logistic Regression Undersampled Model</td>\n",
       "      <td>0.72</td>\n",
       "      <td>0.53</td>\n",
       "    </tr>\n",
       "    <tr>\n",
       "      <th>16</th>\n",
       "      <td>LGBM Model, Undersampled, tuned</td>\n",
       "      <td>0.76</td>\n",
       "      <td>0.54</td>\n",
       "    </tr>\n",
       "    <tr>\n",
       "      <th>10</th>\n",
       "      <td>XG Boost, Undersampled</td>\n",
       "      <td>0.75</td>\n",
       "      <td>0.55</td>\n",
       "    </tr>\n",
       "    <tr>\n",
       "      <th>12</th>\n",
       "      <td>XG Boost, Undersampled, Tuned</td>\n",
       "      <td>0.76</td>\n",
       "      <td>0.57</td>\n",
       "    </tr>\n",
       "    <tr>\n",
       "      <th>14</th>\n",
       "      <td>LGBM Model, Undersampled</td>\n",
       "      <td>0.76</td>\n",
       "      <td>0.57</td>\n",
       "    </tr>\n",
       "  </tbody>\n",
       "</table>\n",
       "</div>"
      ],
      "text/plain": [
       "                                      Model  Mean CV F1 Score  \\\n",
       "5                Random Forest, Oversampled              0.79   \n",
       "15           LGBM Model, Oversampled, tuned              0.80   \n",
       "0            Logistic Regression Base Model              0.42   \n",
       "1     Logistic Regression Oversampled Model              0.69   \n",
       "3    Logistic Regression Oversampled, Tuned              0.72   \n",
       "11             XG Boost, Oversampled, Tuned              0.79   \n",
       "9                     XG Boost, Oversampled              0.79   \n",
       "13                  LGBM Model, Oversampled              0.78   \n",
       "7         Random Forest, Oversampled, Tuned              0.81   \n",
       "6               Random Forest, Undersampled              0.75   \n",
       "8        Random Forest, Undersampled, Tuned              0.77   \n",
       "4   Logistic Regression Undersampled, Tuned              0.77   \n",
       "2    Logistic Regression Undersampled Model              0.72   \n",
       "16          LGBM Model, Undersampled, tuned              0.76   \n",
       "10                   XG Boost, Undersampled              0.75   \n",
       "12            XG Boost, Undersampled, Tuned              0.76   \n",
       "14                 LGBM Model, Undersampled              0.76   \n",
       "\n",
       "    F1 Pos Class Score  \n",
       "5                 0.40  \n",
       "15                0.45  \n",
       "0                 0.47  \n",
       "1                 0.47  \n",
       "3                 0.47  \n",
       "11                0.48  \n",
       "9                 0.48  \n",
       "13                0.49  \n",
       "7                 0.49  \n",
       "6                 0.51  \n",
       "8                 0.52  \n",
       "4                 0.53  \n",
       "2                 0.53  \n",
       "16                0.54  \n",
       "10                0.55  \n",
       "12                0.57  \n",
       "14                0.57  "
      ]
     },
     "execution_count": 71,
     "metadata": {},
     "output_type": "execute_result"
    }
   ],
   "source": [
    "# Sort results by F1 pos class score\n",
    "results_df.sort_values(by='F1 Pos Class Score')"
   ]
  },
  {
   "cell_type": "code",
   "execution_count": 72,
   "id": "06b2f1f8",
   "metadata": {},
   "outputs": [
    {
     "data": {
      "text/html": [
       "<div>\n",
       "<style scoped>\n",
       "    .dataframe tbody tr th:only-of-type {\n",
       "        vertical-align: middle;\n",
       "    }\n",
       "\n",
       "    .dataframe tbody tr th {\n",
       "        vertical-align: top;\n",
       "    }\n",
       "\n",
       "    .dataframe thead th {\n",
       "        text-align: right;\n",
       "    }\n",
       "</style>\n",
       "<table border=\"1\" class=\"dataframe\">\n",
       "  <thead>\n",
       "    <tr style=\"text-align: right;\">\n",
       "      <th></th>\n",
       "      <th>Model</th>\n",
       "      <th>Mean CV F1 Score</th>\n",
       "      <th>F1 Pos Class Score</th>\n",
       "    </tr>\n",
       "  </thead>\n",
       "  <tbody>\n",
       "    <tr>\n",
       "      <th>0</th>\n",
       "      <td>Logistic Regression Base Model</td>\n",
       "      <td>0.42</td>\n",
       "      <td>0.47</td>\n",
       "    </tr>\n",
       "    <tr>\n",
       "      <th>1</th>\n",
       "      <td>Logistic Regression Oversampled Model</td>\n",
       "      <td>0.69</td>\n",
       "      <td>0.47</td>\n",
       "    </tr>\n",
       "    <tr>\n",
       "      <th>2</th>\n",
       "      <td>Logistic Regression Undersampled Model</td>\n",
       "      <td>0.72</td>\n",
       "      <td>0.53</td>\n",
       "    </tr>\n",
       "    <tr>\n",
       "      <th>3</th>\n",
       "      <td>Logistic Regression Oversampled, Tuned</td>\n",
       "      <td>0.72</td>\n",
       "      <td>0.47</td>\n",
       "    </tr>\n",
       "    <tr>\n",
       "      <th>6</th>\n",
       "      <td>Random Forest, Undersampled</td>\n",
       "      <td>0.75</td>\n",
       "      <td>0.51</td>\n",
       "    </tr>\n",
       "    <tr>\n",
       "      <th>10</th>\n",
       "      <td>XG Boost, Undersampled</td>\n",
       "      <td>0.75</td>\n",
       "      <td>0.55</td>\n",
       "    </tr>\n",
       "    <tr>\n",
       "      <th>14</th>\n",
       "      <td>LGBM Model, Undersampled</td>\n",
       "      <td>0.76</td>\n",
       "      <td>0.57</td>\n",
       "    </tr>\n",
       "    <tr>\n",
       "      <th>12</th>\n",
       "      <td>XG Boost, Undersampled, Tuned</td>\n",
       "      <td>0.76</td>\n",
       "      <td>0.57</td>\n",
       "    </tr>\n",
       "    <tr>\n",
       "      <th>16</th>\n",
       "      <td>LGBM Model, Undersampled, tuned</td>\n",
       "      <td>0.76</td>\n",
       "      <td>0.54</td>\n",
       "    </tr>\n",
       "    <tr>\n",
       "      <th>4</th>\n",
       "      <td>Logistic Regression Undersampled, Tuned</td>\n",
       "      <td>0.77</td>\n",
       "      <td>0.53</td>\n",
       "    </tr>\n",
       "    <tr>\n",
       "      <th>8</th>\n",
       "      <td>Random Forest, Undersampled, Tuned</td>\n",
       "      <td>0.77</td>\n",
       "      <td>0.52</td>\n",
       "    </tr>\n",
       "    <tr>\n",
       "      <th>13</th>\n",
       "      <td>LGBM Model, Oversampled</td>\n",
       "      <td>0.78</td>\n",
       "      <td>0.49</td>\n",
       "    </tr>\n",
       "    <tr>\n",
       "      <th>9</th>\n",
       "      <td>XG Boost, Oversampled</td>\n",
       "      <td>0.79</td>\n",
       "      <td>0.48</td>\n",
       "    </tr>\n",
       "    <tr>\n",
       "      <th>11</th>\n",
       "      <td>XG Boost, Oversampled, Tuned</td>\n",
       "      <td>0.79</td>\n",
       "      <td>0.48</td>\n",
       "    </tr>\n",
       "    <tr>\n",
       "      <th>5</th>\n",
       "      <td>Random Forest, Oversampled</td>\n",
       "      <td>0.79</td>\n",
       "      <td>0.40</td>\n",
       "    </tr>\n",
       "    <tr>\n",
       "      <th>15</th>\n",
       "      <td>LGBM Model, Oversampled, tuned</td>\n",
       "      <td>0.80</td>\n",
       "      <td>0.45</td>\n",
       "    </tr>\n",
       "    <tr>\n",
       "      <th>7</th>\n",
       "      <td>Random Forest, Oversampled, Tuned</td>\n",
       "      <td>0.81</td>\n",
       "      <td>0.49</td>\n",
       "    </tr>\n",
       "  </tbody>\n",
       "</table>\n",
       "</div>"
      ],
      "text/plain": [
       "                                      Model  Mean CV F1 Score  \\\n",
       "0            Logistic Regression Base Model              0.42   \n",
       "1     Logistic Regression Oversampled Model              0.69   \n",
       "2    Logistic Regression Undersampled Model              0.72   \n",
       "3    Logistic Regression Oversampled, Tuned              0.72   \n",
       "6               Random Forest, Undersampled              0.75   \n",
       "10                   XG Boost, Undersampled              0.75   \n",
       "14                 LGBM Model, Undersampled              0.76   \n",
       "12            XG Boost, Undersampled, Tuned              0.76   \n",
       "16          LGBM Model, Undersampled, tuned              0.76   \n",
       "4   Logistic Regression Undersampled, Tuned              0.77   \n",
       "8        Random Forest, Undersampled, Tuned              0.77   \n",
       "13                  LGBM Model, Oversampled              0.78   \n",
       "9                     XG Boost, Oversampled              0.79   \n",
       "11             XG Boost, Oversampled, Tuned              0.79   \n",
       "5                Random Forest, Oversampled              0.79   \n",
       "15           LGBM Model, Oversampled, tuned              0.80   \n",
       "7         Random Forest, Oversampled, Tuned              0.81   \n",
       "\n",
       "    F1 Pos Class Score  \n",
       "0                 0.47  \n",
       "1                 0.47  \n",
       "2                 0.53  \n",
       "3                 0.47  \n",
       "6                 0.51  \n",
       "10                0.55  \n",
       "14                0.57  \n",
       "12                0.57  \n",
       "16                0.54  \n",
       "4                 0.53  \n",
       "8                 0.52  \n",
       "13                0.49  \n",
       "9                 0.48  \n",
       "11                0.48  \n",
       "5                 0.40  \n",
       "15                0.45  \n",
       "7                 0.49  "
      ]
     },
     "execution_count": 72,
     "metadata": {},
     "output_type": "execute_result"
    }
   ],
   "source": [
    "# Sort results by mean CV F1 score\n",
    "results_df.sort_values(by='Mean CV F1 Score')"
   ]
  },
  {
   "cell_type": "markdown",
   "id": "ec092727",
   "metadata": {},
   "source": [
    "<b>CONCLUSION:</b>\n",
    "\n",
    "If we are looking at the F1 Positive Class Score, the XG Boost, Undersampled & Tuned, as well as the LGBM, Undersampled (not tuned) performed the best.\n",
    "\n",
    "If we are looking at the Mean CV F1 score, the Random Forest, Oversampled & Tuned performed the best, but it should be noted that the F1 Pos Class Score was much worse. \n",
    "\n",
    "When looking at all of the scoring data (classification reports & confusion matrix), overall I think that the XG Boost. Undersampled & Tuned, is the best model. "
   ]
  },
  {
   "cell_type": "code",
   "execution_count": null,
   "id": "c5f5a439",
   "metadata": {},
   "outputs": [],
   "source": []
  }
 ],
 "metadata": {
  "kernelspec": {
   "display_name": "Python 3 (ipykernel)",
   "language": "python",
   "name": "python3"
  },
  "language_info": {
   "codemirror_mode": {
    "name": "ipython",
    "version": 3
   },
   "file_extension": ".py",
   "mimetype": "text/x-python",
   "name": "python",
   "nbconvert_exporter": "python",
   "pygments_lexer": "ipython3",
   "version": "3.9.13"
  }
 },
 "nbformat": 4,
 "nbformat_minor": 5
}
