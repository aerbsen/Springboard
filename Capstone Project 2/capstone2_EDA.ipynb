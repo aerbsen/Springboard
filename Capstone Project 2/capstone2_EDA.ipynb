{
 "cells": [
  {
   "cell_type": "markdown",
   "id": "0d80de8b",
   "metadata": {},
   "source": [
    "# 2 EDA: Breast Cancer Gene Expressions"
   ]
  },
  {
   "cell_type": "markdown",
   "id": "f4a32c85",
   "metadata": {},
   "source": [
    "## 2.1 Contents <a id='2.1_Contents'></a>"
   ]
  },
  {
   "cell_type": "markdown",
   "id": "af351f7b",
   "metadata": {},
   "source": [
    "* [2 Exploratory Data Analysis](#2_EDA)\n",
    "    * [2.1 Contents](#2.1_Contents)\n",
    "    * [2.2 Introduction](#2.2_Introduction)\n",
    "    * [2.3 Imports](#2.3_Imports)\n",
    "    * [2.4 Loading the Data](#2.4_Loading)\n",
    "    * [2.5 Clinical Data](#2.5_Clinical)\n",
    "        *  [2.5.1 Feature Engineering Outcomes](#2.5.1_Feature)\n",
    "        *  [2.5.2 Distribution of Clinical Attributes](#2.5.2_Distribution_Clinical)\n",
    "        *  [2.5.3 Clinical Attributes vs. Outcomes](#'2.5.3_Attributes_Outcomes)\n",
    "        *  [2.5.4 Are there similar distributions in the data for the different cohorts?](#2.5.4_Cohorts)\n",
    "        *  [2.5.5 Correlations Between Clinical Attributes](#2.5.5_Attributes_Correlations)\n",
    "        *  [2.5.5a Impute the Missing Tumor Size](#2.5.5a_impute_tumor_size)\n",
    "        *  [2.5.6 Correlation Matrix](#2.5.6_correlation_matrix)\n",
    "    * [2.6 Z Score Data](#2.6_z_score)\n",
    "        *  [2.6.1 How are the z scores connected to the genetic mutation data?](#2.6.1_z_score_mutation)\n",
    "        *  [2.6.2 Z Score Outcomes](#2.6.2_z_score_outcomes)\n",
    "        *  [2.6.2a Z Score Distributions](#2.6.2a_z_score_dist)\n",
    "        *  [2.6.2b P-Values for Z Scores](#2.6.2a_p_values)\n",
    "        *  [2.6.3 Correlation of Z Scores and Outcome](#2.6.3_corr)\n",
    "    *  [2.7 Genetic Mutation Data](#2.6.7_genetic)\n",
    "        *  [2.7.1 Convert gene mutation columns into binary](#2.7.1_binary)\n",
    "        *  [2.7.2 Correlations of Mutation Data](#2.7.2_corr)\n",
    "    *  [2.8 Preparation for Export](#2.8_prep)\n",
    "    *  [2.9 Explort the Data](#2.9_export)\n",
    "    *  [2.10 Summary](#2.10_summary)\n",
    "    "
   ]
  },
  {
   "cell_type": "markdown",
   "id": "9d75f374",
   "metadata": {},
   "source": [
    "## 2.2 Introduction <a id='2.2_Introduction'></a>"
   ]
  },
  {
   "cell_type": "markdown",
   "id": "d393d65c",
   "metadata": {},
   "source": [
    "In the previous notebook, I cleaned and wrangled the Metabric Breast Cancer Gene Expression Profiles data, and now I will do exploratory data analysis. The data was sourced from https://www.kaggle.com/datasets/raghadalharbi/breast-cancer-gene-expression-profiles-metabric. \n",
    "\n",
    "In this notebook I will explore these questions: \n",
    "\n",
    "Questions:\n",
    "* What is the distribution of the different clinical attributes?\n",
    "* How are the z scores connected to the genetic mutation data? (i.e. are there z scores associated with each mutation?)\n",
    "* Can we drop the 'Stage' data entirely based on other clinical attributes that have less missing data? That is the one missing so much. \n",
    "* Are there similar distributions in the data for the different cohorts? \n",
    "* What does it look like when we compare presence of genetic mutations with survival? \n",
    "\n",
    "\n",
    "NOTE the z scores correspond to a gene in the gene mutations. Need to look at this and somehow link then, as the z scores show how much those genes are up or downregulated. \n",
    "\n",
    "should the patients be grouped by similar attributes? would we want to do unsupervised learning to cluster them and then take a classification approach? the premise of the business problem is that patients with the same clinical attributes have different outcomes, so should we take this into account?\n",
    "\n",
    "also see where there are many more z scores than gene mutations - how do they match up? Why aren't there the same number? Is this EDA or wrangling?\n"
   ]
  },
  {
   "cell_type": "markdown",
   "id": "7756530d",
   "metadata": {},
   "source": [
    "## 2.3 Imports  <a id='2.3_Imports'></a>"
   ]
  },
  {
   "cell_type": "code",
   "execution_count": null,
   "id": "24621417",
   "metadata": {},
   "outputs": [],
   "source": [
    "import pandas as pd\n",
    "import matplotlib.pyplot as plt\n",
    "import seaborn as sns\n",
    "import numpy as np\n",
    "import pyarrow.parquet as pq\n",
    "from scipy.stats import pearsonr\n",
    "from scipy.stats import chi2_contingency\n",
    "from scipy.stats import fisher_exact\n",
    "import statsmodels.api as sm\n",
    "from scipy import stats\n",
    "import missingno as msno\n",
    "from scipy.stats import spearmanr\n",
    "from sklearn.linear_model import LinearRegression\n",
    "from sklearn.decomposition import PCA\n",
    "from sklearn.preprocessing import StandardScaler\n",
    "from sklearn.preprocessing import scale"
   ]
  },
  {
   "cell_type": "code",
   "execution_count": null,
   "id": "79547efe",
   "metadata": {},
   "outputs": [],
   "source": [
    "# setting the display options\n",
    "pd.set_option('display.max_columns', None)\n",
    "pd.set_option('display.max_colwidth', None)"
   ]
  },
  {
   "cell_type": "markdown",
   "id": "3e237955",
   "metadata": {},
   "source": [
    "## 2.4 Loading the Data <a id='2.4_Loading'></a>"
   ]
  },
  {
   "cell_type": "code",
   "execution_count": null,
   "id": "d75649c3",
   "metadata": {},
   "outputs": [],
   "source": [
    "# importing using parquet to preserve data types\n",
    "\n",
    "cancer_data=pd.read_parquet(r'C:\\Users\\leann\\OneDrive\\Desktop\\SPRINGBOARD\\capstone 2\\cancer_data_cleaned.parquet', engine='pyarrow')"
   ]
  },
  {
   "cell_type": "code",
   "execution_count": null,
   "id": "bd3fb8bb",
   "metadata": {},
   "outputs": [],
   "source": [
    "cancer_data.info()"
   ]
  },
  {
   "cell_type": "markdown",
   "id": "b74105dd",
   "metadata": {},
   "source": [
    "checking my data types. Here I can see the mix of types for our clinical data, that the z scores are floats, and the mutations are categories. "
   ]
  },
  {
   "cell_type": "code",
   "execution_count": null,
   "id": "f3dfe168",
   "metadata": {},
   "outputs": [],
   "source": [
    "data_types= cancer_data.dtypes\n",
    "data_types.head(32)"
   ]
  },
  {
   "cell_type": "code",
   "execution_count": null,
   "id": "60372674",
   "metadata": {},
   "outputs": [],
   "source": [
    "data_types.tail()"
   ]
  },
  {
   "cell_type": "code",
   "execution_count": null,
   "id": "e2c1e5a1",
   "metadata": {},
   "outputs": [],
   "source": [
    "cancer_data.shape"
   ]
  },
  {
   "cell_type": "code",
   "execution_count": null,
   "id": "1cbbda37",
   "metadata": {},
   "outputs": [],
   "source": [
    "cancer_data.describe()"
   ]
  },
  {
   "cell_type": "markdown",
   "id": "2414bef4",
   "metadata": {},
   "source": [
    "## 2.5  Clinical Data <a id='2.5_Clinical'></a>\n",
    "\n",
    "The clinical attributes are the section of the data where it should be the easiest to see patterns from simple graphical representation of the data without manipulation. Here I will explore the clinical attributes and see what stands out. "
   ]
  },
  {
   "cell_type": "markdown",
   "id": "3e272b6f",
   "metadata": {},
   "source": [
    "### 2.5.1 Feature Engineering Outcomes <a id='2.5.1_Feature'></a>"
   ]
  },
  {
   "cell_type": "code",
   "execution_count": null,
   "id": "b6bccd0e",
   "metadata": {},
   "outputs": [],
   "source": [
    "#looking at survival rates - 0 = died, 1 = lived.\n",
    "\n",
    "survival_counts = cancer_data['overall_survival'].value_counts()\n",
    "print('Percents Died vs Survived:\\n',100*survival_counts/len(cancer_data))"
   ]
  },
  {
   "cell_type": "markdown",
   "id": "d008f02a",
   "metadata": {},
   "source": [
    "How does this compare to the more detailed breakdown of outcomes in the death_from_cancer column?"
   ]
  },
  {
   "cell_type": "code",
   "execution_count": null,
   "id": "fea1db12",
   "metadata": {},
   "outputs": [],
   "source": [
    "cancer_survival_counts = cancer_data['death_from_cancer'].value_counts()\n",
    "print('Outcomes:\\n',100*cancer_survival_counts/len(cancer_data))"
   ]
  },
  {
   "cell_type": "code",
   "execution_count": null,
   "id": "a0a3cbd0",
   "metadata": {},
   "outputs": [],
   "source": [
    "ax = sns.countplot(x='death_from_cancer', data=cancer_data)\n",
    "plt.xlabel('Outcome')\n",
    "plt.ylabel('Count')\n",
    "plt.title('Survival Outcomes')\n",
    "plt.show()"
   ]
  },
  {
   "cell_type": "markdown",
   "id": "8ab5b95d",
   "metadata": {},
   "source": [
    "Here we can see that about 33% of patients in this dataset died from breast cancer, 25% died of other causes, and 42% were alive a the end of the study. For our purposes, we only should look at this metric, as it is more detailed.\n",
    "\n",
    "This is an unbalanced classification problem, where patients who lived are the majority class.\n",
    "\n",
    "As we are interested in death due to breast cancer, we can combine the other outcomes (lived/death from other causes) together. "
   ]
  },
  {
   "cell_type": "code",
   "execution_count": null,
   "id": "965d4a1c",
   "metadata": {},
   "outputs": [],
   "source": [
    "# first change type from category to object:\n",
    "cancer_data['death_from_cancer'] = cancer_data['death_from_cancer'].astype('str')\n",
    "\n",
    "# Change to binary, where 0 means died from cancer\n",
    "cancer_data.loc[cancer_data['death_from_cancer'] != 'Died of Disease', 'death_from_cancer'] = 1\n",
    "cancer_data.loc[cancer_data['death_from_cancer'] == 'Died of Disease', 'death_from_cancer'] = 0\n",
    "\n",
    "# change data type back to category\n",
    "cancer_data['death_from_cancer'] = cancer_data['death_from_cancer'].astype('category')"
   ]
  },
  {
   "cell_type": "code",
   "execution_count": null,
   "id": "054c3472",
   "metadata": {},
   "outputs": [],
   "source": [
    "cancer_data['death_from_cancer'].head()"
   ]
  },
  {
   "cell_type": "code",
   "execution_count": null,
   "id": "b7733d43",
   "metadata": {},
   "outputs": [],
   "source": [
    "#show how much of our data died of cancer (0) and did not die of cancer (1).\n",
    "death_counts = cancer_data['death_from_cancer'].value_counts()\n",
    "\n",
    "print('Counts for Did Not Die of Disease(1) vs Percents Died of Disease(0)\\n',death_counts)\n",
    "\n",
    "print('\\n Did Not Die of Disease(1) vs Percents Died of Disease(0):\\n',100*death_counts/len(cancer_data))"
   ]
  },
  {
   "cell_type": "code",
   "execution_count": null,
   "id": "21d38c64",
   "metadata": {},
   "outputs": [],
   "source": [
    "# plotting our newly reformatted death_from_cancer\n",
    "ax = sns.countplot(x='death_from_cancer', data=cancer_data)\n",
    "plt.xlabel('Outcome (0:Died of Disease, 1:Survived/Death from other causes)')\n",
    "plt.ylabel('Count')\n",
    "plt.title('Survival Outcomes')\n",
    "plt.show()"
   ]
  },
  {
   "cell_type": "markdown",
   "id": "58e6e6e0",
   "metadata": {},
   "source": [
    "### 2.5.2 Distribution of Clinical Attributes <a id='2.5.2_Distribution_Clinical'></a>"
   ]
  },
  {
   "cell_type": "markdown",
   "id": "6e6e48c9",
   "metadata": {},
   "source": [
    "Below I will look at plots of my clinical data. First, I'm looking at value counts for categorical clinical data. I'm splitting them up into multiple blocks so that they are more readable."
   ]
  },
  {
   "cell_type": "code",
   "execution_count": null,
   "id": "74ef58a2",
   "metadata": {},
   "outputs": [],
   "source": [
    "# doing sub plots in 3x2 grids\n",
    "fig, ax = plt.subplots(2,3, figsize=(12,8))\n",
    "cancer_data.overall_survival.value_counts().plot(kind='bar', ax=ax[0,0])\n",
    "ax[0,0].set_title('Overall Survival')\n",
    "ax[0,0].set_xlabel('Survival')\n",
    "\n",
    "cancer_data.type_of_breast_surgery.value_counts().plot(kind='bar', ax=ax[0,1])\n",
    "ax[0,1].set_title('Type of Breast Surgery')\n",
    "\n",
    "cancer_data.chemotherapy.value_counts().plot(kind='bar', ax=ax[0,2])\n",
    "ax[0,2].set_title('Chemotherapy ')\n",
    "\n",
    "cancer_data.age_at_diagnosis.plot(kind='hist', ax=ax[1,0])\n",
    "ax[1,0].set_title('Age at Diagnosis ')\n",
    "ax[1,0].set_xlabel('Age')\n",
    "\n",
    "\n",
    "cancer_data.cellularity.value_counts().plot(kind='bar', ax=ax[1,1])\n",
    "ax[1,1].set_title('Cellularity')\n",
    "\n",
    "cancer_data.cancer_type_detailed.value_counts().plot(kind='bar', ax=ax[1,2])\n",
    "ax[1,2].set_title('Detailed Cancer Type')\n",
    "\n",
    "plt.subplots_adjust(wspace=0.5, hspace=1.2);\n"
   ]
  },
  {
   "cell_type": "code",
   "execution_count": null,
   "id": "73d7ba56",
   "metadata": {},
   "outputs": [],
   "source": [
    "\n",
    "fig, ax = plt.subplots(2,3, figsize=(12,8))\n",
    "cancer_data['pam50_+_claudin-low_subtype'].value_counts().plot(kind='bar', ax=ax[0,0])\n",
    "ax[0,0].set_title('pam50_+_claudin-low_subtype')\n",
    "\n",
    "cancer_data.er_status_measured_by_ihc.value_counts().plot(kind='bar', ax=ax[0,1])\n",
    "ax[0,1].set_title('er_status_measured_by_ihc')\n",
    "\n",
    "cancer_data.neoplasm_histologic_grade.value_counts().plot(kind='bar', ax=ax[0,2])\n",
    "ax[0,2].set_title('neoplasm_histologic_grade')\n",
    "\n",
    "cancer_data.her2_status.value_counts().plot(kind='bar', ax=ax[1,0])\n",
    "ax[1,0].set_title('her2_status  ')\n",
    "\n",
    "cancer_data.tumor_other_histologic_subtype  .value_counts().plot(kind='bar', ax=ax[1,1])\n",
    "ax[1,1].set_title('tumor_other_histologic_subtype')\n",
    "\n",
    "cancer_data.hormone_therapy  .value_counts().plot(kind='bar', ax=ax[1,2])\n",
    "ax[1,2].set_title('hormone_therapy  ')\n",
    "\n",
    "plt.subplots_adjust(wspace=0.5, hspace=.7);"
   ]
  },
  {
   "cell_type": "code",
   "execution_count": null,
   "id": "391d9219",
   "metadata": {},
   "outputs": [],
   "source": [
    "\n",
    "fig, ax = plt.subplots(2,3, figsize=(12,8))\n",
    "cancer_data['inferred_menopausal_state'].value_counts().plot(kind='bar', ax=ax[0,0])\n",
    "ax[0,0].set_title('inferred_menopausal_state')\n",
    "\n",
    "cancer_data.integrative_cluster.value_counts().plot(kind='bar', ax=ax[0,1])\n",
    "ax[0,1].set_title('integrative_cluster ')\n",
    "\n",
    "cancer_data.primary_tumor_laterality.value_counts().plot(kind='bar', ax=ax[0,2])\n",
    "ax[0,2].set_title('primary_tumor_laterality')\n",
    "\n",
    "cancer_data.lymph_nodes_examined_positive.value_counts().plot(kind='hist', bins=50, ax=ax[1,0]) \n",
    "ax[1,0].set_title('lymph_nodes_examined_positive')\n",
    "\n",
    "cancer_data.mutation_count.plot(kind='hist',bins=50, ax=ax[1,1])\n",
    "ax[1,1].set_title('mutation count')\n",
    "ax[1,1].set_xlim([0, 30])\n",
    "\n",
    "cancer_data.overall_survival_months.plot(kind='hist', ax=ax[1,2])\n",
    "ax[1,2].set_title('overall_survival_months')\n",
    "\n",
    "plt.subplots_adjust(wspace=0.5, hspace=.5);"
   ]
  },
  {
   "cell_type": "code",
   "execution_count": null,
   "id": "9d052659",
   "metadata": {},
   "outputs": [],
   "source": [
    "\n",
    "fig, ax = plt.subplots(4, figsize=(8, 20))\n",
    "\n",
    "cancer_data['pr_status'].value_counts().plot(kind='bar', ax=ax[0])\n",
    "ax[0].set_title('pr_status  ')\n",
    "\n",
    "cancer_data.radio_therapy.value_counts().plot(kind='bar', ax=ax[1])\n",
    "ax[1].set_title('radio_therapy')\n",
    "\n",
    "cancer_data['3-gene_classifier_subtype'].value_counts().plot(kind='bar', ax=ax[3])\n",
    "ax[3].set_title('3-gene_classifier_subtype')\n",
    "\n",
    "cancer_data.tumor_size.value_counts().plot(kind='hist',bins=50, ax=ax[2])\n",
    "ax[2].set_title('tumor size (cm)')\n",
    "ax[2].set_xlim(0, 80)\n",
    "\n",
    "plt.subplots_adjust(wspace=0.5, hspace=.5)\n",
    "plt.show();"
   ]
  },
  {
   "cell_type": "code",
   "execution_count": null,
   "id": "343c47e7",
   "metadata": {},
   "outputs": [],
   "source": [
    "# find the average age of patients in this study\n",
    "\n",
    "average_age = cancer_data.age_at_diagnosis.mean()\n",
    "rounded_average_age = round(average_age, 2)\n",
    "print('average age is ', rounded_average_age)\n",
    "\n",
    "median_age = cancer_data.age_at_diagnosis.median()\n",
    "rounded_median_age = round(median_age, 2)\n",
    "print('median age is ', rounded_median_age)"
   ]
  },
  {
   "cell_type": "markdown",
   "id": "ea68aeb8",
   "metadata": {},
   "source": [
    "Our median and average age are both between 61 and 62. "
   ]
  },
  {
   "cell_type": "markdown",
   "id": "58c76c3a",
   "metadata": {},
   "source": [
    "### Observations:\n",
    "\n",
    "The proportions for death and getting a mastectomy are similar - I'm wondering if the patients that had breast conserving surgery had less severe disease and therefore were more likely to survive. I will look at this below in more detail.\n",
    "\n",
    "Cancer type - the vast majority of cases were invasive ductal carcinoma\n",
    "\n",
    "Age follows a rougly normal distribution, peaking around age 70. Most women were post menopausal, which makes sense given the age distribution.\n",
    "\n",
    "Most patients did not get chemo, but did get radiotherapy and hormone therapy. The proportions with death and getting radiotherapy are roughly the same, and again I wonder if this is because more severe disease was present.\n",
    "\n",
    "HER2 status for most patients was negative, ER status mostly positive\n",
    "\n",
    "Most neoplasms were grade 3\n",
    "\n",
    "Mutation counts peaked at 7\n",
    "\n",
    "Positive lymph nodes looks to fall roughly exponentially\n",
    "\n",
    "Left and right sides are about equal - I think we can take this out because I dont think it is relavent to survival\n",
    "\n",
    "Tumor stage and tumor size have similar distributions (both left skewed), and I'm guessing they are usually similar\n",
    "\n",
    "PR status roughly equal, but a little more positive."
   ]
  },
  {
   "cell_type": "markdown",
   "id": "a2ec81fc",
   "metadata": {},
   "source": [
    "### 2.5.3 Clinical Attributes vs. Outcomes  <a id='2.5.3_Attributes_Outcomes'></a>"
   ]
  },
  {
   "cell_type": "markdown",
   "id": "29bc9b74",
   "metadata": {},
   "source": [
    "### Treatment modality survival comparison"
   ]
  },
  {
   "cell_type": "code",
   "execution_count": null,
   "id": "a70f6529",
   "metadata": {},
   "outputs": [],
   "source": [
    "fig, ax = plt.subplots(2,2, figsize=(12,8))\n",
    "cancer_data.groupby('chemotherapy')['death_from_cancer'].value_counts(normalize=True).unstack().plot(kind='bar', stacked=True, ax=ax[0, 0])\n",
    "ax[0, 0].set_title('Chemotherapy vs. Cancer Survival')\n",
    "\n",
    "cancer_data.groupby('type_of_breast_surgery')['death_from_cancer'].value_counts(normalize=True).unstack().plot(kind='bar', stacked=True, ax=ax[0, 1])\n",
    "ax[0, 1].set_title('Type of Surgery vs. Cancer Survival')\n",
    "\n",
    "cancer_data.groupby('hormone_therapy')['death_from_cancer'].value_counts(normalize=True).unstack().plot(kind='bar', stacked=True, ax=ax[1,0])\n",
    "ax[1, 0].set_title('Type of Surgery vs. Cancer Survival')\n",
    "\n",
    "cancer_data.groupby('radio_therapy')['death_from_cancer'].value_counts(normalize=True).unstack().plot(kind='bar', stacked=True, ax=ax[1,1])\n",
    "ax[1, 1].set_title('Radiotherapy vs. Cancer Survival')\n",
    "\n",
    "#Remove legends in subplots:\n",
    "for a in ax.flat:\n",
    "    if a.get_legend():\n",
    "        a.get_legend().remove()\n",
    "\n",
    "# common legend outside the subplots\n",
    "handles, labels = ax[0, 0].get_legend_handles_labels()\n",
    "fig.legend(handles,  ['Died of Disease', 'Survived or Died of Other Causes'], loc='upper center', bbox_to_anchor=(0.5, 1.05), ncol=2)\n",
    "\n",
    "\n",
    "plt.subplots_adjust(wspace=0.5, hspace=1.3)\n",
    "plt.show();\n"
   ]
  },
  {
   "cell_type": "markdown",
   "id": "0f59a442",
   "metadata": {},
   "source": [
    "Hormone Therapy and Radiotherapy have roughly the same outcome for those who died of concer and those who did not. It looks like more people died of cancer who did not get chemotherapy and who got breast conserving surgery. "
   ]
  },
  {
   "cell_type": "markdown",
   "id": "46c62616",
   "metadata": {},
   "source": [
    "### Tumor Size vs. Outcome"
   ]
  },
  {
   "cell_type": "code",
   "execution_count": null,
   "id": "1acc01c0",
   "metadata": {},
   "outputs": [],
   "source": [
    "fig, ax = plt.subplots(2, figsize=(12,8))\n",
    "\n",
    "cancer_data[cancer_data['death_from_cancer'] == 0]['tumor_size'].plot.hist(ax=ax[0], alpha=0.5, stacked=True, range=[0,100], bins=30)\n",
    "cancer_data[cancer_data['death_from_cancer'] == 1]['tumor_size'].plot.hist(ax=ax[0], alpha=0.5, stacked=True,range=[0,100], bins=30)\n",
    "ax[0].set_title('Tumor Size vs. Outcome')\n",
    "ax[0].set_xlabel('Tumor Size')\n",
    "\n",
    "cancer_data.groupby('tumor_stage')['death_from_cancer'].value_counts(normalize=True).unstack().plot(kind='bar', stacked=True, ax=ax[1])\n",
    "ax[1].set_title('tumor_stage vs. Outcome')\n",
    "\n",
    "plt.subplots_adjust(wspace=0.5, hspace=.5)\n",
    "plt.show();\n"
   ]
  },
  {
   "cell_type": "markdown",
   "id": "d5c8e4cc",
   "metadata": {},
   "source": [
    "The tumor stage has a clear relationship with outcomes. This is also unfortunately the feature that one of the cohorts didn't record data for, so we are missing about 26% of the data from this column. "
   ]
  },
  {
   "cell_type": "markdown",
   "id": "674070d3",
   "metadata": {},
   "source": [
    "### Plots of Clinical Attributes vs Outcomes"
   ]
  },
  {
   "cell_type": "code",
   "execution_count": null,
   "id": "75ef8b01",
   "metadata": {
    "scrolled": false
   },
   "outputs": [],
   "source": [
    "fig, ax = plt.subplots(3, 3, figsize=(12,8))\n",
    "\n",
    "#doing a histogram for age data\n",
    "cancer_data[cancer_data['death_from_cancer'] == 0]['age_at_diagnosis'].plot.hist(ax=ax[0, 0], alpha=0.7, color='blue', stacked=True)\n",
    "cancer_data[cancer_data['death_from_cancer'] == 1]['age_at_diagnosis'].plot.hist(ax=ax[0, 0], alpha=0.5, color='orange', stacked=True)\n",
    "ax[0, 0].set_title('Age at Diagnosis vs. Outcomes')\n",
    "ax[0,0].legend(['Died of disease', 'Did not die of disease'])\n",
    "\n",
    "\n",
    "cancer_data.groupby('cancer_type_detailed')['death_from_cancer'].value_counts(normalize=True).unstack().plot(kind='bar', stacked=True, ax=ax[0,1])\n",
    "ax[0, 1].set_title('Cancer Type vs. Outcomes')\n",
    "ax[0, 1].set_xticklabels(['Breast', 'Inv. Ductal', 'Inv. Lob.','Inv. Mixed Muc.', 'Mixed Duct/Lob', 'Metaplastic'])\n",
    "\n",
    "cancer_data.groupby('tumor_other_histologic_subtype')['death_from_cancer'].value_counts(normalize=True).unstack().plot(kind='bar', stacked=True, ax=ax[0,2])\n",
    "ax[0, 2].set_title('Tumor Subtype vs. Outcomes')\n",
    "\n",
    "cancer_data.groupby('neoplasm_histologic_grade')['death_from_cancer'].value_counts(normalize=True).unstack().plot(kind='bar', stacked=True, ax=ax[1,0])\n",
    "ax[1, 0].set_title('Neoplasm Histologic Grade vs. Outcomes')\n",
    "\n",
    "cancer_data.groupby('primary_tumor_laterality')['death_from_cancer'].value_counts(normalize=True).unstack().plot(kind='bar', stacked=True, ax=ax[1,1])\n",
    "ax[1,1].set_title('Primary Tumor Laterality vs. Outcomes')\n",
    "\n",
    "cancer_data[cancer_data['death_from_cancer'] == 0]['lymph_nodes_examined_positive'].plot.hist(ax=ax[1,2], alpha=0.5, color = 'blue', stacked=True,range=[0,15], bins=30)\n",
    "cancer_data[cancer_data['death_from_cancer'] == 1]['lymph_nodes_examined_positive'].plot.hist(ax=ax[1,2], alpha=0.5, color = 'orange', stacked=True, range=[0,15],bins=30)\n",
    "ax[1, 2].set_title('Positive Lymph Nodes vs. Outcomes')\n",
    "ax[1,2].set_xlabel('Number of Positive Lymph Nodes')\n",
    "\n",
    "cancer_data[cancer_data['death_from_cancer'] == 0]['mutation_count'].plot.hist(ax=ax[2,0], alpha=0.5, color = 'blue', stacked=True, range=[0,20], bins=30)\n",
    "cancer_data[cancer_data['death_from_cancer'] == 1]['mutation_count'].plot.hist(ax=ax[2,0], alpha=0.5, color = 'orange', stacked=True, range=[0,20],bins=30)\n",
    "ax[2,0].set_title('Mutation Count vs. Outcomes')\n",
    "\n",
    "\n",
    "cancer_data.groupby('inferred_menopausal_state')['death_from_cancer'].value_counts(normalize=True).unstack().plot(kind='bar', stacked=True, ax=ax[2,1])\n",
    "ax[2, 1].set_title('Menopausal State vs. Outcomes')\n",
    "\n",
    "\n",
    "cancer_data.groupby('cellularity')['death_from_cancer'].value_counts(normalize=True).unstack().plot(kind='bar', stacked=True, ax=ax[2, 2])\n",
    "ax[2, 2].set_title('Cellularity vs. Outcomes')\n",
    "\n",
    "\n",
    "#Remove legends in subplots:\n",
    "for a in ax.flat:\n",
    "    if a.get_legend():\n",
    "        a.get_legend().remove()\n",
    "\n",
    "# common legend outside the subplots\n",
    "handles, labels = ax[2, 1].get_legend_handles_labels()\n",
    "fig.legend(handles,  ['Died of Disease', 'Survived or Died of Other Causes'], loc='upper center', bbox_to_anchor=(0.5, 1.05), ncol=2)\n",
    "\n",
    "\n",
    "plt.subplots_adjust(wspace=0.4, hspace=2.2)\n",
    "\n",
    "plt.show();"
   ]
  },
  {
   "cell_type": "code",
   "execution_count": null,
   "id": "6a8976ad",
   "metadata": {},
   "outputs": [],
   "source": [
    "fig, ax = plt.subplots(2, 3, figsize=(12,8))\n",
    "cancer_data.groupby('pam50_+_claudin-low_subtype')['death_from_cancer'].value_counts(normalize=True).unstack().plot(kind='bar', stacked=True, ax=ax[0, 0])\n",
    "ax[0, 0].set_title('Pam50 Claudin Low Subtype vs. Outcomes')\n",
    "\n",
    "cancer_data.groupby('er_status_measured_by_ihc')['death_from_cancer'].value_counts(normalize=True).unstack().plot(kind='bar', stacked=True, ax=ax[0, 1])\n",
    "ax[0,1].set_title('ER Status vs. Outcomes')\n",
    "\n",
    "cancer_data.groupby('her2_status')['death_from_cancer'].value_counts(normalize=True).unstack().plot(kind='bar', stacked=True, ax=ax[0,2])\n",
    "ax[0, 2].set_title('HER2 Status vs. Outcomes')\n",
    "\n",
    "\n",
    "cancer_data.groupby('integrative_cluster')['death_from_cancer'].value_counts(normalize=True).unstack().plot(kind='bar', stacked=True, ax=ax[1, 0])\n",
    "ax[1, 0].set_title('Integrative Cluster vs. Outcomes')\n",
    "\n",
    "\n",
    "cancer_data.groupby('pr_status')['death_from_cancer'].value_counts(normalize=True).unstack().plot(kind='bar', stacked=True, ax=ax[1, 1])\n",
    "ax[1, 1].set_title('PR Status vs. Outcomes')\n",
    "\n",
    "\n",
    "cancer_data.groupby('3-gene_classifier_subtype')['death_from_cancer'].value_counts(normalize=True).unstack().plot(kind='bar', stacked=True, ax=ax[1,2])\n",
    "ax[1, 2].set_title('3 Gene Class. Subtype vs. Outcomes')\n",
    "\n",
    "#Remove legends in subplots:\n",
    "for a in ax.flat:\n",
    "    if a.get_legend():\n",
    "        a.get_legend().remove()\n",
    "\n",
    "# common legend outside the subplots\n",
    "handles, labels = ax[1, 0].get_legend_handles_labels()\n",
    "fig.legend(handles,  ['Died of Disease', 'Survived or Died of Other Causes'], loc='upper center', bbox_to_anchor=(0.5, 1.05), ncol=2)\n",
    "\n",
    "\n",
    "plt.subplots_adjust(wspace=0.5, hspace=.7)\n",
    "\n",
    "plt.show();"
   ]
  },
  {
   "cell_type": "markdown",
   "id": "ba21a32d",
   "metadata": {},
   "source": [
    "### Observations of note:\n",
    "\n",
    "Metaplastic breast cancer had the worst outcome\n",
    "\n",
    "Neoplasm Histologic Grade shows a clear relationship with outcome; the lower the grade, the more patients who died of cancer. \n",
    "It looks like patients who did not die of cancer generally had fewer than 5 positive lymph nodes, and most had 0. Most of the patients with over 5 lymph nodes positive died of cancer. \n",
    "\n",
    "Negative ER status , negative PR status, and positive HER32 status were associated with better outcomes. \n"
   ]
  },
  {
   "cell_type": "markdown",
   "id": "1c60aa28",
   "metadata": {},
   "source": [
    "## 2.5.4 Are there similar distributions in the data for the different cohorts? <a id='2.5.4_Cohorts'></a> \n",
    "I want to make sure that the cohorts have similar data distributions. I'm picking a few metrics that will give me an idea of the overall population. "
   ]
  },
  {
   "cell_type": "code",
   "execution_count": null,
   "id": "37d8e2c0",
   "metadata": {},
   "outputs": [],
   "source": [
    "#looking at the overall counts for the different cohorts\n",
    "sns.countplot(data=cancer_data,x='cohort')\n",
    "plt.title('Cohort Count')\n",
    "plt.show();"
   ]
  },
  {
   "cell_type": "code",
   "execution_count": null,
   "id": "89b516ff",
   "metadata": {},
   "outputs": [],
   "source": [
    "# plot of cohorts vs clinical attributes\n",
    "fig, ax = plt.subplots(2,2, figsize=(12,8))\n",
    "cancer_data.groupby('cohort')['death_from_cancer'].value_counts(normalize=True).unstack().plot(kind='bar', stacked=True, ax=ax[0, 0])\n",
    "ax[0, 0].set_title('Cohort vs Survival')\n",
    "\n",
    "cancer_data.groupby('cohort')['tumor_stage'].value_counts(normalize=True).unstack().plot(kind='bar', stacked=True, ax=ax[0, 1])\n",
    "ax[0, 1].set_title('Cohort vs. Tumor Stage')\n",
    "\n",
    "#cancer_data.groupby('cohort')['tumor_size'].value_counts(normalize=True).unstack().plot(kind='bar', stacked=True, ax=ax[1,0])\n",
    "#ax[1,0].set_title('Cohort vs Tumor Size')\n",
    "\n",
    "cancer_data[cancer_data['cohort'] == 1]['age_at_diagnosis'].plot.hist(ax=ax[1, 0], alpha=0.5, stacked=True)\n",
    "cancer_data[cancer_data['cohort'] == 2]['age_at_diagnosis'].plot.hist(ax=ax[1, 0], alpha=0.5, stacked=True)\n",
    "cancer_data[cancer_data['cohort'] == 3]['age_at_diagnosis'].plot.hist(ax=ax[1, 0], alpha=0.5, stacked=True)\n",
    "cancer_data[cancer_data['cohort'] == 4]['age_at_diagnosis'].plot.hist(ax=ax[1, 0], alpha=0.5, stacked=True)\n",
    "ax[1, 0].set_title('Cohort vs Age at Diagnosis')\n",
    "ax[1, 0].legend(['Cohort 1', 'Cohort 2', 'Cohort 3', 'Cohort 4'])\n",
    "\n",
    "cancer_data[cancer_data['cohort'] == 1]['overall_survival_months'].plot.hist(ax=ax[1, 1], alpha=0.5, stacked=True)\n",
    "cancer_data[cancer_data['cohort'] == 2]['overall_survival_months'].plot.hist(ax=ax[1, 1], alpha=0.5, stacked=True)\n",
    "cancer_data[cancer_data['cohort'] == 3]['overall_survival_months'].plot.hist(ax=ax[1, 1], alpha=0.5, stacked=True)\n",
    "cancer_data[cancer_data['cohort'] == 4]['overall_survival_months'].plot.hist(ax=ax[1, 1], alpha=0.5, stacked=True)\n",
    "ax[1, 1].set_title('Cohort vs Overall Survival Months')\n",
    "ax[1, 1].legend(['Cohort 1', 'Cohort 2', 'Cohort 3', 'Cohort 4'])\n",
    "\n",
    "#plt.subplots_adjust(wspace=0.5, hspace=2.7)\n",
    "\n",
    "plt.show();\n"
   ]
  },
  {
   "cell_type": "markdown",
   "id": "2b6d3903",
   "metadata": {},
   "source": [
    "In the above plots, cohort 3 seems to have a bit more death from disease, but they also have an overall older patient population, and above we saw that older patients are more likely to have poor outcomes. I also see that cohort 3 has the largest spread of survival months; however as this was the largest group it is not surprising. This is all consistent with what we've seen so far and I don't think we need to take into account the cohort, except with the missing stage data from cohort 4. "
   ]
  },
  {
   "cell_type": "markdown",
   "id": "2b32ba99",
   "metadata": {},
   "source": [
    "## 2.5.5 Correlations Between Clinical Attributes   <a id='2.5.5_Attributes_Correlations'></a>"
   ]
  },
  {
   "cell_type": "code",
   "execution_count": null,
   "id": "fd958091",
   "metadata": {},
   "outputs": [],
   "source": [
    "# Segment out the clinical attribute data from cancer_data and look at data types. \n",
    "clinical = cancer_data.iloc[:,1:31]\n",
    "\n",
    "clinical.dtypes"
   ]
  },
  {
   "cell_type": "code",
   "execution_count": null,
   "id": "aa7eff83",
   "metadata": {},
   "outputs": [],
   "source": [
    "#add back in patient_id column\n",
    "clinical=clinical.join(cancer_data['patient_id'],how='left')\n",
    "\n",
    "#put patient_id at the beginning of the DF, moving it from the end:\n",
    "clinical.insert(0, 'patient_id', clinical.pop('patient_id'))"
   ]
  },
  {
   "cell_type": "code",
   "execution_count": null,
   "id": "b16285e4",
   "metadata": {},
   "outputs": [],
   "source": [
    "# corr() cannot be done on objects, and some of our integers need to be converted to categories as they aren't continuous\n",
    "\n",
    "clinical['chemotherapy']=clinical['chemotherapy'].astype('category')\n",
    "clinical['cohort']=clinical['cohort'].astype('category')\n",
    "clinical['radio_therapy']=clinical['radio_therapy'].astype('category')\n",
    "clinical['neoplasm_histologic_grade']=clinical['neoplasm_histologic_grade'].astype('category')\n",
    "clinical['overall_survival']=clinical['overall_survival'].astype('category')\n",
    "clinical['tumor_stage']=clinical['tumor_stage'].astype('category')\n",
    "clinical['hormone_therapy']=clinical['hormone_therapy'].astype('category')\n",
    "#drp integrative_cluster as it is an object\n",
    "clinical=clinical.drop(columns=['integrative_cluster'])\n",
    "\n",
    "clinical.dtypes"
   ]
  },
  {
   "cell_type": "markdown",
   "id": "4d883bb3",
   "metadata": {},
   "source": [
    "So that we can do imputation and corr(), we need to do one hot encoding on the categories:"
   ]
  },
  {
   "cell_type": "code",
   "execution_count": null,
   "id": "be0cd1a3",
   "metadata": {},
   "outputs": [],
   "source": [
    "# select the columns that are categories\n",
    "clinical_cat = clinical.select_dtypes('category')\n",
    "# make a list of the column labels\n",
    "clinical_cat = clinical_cat.columns.values.tolist()\n",
    "clinical_cat \n"
   ]
  },
  {
   "cell_type": "code",
   "execution_count": null,
   "id": "825b921e",
   "metadata": {},
   "outputs": [],
   "source": [
    "# we also need the columns that are not categories\n",
    "clinical_num = clinical.select_dtypes(['float64','int64'])\n",
    "clinical_num.head()"
   ]
  },
  {
   "cell_type": "code",
   "execution_count": null,
   "id": "681d4a35",
   "metadata": {},
   "outputs": [],
   "source": [
    "# One hot encoding to create separate columns for all the categories. Setting dummy_na=True so that I don't lose my missing data.\n",
    "#clinical_dummies= pd.get_dummies(data=clinical,columns=clinical_cat,dummy_na=True)\n",
    "clinical_dummies=pd.get_dummies(data=clinical, dummy_na=True)\n",
    "\n",
    "clinical_dummies.head(10)"
   ]
  },
  {
   "cell_type": "code",
   "execution_count": null,
   "id": "099c7c2f",
   "metadata": {},
   "outputs": [],
   "source": [
    "print('shape clinical_dummies:',clinical_dummies.shape)"
   ]
  },
  {
   "cell_type": "code",
   "execution_count": null,
   "id": "6dad7e11",
   "metadata": {},
   "outputs": [],
   "source": [
    "# Find columns with all 0s\n",
    "all_zero_cols = clinical_dummies.columns[(clinical_dummies == 0).all()]\n",
    "print(all_zero_cols)\n",
    "\n",
    "# Drop these columns\n",
    "clinical_dummies.drop(columns=all_zero_cols, inplace=True)"
   ]
  },
  {
   "cell_type": "code",
   "execution_count": null,
   "id": "304b0201",
   "metadata": {},
   "outputs": [],
   "source": [
    "#list the column names\n",
    "for col in clinical_dummies:\n",
    "    print(col)"
   ]
  },
  {
   "cell_type": "code",
   "execution_count": null,
   "id": "fd3d1d0c",
   "metadata": {},
   "outputs": [],
   "source": [
    "# Confirm that we have no more missing data\n",
    "clinical_dummies.isna().sum().sort_values(ascending=False)"
   ]
  },
  {
   "cell_type": "markdown",
   "id": "6d70d1ce",
   "metadata": {},
   "source": [
    "I'm still missing 20 tumor_size entries. \n",
    "\n",
    "I'm going to see if tumor_size is correlated with tumor_stage, but I'm going to use my clinical df, before I did get_dummies. As tumor_stage is categorical, I will find the correlation with Spearman's rank correlation. "
   ]
  },
  {
   "cell_type": "code",
   "execution_count": null,
   "id": "abeb085b",
   "metadata": {},
   "outputs": [],
   "source": [
    "#First remove rows with missing tumor stage values\n",
    "# Drop rows with missing values\n",
    "clinical_dropped=clinical.dropna(subset=['tumor_size', 'tumor_stage'])\n",
    "\n",
    "\n",
    "# Compute the Spearman's rank correlation coefficient between tumor_size and tumor_stage\n",
    "corr, pval = spearmanr(clinical_dropped['tumor_size'], clinical_dropped['tumor_stage'])\n",
    "\n",
    "# Print the correlation coefficient and p-value\n",
    "print(f\"Spearman's rank correlation coefficient: {corr:.2f}\")\n",
    "print(f\"P-value: {pval:.4f}\")"
   ]
  },
  {
   "cell_type": "code",
   "execution_count": null,
   "id": "9ad56fe3",
   "metadata": {},
   "outputs": [],
   "source": [
    "# plot tumor size vs stage\n",
    "plt.scatter(clinical_dropped['tumor_size'], clinical_dropped['tumor_stage'])\n",
    "plt.xlabel('Tumor Size')\n",
    "plt.ylabel('Tumor Stage')\n",
    "plt.title('Tumor Size vs Stage')\n",
    "plt.show()"
   ]
  },
  {
   "cell_type": "markdown",
   "id": "edf2f227",
   "metadata": {},
   "source": [
    "There is a reasonably good correlation between tumor size and stage. As there is a small number (20) of missing values compared to the size of the dataset, I think it's better to impute this than to drop those columns. I was not able to deal with them with the get_dummies as it's not categorical. I'm using the median of the stages to impute as there are outliers. "
   ]
  },
  {
   "cell_type": "markdown",
   "id": "798dff95",
   "metadata": {},
   "source": [
    "### 2.5.5a Impute the missing tumor_size with median of the associated stage  <a id='2.5.5a_impute_tumor_size'></a>"
   ]
  },
  {
   "cell_type": "code",
   "execution_count": null,
   "id": "b26c0907",
   "metadata": {},
   "outputs": [],
   "source": [
    "\n",
    "# calculate the median tumor size for each tumor stage group\n",
    "median_tumor_size = clinical.groupby('tumor_stage')['tumor_size'].median()\n",
    "print(median_tumor_size)"
   ]
  },
  {
   "cell_type": "code",
   "execution_count": null,
   "id": "8c0b6ed4",
   "metadata": {},
   "outputs": [],
   "source": [
    "# find out if there are patients who have both of these columns missing data:\n",
    "\n",
    "# count the number of rows where both tumor_size and tumor_stage are NaN\n",
    "rows_with_both_nan = clinical[['tumor_size', 'tumor_stage']].isna().all(axis=1).sum()\n",
    "\n",
    "print(rows_with_both_nan)"
   ]
  },
  {
   "cell_type": "markdown",
   "id": "94716c3e",
   "metadata": {},
   "source": [
    "Unfortunately, most of the columns missing tumor_size are also missing tumor_stage."
   ]
  },
  {
   "cell_type": "code",
   "execution_count": null,
   "id": "13474733",
   "metadata": {},
   "outputs": [],
   "source": [
    "#Impute the 3 rows that have both of these columns: \n",
    "\n",
    "# loop over the rows with missing tumor size values\n",
    "for index, row in clinical[clinical['tumor_size'].isnull()].iterrows():\n",
    "    # get the tumor stage for the current row\n",
    "    stage = row['tumor_stage']\n",
    "    \n",
    "    # if the median tumor size for the stage is available, replace the missing value with the median\n",
    "    if stage in median_tumor_size:\n",
    "        clinical.at[index, 'tumor_size'] = median_tumor_size[stage]\n",
    "\n",
    "\n",
    "# Patients still missing size data:\n",
    "print(clinical['tumor_size'].isnull().sum())"
   ]
  },
  {
   "cell_type": "code",
   "execution_count": null,
   "id": "9082dcce",
   "metadata": {},
   "outputs": [],
   "source": [
    "# Now we'll just impute with the overall median for whether they died or not. \n",
    "\n",
    "outcome_size =clinical.groupby('death_from_cancer')['tumor_size'].median()\n",
    "outcome_size\n",
    " "
   ]
  },
  {
   "cell_type": "code",
   "execution_count": null,
   "id": "40d1082e",
   "metadata": {},
   "outputs": [],
   "source": [
    "#Replace missing size values with the median size for their outcome group.\n",
    "\n",
    "for index, row in clinical[clinical['tumor_size'].isnull()].iterrows():\n",
    "    outcome = row['death_from_cancer']\n",
    "    if outcome in median_tumor_size:\n",
    "        clinical.at[index, 'tumor_size'] = median_tumor_size[outcome]\n",
    "\n",
    "# check the number of missing tumor_size values after imputation\n",
    "print(clinical['tumor_size'].isnull().sum())"
   ]
  },
  {
   "cell_type": "code",
   "execution_count": null,
   "id": "0138e227",
   "metadata": {},
   "outputs": [],
   "source": [
    "# replace the tumor_size column in clinical_dummies:\n",
    "\n",
    "clinical_dummies['tumor_size']=clinical['tumor_size']\n",
    "\n",
    "clinical_dummies.isna().sum().sort_values(ascending=False)"
   ]
  },
  {
   "cell_type": "markdown",
   "id": "f251577d",
   "metadata": {},
   "source": [
    "Horray! No more missing data in our clinical attributes!!!"
   ]
  },
  {
   "cell_type": "markdown",
   "id": "28f414a9",
   "metadata": {},
   "source": [
    "## 2.5.6 Correlation Matrix <a id='2.5.6_correlation_matrix'></a>"
   ]
  },
  {
   "cell_type": "code",
   "execution_count": null,
   "id": "30ff4c6c",
   "metadata": {},
   "outputs": [],
   "source": [
    "# view correlation full matrix\n",
    "\n",
    "#pd.set_option('display.max_columns', None)\n",
    "#pd.set_option('display.max_rows', None)\n",
    "corr_matrix = clinical_dummies.corr()\n",
    "corr_matrix"
   ]
  },
  {
   "cell_type": "markdown",
   "id": "9ee17183",
   "metadata": {},
   "source": [
    "This is a large matrix, and I'd like to print out the pairs that are significantly correlated."
   ]
  },
  {
   "cell_type": "code",
   "execution_count": null,
   "id": "06d4a433",
   "metadata": {},
   "outputs": [],
   "source": [
    "\n",
    "abs_corr = clinical_dummies.corr().abs()\n",
    "\n",
    "unstacked = abs_corr.unstack()\n",
    "corr_pairs = unstacked.sort_values(kind=\"quicksort\", ascending=False)\n",
    "\n",
    "print(corr_pairs[(corr_pairs < 1.0) & (corr_pairs > 0.5)])"
   ]
  },
  {
   "cell_type": "markdown",
   "id": "b429747a",
   "metadata": {},
   "source": [
    "None of the more strong correlations tell us anything about survival. \n",
    "\n",
    "For death_by_cancer, I see a weak correlation (0.24) with the number of lymph nodes positive and similarly weak correlation (0.27) with the nottingham prognostic index. I don't see any other correlations that could mean anything for death_by_cancer.\n",
    "\n"
   ]
  },
  {
   "cell_type": "code",
   "execution_count": null,
   "id": "5a8c0fe8",
   "metadata": {},
   "outputs": [],
   "source": [
    "#looking at box plot of the outcome vs lympth nodes. I see that people who survived overall had fewer lymph nodes positive. \n",
    "\n",
    "_ = sns.boxplot(x='death_from_cancer',y='lymph_nodes_examined_positive',data=clinical)\n",
    "plt.show;"
   ]
  },
  {
   "cell_type": "code",
   "execution_count": null,
   "id": "acc054f5",
   "metadata": {},
   "outputs": [],
   "source": [
    "# looking at outcome vs the nottingham prognostic index. Here I see that most people who died have an index over 4,\n",
    "#and most who survived had an index under 4, even though the median for the two groups was similar.\n",
    "\n",
    "#THIS SEEMS TO BE OUR BEST INDICATOR SO FAR OF OUTCOME PREDICTION\n",
    "\n",
    "_ = sns.boxplot(x='death_from_cancer',y='nottingham_prognostic_index',data=clinical)\n",
    "plt.show;"
   ]
  },
  {
   "cell_type": "code",
   "execution_count": null,
   "id": "1056bc9d",
   "metadata": {},
   "outputs": [],
   "source": [
    "#make a heat map of correlations\n",
    "\n",
    "plt.figure(figsize=(40,20))\n",
    "\n",
    "sns.heatmap(clinical_dummies.corr(), annot=False);"
   ]
  },
  {
   "cell_type": "markdown",
   "id": "585a8587",
   "metadata": {},
   "source": [
    "## 2.6 Z Score Data  <a id='2.6_z_score'></a>"
   ]
  },
  {
   "cell_type": "markdown",
   "id": "4cb63960",
   "metadata": {},
   "source": [
    "### 2.6.1 How are the z scores connected to the genetic mutation data? <a id='2.6.1_z_score_mutation'></a>\n",
    "\n",
    "How do the z scores relate to the mutation section of our data? Are there corresponding mutations for the z score columns?"
   ]
  },
  {
   "cell_type": "code",
   "execution_count": null,
   "id": "cef60616",
   "metadata": {},
   "outputs": [],
   "source": [
    "#extract z score columns:\n",
    "z_scores=cancer_data.loc[:,'brca1':'ugt2b7']\n",
    "\n",
    "#extract mutation columns:\n",
    "mutation_cols = cancer_data.loc[:,'pik3ca_mut':]\n"
   ]
  },
  {
   "cell_type": "code",
   "execution_count": null,
   "id": "f6a8705f",
   "metadata": {},
   "outputs": [],
   "source": [
    "#I want to find which genes are both in z_scores and mutation_cols.\n",
    "\n",
    "z_mut_match=[]\n",
    "# Iterate over the z-score column names\n",
    "for col in z_scores:\n",
    "    gene_name = col  # Assuming the gene name is the same as the z-score column name\n",
    "    mutations = f\"{gene_name}_mut\"\n",
    "    if mutations in mutation_cols.columns:\n",
    "        z_mut_match.append(col)\n",
    "        \n",
    "print(z_mut_match)"
   ]
  },
  {
   "cell_type": "code",
   "execution_count": null,
   "id": "932953a7",
   "metadata": {},
   "outputs": [],
   "source": [
    "print('number of columns in z_scores: ',z_scores.shape[1])\n",
    "print('number of columns in mutation_cols: ',mutation_cols.shape[1])\n",
    "print('number of matches between z scores and mutations: ',len(z_mut_match))\n",
    "print('percent of z_scores with corresponding mutation: ',len(z_mut_match)/z_scores.shape[1]*100,'%')\n",
    "\n",
    "print('number of z scores that do not have a match: ',489-len(z_mut_match))\n",
    "print('number of mutations that do not have a match: ',173-len(z_mut_match))"
   ]
  },
  {
   "cell_type": "markdown",
   "id": "0d3470b2",
   "metadata": {},
   "source": [
    "### Conclusion:\n",
    "\n",
    "Only about 34% of the z_score columns have a corresponding column for mutations, but all but 5 of the mutation columns have a matching z_score. However, we should still look at all of the z scores and all of the mutations because the fact that a gene is up-regulated or down-regulated may potentially have an impact on survival. I don't think I should try to tie the z scores and genes together in the data, I'll leave it as it is. \n",
    "\n"
   ]
  },
  {
   "cell_type": "markdown",
   "id": "b260dca9",
   "metadata": {},
   "source": [
    "## 2.6.2 Z Score Outcomes <a id='2.6.2_z_score_outcomes'></a>\n",
    "Here I am investigating our z scores, and will see how they are related to patient outcomes."
   ]
  },
  {
   "cell_type": "markdown",
   "id": "6137fab3",
   "metadata": {},
   "source": [
    "### 2.6.2a Z Score Distributions  <a id='2.6.2a_z_score_dist'></a>"
   ]
  },
  {
   "cell_type": "code",
   "execution_count": null,
   "id": "bd39a86b",
   "metadata": {},
   "outputs": [],
   "source": [
    "#create dataframe of just z_scores\n",
    "z_scores = cancer_data.iloc[:,32:520]\n",
    "z_scores.head()"
   ]
  },
  {
   "cell_type": "code",
   "execution_count": null,
   "id": "9946ebaa",
   "metadata": {},
   "outputs": [],
   "source": [
    "#create one with patient IDs and outcome as well:\n",
    "\n",
    "patient_id = cancer_data['patient_id']\n",
    "outcome = cancer_data['death_from_cancer']\n",
    "z_scores_id = pd.concat([patient_id, outcome, z_scores], axis=1)\n",
    "z_scores_id.set_index('patient_id', inplace=True)\n",
    "\n",
    "z_scores_id.head()"
   ]
  },
  {
   "cell_type": "code",
   "execution_count": null,
   "id": "dd59021b",
   "metadata": {},
   "outputs": [],
   "source": [
    "z_scores.describe()"
   ]
  },
  {
   "cell_type": "code",
   "execution_count": null,
   "id": "e6555b0d",
   "metadata": {},
   "outputs": [],
   "source": [
    "z_scores.info()"
   ]
  },
  {
   "cell_type": "code",
   "execution_count": null,
   "id": "8d698c7b",
   "metadata": {},
   "outputs": [],
   "source": [
    "#find maximum z scores\n",
    "max_z = z_scores.max().sort_values(ascending=False)\n",
    "max_z.head(20)"
   ]
  },
  {
   "cell_type": "code",
   "execution_count": null,
   "id": "4a68b9ae",
   "metadata": {},
   "outputs": [],
   "source": [
    "#minimum z scores\n",
    "\n",
    "min_z = z_scores.min().sort_values(ascending=True)\n",
    "min_z.head(20)"
   ]
  },
  {
   "cell_type": "markdown",
   "id": "905595b8",
   "metadata": {},
   "source": [
    "I see that our z scores go between about -7 and 20, but where do most of the z scores fall?"
   ]
  },
  {
   "cell_type": "code",
   "execution_count": null,
   "id": "a07aa013",
   "metadata": {},
   "outputs": [],
   "source": [
    "# create a list of gene names to plot\n",
    "genes_to_plot = z_scores.columns.to_list()\n",
    "\n",
    "# create a list to hold the z scores for each gene\n",
    "z_score_lists = []\n",
    "\n",
    "# loop through each gene in genes_to_plot and add its z scores to the list\n",
    "for gene in genes_to_plot:\n",
    "    z_score_lists.append(z_scores[gene])\n",
    "\n",
    "# plot the histograms for each gene on the same plot\n",
    "plt.hist(z_score_lists, bins=20, label=genes_to_plot)\n",
    "\n",
    "plt.xlabel('Z score')\n",
    "plt.ylabel('Frequency')\n",
    "plt.title('Histogram of Z scores for all genes')\n",
    "plt.ylim(0,1100)\n",
    "\n",
    "plt.show()"
   ]
  },
  {
   "cell_type": "markdown",
   "id": "965cf3bd",
   "metadata": {},
   "source": [
    "The above plot covers the range of all of the data, but the vast majority of our data is between -5 and 5. I want to zoom in here. "
   ]
  },
  {
   "cell_type": "code",
   "execution_count": null,
   "id": "307cca3d",
   "metadata": {},
   "outputs": [],
   "source": [
    "# Repeating the previous code block, but zoomed in to -5 to 5\n",
    "\n",
    "for gene in genes_to_plot:\n",
    "    z_score_lists.append(z_scores[gene])\n",
    "\n",
    "plt.hist(z_score_lists, bins=20, label=genes_to_plot)\n",
    "\n",
    "plt.xlabel('Z score')\n",
    "plt.ylabel('Frequency')\n",
    "plt.title('Histogram of Z scores for all genes')\n",
    "plt.ylim(0,1100)\n",
    "plt.xlim(-5,5)\n",
    "plt.xticks([-5,-4,-3,-2,-1,0,1,2,3,4,5])\n",
    "\n",
    "plt.show()"
   ]
  },
  {
   "cell_type": "markdown",
   "id": "e9e48e31",
   "metadata": {},
   "source": [
    "I see that the vast majority of our z scores fall between -3 and 4, and mostly beween -2 and 2. I would like to see if certain ranges of z scores are related to survival, as I suspect that the extreme z scores may be important."
   ]
  },
  {
   "cell_type": "code",
   "execution_count": null,
   "id": "95735583",
   "metadata": {},
   "outputs": [],
   "source": [
    "#Z SCORES OVER 4\n",
    "# Create a boolean mask based on the condition z_scores over 4\n",
    "mask = (z_scores_id.iloc[:, 2:] >= 4).any(axis=1)\n",
    "\n",
    "# Apply the boolean mask to filter the rows\n",
    "z_score_over_4 = z_scores_id.loc[mask]\n",
    "\n",
    "#Z SCORES UNDER =4\n",
    "\n",
    "mask2 = (z_scores_id.iloc[:, 2:] <= -4).any(axis=1)\n",
    "\n",
    "# Apply the boolean mask to filter the rows\n",
    "z_score_under_neg_4  = z_scores_id.loc[mask2]\n",
    "\n",
    "z_score_under_neg_4.head()"
   ]
  },
  {
   "cell_type": "code",
   "execution_count": null,
   "id": "ce7b120a",
   "metadata": {},
   "outputs": [],
   "source": [
    "z_score_over_4.info()"
   ]
  },
  {
   "cell_type": "code",
   "execution_count": null,
   "id": "de86e7dd",
   "metadata": {},
   "outputs": [],
   "source": [
    "z_score_over_4.shape"
   ]
  },
  {
   "cell_type": "code",
   "execution_count": null,
   "id": "ad23584f",
   "metadata": {},
   "outputs": [],
   "source": [
    "z_score_under_neg_4.info()"
   ]
  },
  {
   "cell_type": "code",
   "execution_count": null,
   "id": "f2316e18",
   "metadata": {},
   "outputs": [],
   "source": [
    "z_score_under_neg_4.shape"
   ]
  },
  {
   "cell_type": "code",
   "execution_count": null,
   "id": "7208f2df",
   "metadata": {},
   "outputs": [],
   "source": [
    "print('Number of patients with z scores over 4: ',z_score_over_4.shape[0])\n",
    "print('Number of patients with z scores under -4: ',z_score_under_neg_4.shape[0])"
   ]
  },
  {
   "cell_type": "markdown",
   "id": "3f926906",
   "metadata": {},
   "source": [
    "It looks like 52% of our patients have at least 1 z score over 4, but only 5.5% have a z score under -4. Let's investigate this further to see how it may relate to outcome."
   ]
  },
  {
   "cell_type": "code",
   "execution_count": null,
   "id": "9c66b734",
   "metadata": {},
   "outputs": [],
   "source": [
    "\n",
    "fig, axes = plt.subplots(nrows=1, ncols=3, figsize=(12, 4))\n",
    "\n",
    "# z scores under -4\n",
    "sns.countplot(x='death_from_cancer', data=z_score_under_neg_4, ax=axes[0])\n",
    "axes[0].set_xlabel('Outcome \\n(0:Died of Disease, 1:Survived/Death from other causes)')\n",
    "axes[0].set_ylabel('Count')\n",
    "axes[0].set_title('Outcomes for Patients with Z Scores Under -4')\n",
    "\n",
    "# full z scores\n",
    "sns.countplot(x='death_from_cancer', data=z_scores_id, ax=axes[1])\n",
    "axes[1].set_xlabel('Outcome \\n(0:Died of Disease, 1:Survived/Death from other causes)')\n",
    "axes[1].set_ylabel('Count')\n",
    "axes[1].set_title('Outcomes for All Patients')\n",
    "\n",
    "# z scores over 4\n",
    "sns.countplot(x='death_from_cancer', data=z_score_over_4, ax=axes[2])\n",
    "axes[2].set_xlabel('Outcome \\n(0:Died of Disease, 1:Survived/Death from other causes)')\n",
    "axes[2].set_ylabel('Count')\n",
    "axes[2].set_title('Outcomes for Patients with Z Scores Over 4')\n",
    "\n",
    "# Add spacing between subplots\n",
    "fig.tight_layout()\n",
    "\n",
    "# Show the plot\n",
    "plt.show();\n"
   ]
  },
  {
   "cell_type": "markdown",
   "id": "0ca42b6d",
   "metadata": {},
   "source": [
    "Below are printouts of the percents and counts for these three groups:"
   ]
  },
  {
   "cell_type": "code",
   "execution_count": null,
   "id": "7321ee67",
   "metadata": {},
   "outputs": [],
   "source": [
    "# z scores under -4\n",
    "survival_counts1 =z_score_under_neg_4['death_from_cancer'].value_counts()\n",
    "print('Low Z Score: Percents Died vs Survived:\\n',100*survival_counts1/len(z_score_under_neg_4))\n",
    "print('\\nLow Z Scores Counts:\\n ',survival_counts1)\n",
    "\n",
    "survival_counts2 = cancer_data['death_from_cancer'].value_counts()\n",
    "print('\\nAll Patients: Percents Died vs Survived:\\n',100*survival_counts2/len(cancer_data))\n",
    "print('\\nAll Z Scores Counts:\\n ',survival_counts2)\n",
    "\n",
    "survival_counts3 =z_score_over_4['death_from_cancer'].value_counts()\n",
    "print('\\nHigh Z Score: Percents Died vs Survived:\\n',100*survival_counts3/len(z_score_over_4))\n",
    "print('\\nAll Z Scores Counts:\\n ',survival_counts3)"
   ]
  },
  {
   "cell_type": "markdown",
   "id": "740ec400",
   "metadata": {},
   "source": [
    "I can see tht 32.7% of all patients died from cancer, 36.5% for those with at least 1 z score under -4, and 35% of those with at least 1 z score over 4. \n",
    "\n",
    "However, our patient count is much lower for those with the low z scores. Is the change in proportion due to chance or is it significant? \n",
    "\n",
    "I will test our null hypothesis, which is that the z score makes no difference in patient outcome. As our outcome data is binary I should do a chi-squared test, but because our under -4 dataset only has 104 patients, I will also do a Fisher's Exact test. I'll do both to compare, but will rely more heavily on Fisher's Exact test. "
   ]
  },
  {
   "cell_type": "markdown",
   "id": "256cea25",
   "metadata": {},
   "source": [
    "### 2.6.2b P-Values for Z Scores <a id='2.6.2a_p_values'></a>"
   ]
  },
  {
   "cell_type": "markdown",
   "id": "485df0d3",
   "metadata": {},
   "source": [
    "Create Contingency Tables:"
   ]
  },
  {
   "cell_type": "code",
   "execution_count": null,
   "id": "033aa929",
   "metadata": {},
   "outputs": [],
   "source": [
    "# contingency table for z_score_over_4 data:\n",
    "\n",
    "table_fisher_4 = pd.DataFrame({'Z Score over 4':[348,646 ], 'All Z Scores':[622,1281]},index=pd.Index(['Died of Disease', 'Did Not Die of Disease']))\n",
    "table_fisher_4"
   ]
  },
  {
   "cell_type": "code",
   "execution_count": null,
   "id": "12dcf6a6",
   "metadata": {},
   "outputs": [],
   "source": [
    "# contingency table for z_score_under_neg_4 data:\n",
    "\n",
    "table_fisher_neg_4 = pd.DataFrame({'Z Score Under -4':[38,66 ], 'All Z Scores':[622,1281]},index=pd.Index(['Died of Disease', 'Did Not Die of Disease']))\n",
    "table_fisher_neg_4"
   ]
  },
  {
   "cell_type": "markdown",
   "id": "1dba7a0f",
   "metadata": {},
   "source": [
    "### P-Value for Z scores Under -4"
   ]
  },
  {
   "cell_type": "code",
   "execution_count": null,
   "id": "582fbd4c",
   "metadata": {},
   "outputs": [],
   "source": [
    "# Fisher's Exact Test (following this method: https://www.reneshbedre.com/blog/fisher-exact-test-python.html)\n",
    "oddsr, p = fisher_exact(table=table_fisher_neg_4.to_numpy(), alternative='greater')\n",
    "oddsr, p\n",
    "print(f\"Odds ratio: {oddsr:.2f}\")\n",
    "print(f\"P-value: {p:.2e}\")"
   ]
  },
  {
   "cell_type": "code",
   "execution_count": null,
   "id": "46f7368d",
   "metadata": {},
   "outputs": [],
   "source": [
    "# Chi Squared Test, to see how it compares:\n",
    "\n",
    "chi2, p, dof, expected = chi2_contingency(table_fisher_neg_4)\n",
    "print('Chi-squared statistic:', chi2)\n",
    "print('P-value:', p)"
   ]
  },
  {
   "cell_type": "markdown",
   "id": "4587c7d4",
   "metadata": {},
   "source": [
    "### P-Value for Z scores Over -4"
   ]
  },
  {
   "cell_type": "code",
   "execution_count": null,
   "id": "3d7ae98e",
   "metadata": {},
   "outputs": [],
   "source": [
    "# Fisher's Exact Test (following this method: https://www.reneshbedre.com/blog/fisher-exact-test-python.html)\n",
    "oddsr, p = fisher_exact(table=table_fisher_4.to_numpy(), alternative='greater')\n",
    "oddsr, p\n",
    "print(f\"Odds ratio: {oddsr:.2f}\")\n",
    "print(f\"P-value: {p:.2e}\")"
   ]
  },
  {
   "cell_type": "code",
   "execution_count": null,
   "id": "6503f477",
   "metadata": {},
   "outputs": [],
   "source": [
    "# Chi Squared Test, to see how it compares:\n",
    "\n",
    "chi2, p, dof, expected = chi2_contingency(table_fisher_4)\n",
    "print('Chi-squared statistic:', chi2)\n",
    "print('P-value:', p)"
   ]
  },
  {
   "cell_type": "markdown",
   "id": "b9f1b976",
   "metadata": {},
   "source": [
    "### Observations:\n",
    "The p values for extreme z scores are not small enough to reject the null hypothesis. So we cannot say that z scores impact survival outcomes.  \n"
   ]
  },
  {
   "cell_type": "markdown",
   "id": "ce898541",
   "metadata": {},
   "source": [
    "## 2.6.3 Correlation of Z Scores and Outcome <a id='2.6.3_corr'></a>"
   ]
  },
  {
   "cell_type": "code",
   "execution_count": null,
   "id": "9f859cf1",
   "metadata": {},
   "outputs": [],
   "source": [
    "z_score_over_4.head()"
   ]
  },
  {
   "cell_type": "code",
   "execution_count": null,
   "id": "fc151ee1",
   "metadata": {},
   "outputs": [],
   "source": [
    "fig, ax = plt.subplots(figsize=(10,4))\n",
    "correlation=[]\n",
    "for col in z_score_over_4.columns:\n",
    "    corr = z_score_over_4[col].corr(z_score_over_4['death_from_cancer'])\n",
    "    correlation.append(corr)\n",
    "\n",
    "  \n",
    "correlation.pop(0)\n",
    "ax.hist(correlation,  bins=30)\n",
    "ax.set_xlabel(\"Correlation\")\n",
    "ax.set_ylabel(\"Count\")\n",
    "ax.set_title('Correlation of Z Score over 4 and Outcome')\n",
    "\n",
    "plt.show()\n"
   ]
  },
  {
   "cell_type": "code",
   "execution_count": null,
   "id": "143e6551",
   "metadata": {
    "scrolled": true
   },
   "outputs": [],
   "source": [
    "fig, ax = plt.subplots(figsize=(10,4))\n",
    "correlation=[]\n",
    "for col in z_score_under_neg_4.columns:\n",
    "    corr = z_score_under_neg_4[col].corr(z_score_under_neg_4['death_from_cancer'])\n",
    "    correlation.append(corr)\n",
    "    \n",
    "  \n",
    "correlation.pop(0)\n",
    "ax.hist(correlation,  bins=30)\n",
    "ax.set_xlabel(\"Correlation\")\n",
    "ax.set_ylabel(\"Count\")\n",
    "ax.set_title('Correlation of Z Score Under -4 and Outcome')\n",
    "\n",
    "plt.show()"
   ]
  },
  {
   "cell_type": "markdown",
   "id": "67dc9349",
   "metadata": {},
   "source": [
    "\n",
    "Now we are getting somewhere! The positive z scores don't show any correlation, but there is more correlation with the patients with z_scores under -4. \n",
    "\n",
    "Next I want to find what columns contain these low values, and find the p value. "
   ]
  },
  {
   "cell_type": "code",
   "execution_count": null,
   "id": "2a1ac408",
   "metadata": {},
   "outputs": [],
   "source": [
    "# Filter the DataFrame to keep only the rows where the values are <= -4\n",
    "\n",
    "#rename df to be easier to type:\n",
    "low_z = z_score_under_neg_4\n",
    "\n",
    "#looking to see which genes have low z scores (under -4)\n",
    "low_z_bool = z_scores_id[(z_scores_id.iloc[:, 2:] < -4)].any().sort_values(ascending=False)\n",
    "low_z_bool.head()"
   ]
  },
  {
   "cell_type": "code",
   "execution_count": null,
   "id": "a1ddb9f6",
   "metadata": {},
   "outputs": [],
   "source": [
    "#filtering my dataframe to make it so all values over -4 are NAN\n",
    "\n",
    "# Create a boolean mask of values less than or equal to -4\n",
    "mask = low_z.iloc[:, 2:] <= -4\n",
    "\n",
    "# Use the where method to replace values greater than -4 with NaN\n",
    "low_z_filtered = low_z.iloc[:, 2:].where(mask, other=np.nan)\n",
    "\n",
    "# Combine the patient_id and death_from_cancer columns with the filtered z-score data\n",
    "low_z_filtered = pd.concat([low_z.iloc[:, :1], low_z_filtered], axis=1)\n",
    "low_z_filtered.head()\n"
   ]
  },
  {
   "cell_type": "code",
   "execution_count": null,
   "id": "a8132f11",
   "metadata": {},
   "outputs": [],
   "source": [
    "low_z_filtered.info()"
   ]
  },
  {
   "cell_type": "code",
   "execution_count": null,
   "id": "7fd6ce57",
   "metadata": {},
   "outputs": [],
   "source": [
    "from scipy.stats import mannwhitneyu\n",
    "# null hypothsis is that z score makes no difference on outcome.Do a Mann Whitney U Test.\n",
    "# this test is used when data are not normally distributed. Tests if sample mans ar equal or not, often used in medical trials. \n",
    "\n",
    "# define the two groups based on the death_from_cancer column\n",
    "survived_other_causes= low_z[low_z['death_from_cancer'] == 1]\n",
    "death_disease = low_z[low_z['death_from_cancer'] == 0]\n",
    "\n",
    "# loop over each column and perform the Mann-Whitney U-test\n",
    "p_values = []\n",
    "for col in low_z.columns[2:]:\n",
    "    stat, p = mannwhitneyu(survived_other_causes[col].dropna(), death_disease[col].dropna())\n",
    "    p_values.append(p)\n",
    "\n",
    "# create a new dataframe with the p-values for each column\n",
    "p_values_df = pd.DataFrame({'gene': low_z.columns[2:], 'p_value': p_values})\n",
    "p_values_df.head()"
   ]
  },
  {
   "cell_type": "code",
   "execution_count": null,
   "id": "d0ca606f",
   "metadata": {},
   "outputs": [],
   "source": [
    "p_significant = p_values_df[p_values_df['p_value']<= 0.05]\n",
    "p_significant.info()"
   ]
  },
  {
   "cell_type": "code",
   "execution_count": null,
   "id": "f66aebd9",
   "metadata": {},
   "outputs": [],
   "source": [
    "p_significant.sort_values(by='p_value')"
   ]
  },
  {
   "cell_type": "markdown",
   "id": "1202cc2e",
   "metadata": {},
   "source": [
    "Now I have the above genes where my null hypothesis is false, so these genes may impact outcome if the z score is under -4. I don't know what to do about this now. I have 127 genes of interest out of the original 487. "
   ]
  },
  {
   "cell_type": "code",
   "execution_count": null,
   "id": "c00adf0b",
   "metadata": {},
   "outputs": [],
   "source": [
    "#list of columns with p score > 0.05\n",
    "sig_genes = p_significant['gene'].tolist()\n",
    "print(sig_genes)"
   ]
  },
  {
   "cell_type": "code",
   "execution_count": null,
   "id": "eeb8ea84",
   "metadata": {},
   "outputs": [],
   "source": [
    "# looking at the correlation coefficant and p value for the gene with the most significant p value:\n",
    "corr, p = pearsonr(z_score_under_neg_4['cyb5a'], z_score_under_neg_4['death_from_cancer'])\n",
    "\n",
    "# Print the correlation coefficient and its associated p-value\n",
    "print('Correlation coefficient:', corr)\n",
    "print('P-value:', p)\n"
   ]
  },
  {
   "cell_type": "markdown",
   "id": "b4cb3fb5",
   "metadata": {},
   "source": [
    "Now I want to create a new dataframe with just these genes, and see what I see there. "
   ]
  },
  {
   "cell_type": "code",
   "execution_count": null,
   "id": "363d5544",
   "metadata": {},
   "outputs": [],
   "source": [
    "# First make a new dataframe with the patient id and outcome:\n",
    "\n",
    "z_scores_sig = cancer_data[['patient_id','death_from_cancer']]\n",
    "\n",
    "# Now add in the gene columns if they are in sig_genes\n",
    "\n",
    "# select the columns I want from 'cancer_data'\n",
    "cancer_data_subset = cancer_data.loc[:, sig_genes]\n",
    "\n",
    "# merge the subset dataframe with 'z_scores_sig' based on their indices\n",
    "z_scores_sig = z_scores_sig.merge(cancer_data_subset, left_index=True, right_index=True)\n",
    "\n",
    "z_scores_sig.head()"
   ]
  },
  {
   "cell_type": "code",
   "execution_count": null,
   "id": "136ab6c3",
   "metadata": {},
   "outputs": [],
   "source": [
    "z_scores_sig.info()"
   ]
  },
  {
   "cell_type": "markdown",
   "id": "427e989c",
   "metadata": {},
   "source": [
    "CONCLUSION:There are 129 genes have are weakly correlated to survival. I'm leaving everything as-is for now. "
   ]
  },
  {
   "cell_type": "markdown",
   "id": "d604ab1f",
   "metadata": {},
   "source": [
    "## 2.7 Genetic Mutation Data <a id='2.6.7_genetic'></a>"
   ]
  },
  {
   "cell_type": "markdown",
   "id": "c52e5c16",
   "metadata": {},
   "source": [
    "How many columns of genetic mutations are in the dataset?"
   ]
  },
  {
   "cell_type": "code",
   "execution_count": null,
   "id": "c126d93a",
   "metadata": {},
   "outputs": [],
   "source": [
    "#getting a list of gene mutation columns\n",
    "gene_mut_columns = [col for col in cancer_data.columns if '_mut' in col]\n",
    "number_gen_mut_columns = len(gene_mut_columns)\n",
    "print('number of gene mutation columns: ',number_gen_mut_columns)"
   ]
  },
  {
   "cell_type": "markdown",
   "id": "79212031",
   "metadata": {},
   "source": [
    "I have seen previously that some of the columns have two gene mutation entries for one patient. How often does this show up?"
   ]
  },
  {
   "cell_type": "markdown",
   "id": "6cb342d9",
   "metadata": {},
   "source": [
    "I have seen previously that some of the columns have two gene mutation entries for one patient. How often does this show up?"
   ]
  },
  {
   "cell_type": "code",
   "execution_count": null,
   "id": "c591e013",
   "metadata": {},
   "outputs": [],
   "source": [
    "#first make a dataframe that's a subset of cancer_data, containing only the genetic mutation data. \n",
    "gene_mut = cancer_data.loc[:,'pik3ca_mut':]\n",
    "gene_mut.head()\n"
   ]
  },
  {
   "cell_type": "markdown",
   "id": "66859f99",
   "metadata": {},
   "source": [
    "I know that in the data, multiple mutations for a single patient and gene are entered by including a space between each mutation. I will search for spaces, but first need to strip spaces from the beginning and end of each entry."
   ]
  },
  {
   "cell_type": "code",
   "execution_count": null,
   "id": "a51a207c",
   "metadata": {},
   "outputs": [],
   "source": [
    "#convert into object\n",
    "gene_mut = gene_mut.astype('object')\n",
    "\n",
    "#strip the spaces from either side of entries in dataframe\n",
    "\n",
    "gene_mut_stripped = gene_mut.apply(lambda x: x.str.strip())\n"
   ]
  },
  {
   "cell_type": "markdown",
   "id": "47ab9069",
   "metadata": {},
   "source": [
    "Now I will get the count of the genetic mutations that have more than one mutation listed at a time:"
   ]
  },
  {
   "cell_type": "code",
   "execution_count": null,
   "id": "a6e208cd",
   "metadata": {},
   "outputs": [],
   "source": [
    "\n",
    "mutation_counts = gene_mut.apply(lambda x: x.str.count(' ').sum())\n",
    "non_zero_counts = mutation_counts[mutation_counts > 0]\n",
    "total_non_zero_counts = non_zero_counts.sum()\n",
    "print('TOTAL number of occurances of more than one mutation per gene per patient: ',total_non_zero_counts)\n",
    "\n",
    "#and also want to know the total number of mutations listed overall:\n",
    "#finding the entries that are non zero\n",
    "non_zero_mutation = gene_mut.ne('0')\n",
    "#summing the boolean values and then converting to scalar with second sum. \n",
    "#This does not include the 'extras' where there are more than one mutation listed at a time \n",
    "total_mut_count = non_zero_mutation.sum().sum()\n",
    "print('total mutation count: ',total_mut_count)\n",
    "\n",
    "print('\\ntally of mutiple mutations listed per patient, per gene:\\n',non_zero_counts.to_string())"
   ]
  },
  {
   "cell_type": "markdown",
   "id": "2e5cbc4a",
   "metadata": {},
   "source": [
    "I now want to know if any patients have more than 2 gene mutations listed at a time. "
   ]
  },
  {
   "cell_type": "code",
   "execution_count": null,
   "id": "e6ec75d7",
   "metadata": {},
   "outputs": [],
   "source": [
    "#define a funtion to search for more than 2 mutation in a cell:\n",
    "\n",
    "def count_mut(s):\n",
    "    return s.count(' ') + 1\n",
    "\n",
    "#apply the function:\n",
    "\n",
    "muts_3plus = gene_mut_stripped.apply(lambda x: x.apply(count_mut))\n",
    "\n",
    "# find the columns that contain at least one cell with 3 mutations\n",
    "columns_muts_3 = muts_3plus.columns[muts_3plus.apply(lambda x: (x == 3).any())]\n",
    "\n",
    "print('columns with 3 mutations per patient:\\n ',columns_muts_3)\n",
    "\n",
    "#see if any columns contain 4 or more mutations\n",
    "\n",
    "columns_muts_4 = muts_3plus.columns[muts_3plus.apply(lambda x: (x == 4).any())]\n",
    "\n",
    "print('\\ncolumns with 4 mutations per patient: \\n ',columns_muts_4)\n",
    "\n",
    "\n",
    "columns_muts_5 = muts_3plus.columns[muts_3plus.apply(lambda x: (x >= 5).any())]\n",
    "\n",
    "print('\\ncolumns with 5 mutations per patient: \\n ',columns_muts_5)\n"
   ]
  },
  {
   "cell_type": "markdown",
   "id": "be53fa48",
   "metadata": {},
   "source": [
    "There's no easy end in sight here, so I'm going to do a count to find the maximum number of mutations. "
   ]
  },
  {
   "cell_type": "code",
   "execution_count": null,
   "id": "b44d1909",
   "metadata": {},
   "outputs": [],
   "source": [
    "# Define a function to count the number of mutations in a cell\n",
    "def count_mutations(cell):\n",
    "    #check if cell contents is a string\n",
    "    if isinstance(cell, str):\n",
    "    #if so, splits it into a list and counts how many mutations are in the list\n",
    "        return len(cell.split())\n",
    "    else:\n",
    "        return 0\n",
    "\n",
    "# Apply the function to each cell in the dataframe\n",
    "mutation_counts_cell = gene_mut_stripped.applymap(count_mutations)\n",
    "\n",
    "# Find the maximum number of mutations\n",
    "max_mutations = mutation_counts_cell.max().max()\n",
    "\n",
    "print(f\"The maximum number of mutations in a single cell is {max_mutations}.\")\n"
   ]
  },
  {
   "cell_type": "markdown",
   "id": "e7e56297",
   "metadata": {},
   "source": [
    "<b>Summary so far:</b> We have 173 columns of genetic mutation data, with 9728 total cells containing mutations, and 851 of these contain more than 1 mutation. The maximum number of mutations in a single cell is 10, but the majority with multiple mutations per cell only have 2. \n",
    "\n",
    "Next steps: I need to figure out how to split the data, and then I can do more EDA once that happens. "
   ]
  },
  {
   "cell_type": "code",
   "execution_count": null,
   "id": "e794b0b4",
   "metadata": {},
   "outputs": [],
   "source": [
    "#First I want to add the patient_id column back to the mutation data in case I need this. \n",
    "patient_id = cancer_data['patient_id']\n",
    "gene_mut_merged = pd.concat([patient_id, gene_mut_stripped], axis=1)\n",
    "gene_mut_merged.set_index('patient_id')"
   ]
  },
  {
   "cell_type": "markdown",
   "id": "77f3d37e",
   "metadata": {},
   "source": [
    "### 2.7.1 Convert gene mutation columns into binary  <a id='2.7.1_binary'></a>\n",
    "Our dataset is getting large and complicated, and I think that the first thing we want to do is to convert each cell into a 0 or 1 to indicate if there are mutation(s) present or not.\n",
    "    "
   ]
  },
  {
   "cell_type": "code",
   "execution_count": null,
   "id": "a7793482",
   "metadata": {},
   "outputs": [],
   "source": [
    "mutations = gene_mut_merged.copy()\n",
    "\n",
    "for i in range(len(mutations)):\n",
    "    for j in range(1, len(mutations.columns)):\n",
    "        if len(str(mutations.iloc[i,j])) > 1:\n",
    "            mutations.iloc[i,j] = 1\n",
    "        else:\n",
    "            mutations.iloc[i,j] = 0\n",
    "\n",
    "    "
   ]
  },
  {
   "cell_type": "code",
   "execution_count": null,
   "id": "0e7ab00c",
   "metadata": {},
   "outputs": [],
   "source": [
    "mutations.head()"
   ]
  },
  {
   "cell_type": "code",
   "execution_count": null,
   "id": "1d1e4301",
   "metadata": {},
   "outputs": [],
   "source": [
    "#I want to look at just the mutations without the patient_id.\n",
    "\n",
    "mutations_no_id = mutations.iloc[:,1:]\n",
    "\n",
    "mutations_no_id.info()\n"
   ]
  },
  {
   "cell_type": "markdown",
   "id": "38e9bc13",
   "metadata": {},
   "source": [
    "I see that the dtype is still object, so I should change it to int."
   ]
  },
  {
   "cell_type": "code",
   "execution_count": null,
   "id": "9ca7c85a",
   "metadata": {},
   "outputs": [],
   "source": [
    "mutations = mutations.astype('int')\n",
    "mutations_no_id = mutations_no_id.astype('int')\n",
    "mutations.info()"
   ]
  },
  {
   "cell_type": "code",
   "execution_count": null,
   "id": "5d687fe3",
   "metadata": {},
   "outputs": [],
   "source": [
    "mutations_no_id.describe()"
   ]
  },
  {
   "cell_type": "markdown",
   "id": "08b3dc76",
   "metadata": {},
   "source": [
    "### 2.7.2 Correlations of Mutation Data <a id='2.7.2_corr'></a>"
   ]
  },
  {
   "cell_type": "code",
   "execution_count": null,
   "id": "657e6000",
   "metadata": {},
   "outputs": [],
   "source": [
    "# Find the most common 25 genes for mutations to take place, and count them.\n",
    "mut_sum = mutations_no_id.sum()\n",
    "top_25 = mut_sum.head(25)\n",
    "top_25"
   ]
  },
  {
   "cell_type": "markdown",
   "id": "ef8fd854",
   "metadata": {},
   "source": [
    "So I see the most common mutations that our patients have. I would like to look at these on a plot. "
   ]
  },
  {
   "cell_type": "code",
   "execution_count": null,
   "id": "635e74d6",
   "metadata": {},
   "outputs": [],
   "source": [
    "sns.barplot(x=top_25.index, y = top_25.values)\n",
    "plt.title(\"Top 25 Genes with Mutations\")\n",
    "plt.xlabel(\"Gene\")\n",
    "plt.ylabel(\"Count\")\n",
    "plt.xticks(rotation=45)\n",
    "plt.show;"
   ]
  },
  {
   "cell_type": "code",
   "execution_count": null,
   "id": "e96fc0b3",
   "metadata": {},
   "outputs": [],
   "source": [
    "#insert the overall_survival column into 'mutation' df - \n",
    "\n",
    "mutations.insert(1, \"overall_survival\", cancer_data[\"overall_survival\"])\n",
    "mutations.head()"
   ]
  },
  {
   "cell_type": "code",
   "execution_count": null,
   "id": "c423f979",
   "metadata": {},
   "outputs": [],
   "source": [
    "# plot histogram of Pearson Correlation Coefficient v number of genes with that correlation\n",
    "# Doing this a similar way as I found here: https://www.kaggle.com/code/raghadalharbi/breast-cancer-survival-prediction-acc-0-779 \n",
    "\n",
    "fig, ax = plt.subplots(figsize=(10,4))\n",
    "correlation=[]\n",
    "for col in mutations.drop(['patient_id'], axis = 1).columns:\n",
    "    corr = mutations[[col,'overall_survival']].corr()['overall_survival'][col]\n",
    "    correlation.append(corr)\n",
    "    \n",
    "correlation.pop(0)\n",
    "ax.hist(correlation,  bins=30)\n",
    "ax.set_xlabel(\"Correlation\")\n",
    "ax.set_ylabel(\"Frequency of a Correlation\")\n",
    "ax.set_title('Number of Genes with a Given Correlation with Overall Survival')\n",
    "\n",
    "\n",
    "plt.show();"
   ]
  },
  {
   "cell_type": "markdown",
   "id": "963660d9",
   "metadata": {},
   "source": [
    "In the above plot, we see that there are more genes correlated with patient death than with survival, but these do not show enough correlation to further investigate down this path. "
   ]
  },
  {
   "cell_type": "markdown",
   "id": "a9e13727",
   "metadata": {},
   "source": [
    "# 2.8 Preparation for export   <a id='2.8_prep'></a>"
   ]
  },
  {
   "cell_type": "markdown",
   "id": "a1c69d92",
   "metadata": {},
   "source": [
    "I need to tie our data back together and confirm that everything looks good so that we can move onto the next step"
   ]
  },
  {
   "cell_type": "markdown",
   "id": "ac8346da",
   "metadata": {},
   "source": [
    "The dataframes we want to look at are:\n",
    "* clinical_dummies\n",
    "* zscores_id\n",
    "* mutations"
   ]
  },
  {
   "cell_type": "code",
   "execution_count": null,
   "id": "243cdf3e",
   "metadata": {},
   "outputs": [],
   "source": [
    "# we previously saved the patient_id as a series, checking it out here. \n",
    "patient_id.info()"
   ]
  },
  {
   "cell_type": "code",
   "execution_count": null,
   "id": "20c81723",
   "metadata": {},
   "outputs": [],
   "source": [
    "# Looking at our clinical dataframe that was converted to numeric already with get_dummies method, inspecting this here.\n",
    "clinical_dummies.head()"
   ]
  },
  {
   "cell_type": "code",
   "execution_count": null,
   "id": "65bb91b9",
   "metadata": {},
   "outputs": [],
   "source": [
    "# Reset index of our clinical and mutations to 'patient_id' and make naming convention consistent\n",
    "\n",
    "clinical_id = clinical_dummies.set_index('patient_id')\n",
    "mutations_id = mutations.set_index('patient_id')\n",
    "clinical_id.head()"
   ]
  },
  {
   "cell_type": "code",
   "execution_count": null,
   "id": "e269ae3c",
   "metadata": {
    "scrolled": true
   },
   "outputs": [],
   "source": [
    "# Drop the death_from_cancer column from z_scores_id and mutations_id, so that when we join our \n",
    "#dataframes together we don't have repeats\n",
    "z_scores_no_outcome = z_scores_id.drop('death_from_cancer',axis=1)\n",
    "mutations_no_outcome = mutations_id.drop('overall_survival',axis=1)"
   ]
  },
  {
   "cell_type": "code",
   "execution_count": null,
   "id": "245607f7",
   "metadata": {
    "scrolled": false
   },
   "outputs": [],
   "source": [
    "z_scores_no_outcome.head()"
   ]
  },
  {
   "cell_type": "code",
   "execution_count": null,
   "id": "344708d1",
   "metadata": {},
   "outputs": [],
   "source": [
    "mutations_no_outcome.head"
   ]
  },
  {
   "cell_type": "markdown",
   "id": "fc3637c7",
   "metadata": {},
   "source": [
    "Merge our datasets back together"
   ]
  },
  {
   "cell_type": "code",
   "execution_count": null,
   "id": "bb840265",
   "metadata": {},
   "outputs": [],
   "source": [
    "num_data = pd.merge(clinical_id,z_scores_no_outcome, left_index=True, right_index=True)\n",
    "num_data = pd.merge(num_data, mutations_no_outcome, left_index=True, right_index=True)\n",
    "num_data.head()"
   ]
  },
  {
   "cell_type": "code",
   "execution_count": null,
   "id": "91cd8625",
   "metadata": {},
   "outputs": [],
   "source": [
    "# Confirm that there are no NANs left:\n",
    "num_data.isnull().values.any()"
   ]
  },
  {
   "cell_type": "code",
   "execution_count": null,
   "id": "c5e8887a",
   "metadata": {},
   "outputs": [],
   "source": [
    "# Compare current shape to original shape\n",
    "print('current shape: ',num_data.shape)\n",
    "print('original shape: ',cancer_data.shape)"
   ]
  },
  {
   "cell_type": "markdown",
   "id": "4990810f",
   "metadata": {},
   "source": [
    "This is what I expect - I didn't drop any patients, and I did add extra columns when I expanded the clinical data."
   ]
  },
  {
   "cell_type": "code",
   "execution_count": null,
   "id": "3053b1a1",
   "metadata": {
    "scrolled": true
   },
   "outputs": [],
   "source": [
    "# check datatypes\n",
    "num_data.dtypes\n"
   ]
  },
  {
   "cell_type": "markdown",
   "id": "c539697c",
   "metadata": {},
   "source": [
    "I see a lot of uint8 in my clinical data - look into this."
   ]
  },
  {
   "cell_type": "code",
   "execution_count": null,
   "id": "65eaf11f",
   "metadata": {},
   "outputs": [],
   "source": [
    "num_data.info()"
   ]
  },
  {
   "cell_type": "code",
   "execution_count": null,
   "id": "8ba2926c",
   "metadata": {},
   "outputs": [],
   "source": [
    "# convert uint8 to int64\n",
    "\n",
    "for col in num_data.columns:\n",
    "    if num_data[col].dtype == 'uint8':\n",
    "        num_data[col] = num_data[col].astype('int64')\n",
    "        \n",
    " \n",
    "# convert int32 to int64: \n",
    "\n",
    "for col in num_data.columns:\n",
    "    if num_data[col].dtype == 'int32':\n",
    "        num_data[col] = num_data[col].astype('int64')\n",
    "num_data.dtypes"
   ]
  },
  {
   "cell_type": "code",
   "execution_count": null,
   "id": "2561d040",
   "metadata": {},
   "outputs": [],
   "source": [
    "num_data.head()"
   ]
  },
  {
   "cell_type": "markdown",
   "id": "3f92c97e",
   "metadata": {},
   "source": [
    "<b>STATUS:</b> I have a dataframe 'num_data', which contains no missing data and everything is numeric. I am now ready for the preprocessing and modeling section of this project. "
   ]
  },
  {
   "cell_type": "markdown",
   "id": "b653d770",
   "metadata": {},
   "source": [
    "## 2.9 Exporting the Data  <a id='2.9_export'></a>"
   ]
  },
  {
   "cell_type": "code",
   "execution_count": null,
   "id": "51e4961b",
   "metadata": {},
   "outputs": [],
   "source": [
    "# export to a parquet so we can save data type\n",
    "num_data.to_parquet(r'C:\\Users\\leann\\OneDrive\\Desktop\\SPRINGBOARD\\capstone 2\\num_data.parquet', index=False)"
   ]
  },
  {
   "cell_type": "markdown",
   "id": "41a13e1c",
   "metadata": {},
   "source": [
    "## 2.10 Summary   <a id='2.10_summary'></a>\n",
    "CLINICAL DATA: The average (and median) age of patients is around 61, and the vast majority had invasive ductal carcinoma. Most patients did not get chemo, but did get radiotherapy and hormone therapy. Frequency of mutation counts peaked at 7, there is a very large spread of positive lymph nodes (though most patients have under 10 or none), and there is also a large spread of tumor size, though again most are under 10 cm. \n",
    "I decided to change our key metric of ‘death_by_cancer’ from categorical to binary, where 0 indicates death from disease and for 1 I combined survived and death from other causes. This is because we are interested in whether or not patients died from breast cancer, and other causes of death can skew the results. \n",
    "Comparing treatment modalities for outcomes overall doesn’t reveal anything obvious; outcomes are roughly the same for hormone therapy and radiotherapy, and outcomes are slightly worse for patients who had breast conserving surgery and no chemotherapy, which makes sense. \n",
    "Tumor stage appears to be the best indicator of outcome, as the proportion of patients who die from disease increases fairly evenly with stage 0-4. Unfortunately, we are missing 26% of this data because one of the cohorts did not record this metric.  As there is a reasonably good connection between tumor size and stage (with some significant outliers) I decided to impute the missing tumor stage data from the mean tumor size for each stage for the patients that had this recorded. Unfortunately, most did not, so I imputed with the median tumor size for the patient’s outcome for those remaining missing values. \n",
    "\n",
    "When looking at our clinical attributes vs outcomes, metaplastic breast cancer had the worst outcome. Neoplasm Histologic Grade shows a clear relationship with outcome; the lower the grade, the more patients who died of cancer. It looks like patients who did not die of cancer generally had fewer than 5 positive lymph nodes, and most had 0. Most of the patients with over 5 lymph nodes positive died of cancer. Negative ER status , negative PR status, and positive HER32 status were associated with better outcomes.\n",
    "I looked at the correlations between clinical attributes, and did not see any strong correlations with outcomes. I did note that there is a weak correlation between the number of positive lymph nodes and outcome, and made a box plot of this. I also noted that the Nottingham Prognostic Index showed a weak correlation, and when I looked at a box plot of this index vs outcomes, I saw that most people wo died of disease have an index over 4, and most patients who survived had an index under 4, even though the median for the two groups was very similar. Overall this seems to be a decent indicator of outcome. \n",
    "\n",
    "Z SCORES: I found that the z scores range from -7 to 20, with the vast majority falling between -3 and 4, and mostly between -2 and 2. I suspected that the z score outliers may impacted survival, and I looked into whether or not outcomes differed for patients with at least one z score over 4 (52% of patients) or under -4 (5.5% of patients). There was a difference in the outcomes, but when I did a null hypothesis test the p values were not small enough to say that the differences in outcomes is significant.\n",
    "\n",
    "When looking at the correlation of z scores over 4/under -4 and outcome, I saw no correlation at all with z scores over 4, but some weak correlations with z scores under -4. I should also note that the p value for the low z scores was lower (0.1), so it makes sense that we may see a bit more correlation here. I looked to see which genes have significant correlations, and I found 127 genes with a p value under 0.05, indicating that these are significantly (though weakly) correlated with survival. \n",
    "\n",
    "GENETIC MUTATIONS: I found that the most mutations happened on the pika3ca, tp53, muc15, ahnak2 and kmt2c genes, and looked at the patients that had multiple mutations on a single gene. We have 173 columns of genetic mutation data, with 9728 total cells containing mutations, and 851 of these contain more than 1 mutation. The maximum number of mutations in a single cell is 10, but the majority with multiple mutations per cell only have 2. To avoid having an enormous data set before it’s necessary, I decided to convert this section of the data into binary ‘mutations’ and ‘no mutations’, indicated by 1 or 0. If I find something significant here, I can go back and look and see if particular mutations make an important difference. \n",
    "I also looked to see if there was a correlation between outcomes and frequency of the presence of mutations on certain genes, and did not observe anything of note. \n",
    "\n",
    "I merged our 3 sections of the data back together, and confirmed that there is no missing data and everything is numeric and either a float\n",
    "\n",
    "The next notebook is titled 'Capstone2_modeling'."
   ]
  }
 ],
 "metadata": {
  "kernelspec": {
   "display_name": "Python 3 (ipykernel)",
   "language": "python",
   "name": "python3"
  },
  "language_info": {
   "codemirror_mode": {
    "name": "ipython",
    "version": 3
   },
   "file_extension": ".py",
   "mimetype": "text/x-python",
   "name": "python",
   "nbconvert_exporter": "python",
   "pygments_lexer": "ipython3",
   "version": "3.9.13"
  }
 },
 "nbformat": 4,
 "nbformat_minor": 5
}
