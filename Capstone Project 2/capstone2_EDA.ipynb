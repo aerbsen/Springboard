{
 "cells": [
  {
   "cell_type": "markdown",
   "id": "4a02d7a6",
   "metadata": {},
   "source": [
    "# 2 EDA: Breast Cancer Gene Expressions"
   ]
  },
  {
   "cell_type": "markdown",
   "id": "cb6050a6",
   "metadata": {},
   "source": [
    "## 2.1 Contents <a id='2.1_Contents'></a>"
   ]
  },
  {
   "cell_type": "markdown",
   "id": "071aa69e",
   "metadata": {},
   "source": [
    "* [2 Exploratory Data Analysis](#2_EDA)\n",
    "    * [2.1 Contents](#2.1_Contents)\n",
    "    * [2.2 Introduction](#2.2_Introduction)\n",
    "    * [2.3 Imports](#2.3_Imports)\n",
    "    * [2.4 Loading the Data](#2.4_Loading)"
   ]
  },
  {
   "cell_type": "markdown",
   "id": "91348084",
   "metadata": {},
   "source": [
    "## 2.2 Introduction <a id='2.2_Introduction'></a>"
   ]
  },
  {
   "cell_type": "markdown",
   "id": "37647e70",
   "metadata": {},
   "source": [
    "Breast cancer is the most frequently occurring cancer in women, and the leading cause of cancer-related deaths in women. The most important part of the decision making process for cancer patients is the accurate estimation of prognosis and survival duration, but the reality is that these are hard to predict because gene expression greatly impacts these metrics. Breast cancer patients with the same stage of the disease and the same clinical attributes can have different treatment responses and overall survival outcomes. This difference in outcomes is likely attributed to differences in gene expressions for specific genetic mutations.\n",
    "\n",
    "In this capstone project I will be using the clinical data, z scores, and genetic mutation data to predict if a patient with primary breast cancer will die of disease or not.dalharbi/breast-cancer-gene-expression-profiles-metabric\n",
    "\n",
    "_____\n",
    "This notebook is dedicated to exploratory data analysis (EDA) of the Metabric Breast Cancer Gene Expression Profiles data, sourced from https://www.kaggle.com/datasets/raghadalharbi/breast-cancer-gene-expression-profiles-metabric. \n",
    "\n",
    "Questions:\n",
    "1) what is the distribution of the different clinical attributes?\n",
    "2) How are the z scores connected to the genetic mutation data? (i.e. are there z scores associated with each mutation?)\n",
    "3) Can we drop the 'Stage' data entirely based on other clinical attributes that have less missing data? That is the one missing so much. \n",
    "4) are there similar distributions in the data for the different cohorts? \n",
    "5) What does it look like when we compare presence of genetic mutations with survival? \n"
   ]
  },
  {
   "cell_type": "markdown",
   "id": "59e80f36",
   "metadata": {},
   "source": [
    "## Imports  <a id='2.3_Imports'></a>"
   ]
  },
  {
   "cell_type": "code",
   "execution_count": 2,
   "id": "0c2072b3",
   "metadata": {},
   "outputs": [],
   "source": [
    "import pandas as pd\n",
    "import matplotlib.pyplot as plt\n",
    "import seaborn as sns\n",
    "import numpy as np\n"
   ]
  },
  {
   "cell_type": "markdown",
   "id": "c79d19eb",
   "metadata": {},
   "source": [
    "## Loading the Data <a id='2.4_Loading'></a>"
   ]
  },
  {
   "cell_type": "code",
   "execution_count": 4,
   "id": "28f2cd9e",
   "metadata": {},
   "outputs": [
    {
     "name": "stderr",
     "output_type": "stream",
     "text": [
      "C:\\Users\\leann\\anaconda3\\lib\\site-packages\\IPython\\core\\interactiveshell.py:3185: DtypeWarning: Columns (679,689,691,693) have mixed types.Specify dtype option on import or set low_memory=False.\n",
      "  has_raised = await self.run_ast_nodes(code_ast.body, cell_name,\n"
     ]
    }
   ],
   "source": [
    "cancer_data=pd.read_csv(r'C:\\Users\\leann\\OneDrive\\Desktop\\SPRINGBOARD\\capstone 2\\cancer_data_cleaned.csv')"
   ]
  },
  {
   "cell_type": "code",
   "execution_count": 37,
   "id": "c4dd8b37",
   "metadata": {},
   "outputs": [
    {
     "name": "stdout",
     "output_type": "stream",
     "text": [
      "<class 'pandas.core.frame.DataFrame'>\n",
      "RangeIndex: 1903 entries, 0 to 1902\n",
      "Columns: 694 entries, Unnamed: 0 to siah1_mut\n",
      "dtypes: float64(494), int64(10), object(190)\n",
      "memory usage: 10.1+ MB\n"
     ]
    }
   ],
   "source": [
    "cancer_data.info()"
   ]
  },
  {
   "cell_type": "code",
   "execution_count": 31,
   "id": "e83a6ad1",
   "metadata": {},
   "outputs": [
    {
     "name": "stdout",
     "output_type": "stream",
     "text": [
      "\n",
      "Data types:  object\n",
      "\n",
      "Describe:  count     1903\n",
      "unique       9\n",
      "top          0\n",
      "freq      1024\n",
      "Name: rasgef1b_mut, dtype: int64\n",
      "\n",
      "Unique:  [0 '0' 'V418A' 'S343G' 'R140Q' 'X2_splice' 'R353H' 'H396Y' 'E78K']\n"
     ]
    }
   ],
   "source": [
    "# I'm realizing that there is a type issue here... \n",
    "\n",
    "#Checking to see what's happening with one of the columns:\n",
    "col_679 = cancer_data.iloc[:,679]\n",
    "print('\\nData types: ',col_679.dtypes)\n",
    "print('\\nDescribe: ',col_679.describe())\n",
    "print('\\nUnique: ',col_679.unique())\n"
   ]
  },
  {
   "cell_type": "code",
   "execution_count": 34,
   "id": "5d88b581",
   "metadata": {},
   "outputs": [
    {
     "data": {
      "text/plain": [
       "count     1903\n",
       "unique       8\n",
       "top          0\n",
       "freq      1896\n",
       "Name: rasgef1b_mut, dtype: object"
      ]
     },
     "execution_count": 34,
     "metadata": {},
     "output_type": "execute_result"
    }
   ],
   "source": [
    "# change datatype to object for these:679,689,691,693\n",
    "column_indexes = [679,689,691,693]  # Indexes of the columns to change\n",
    "cancer_data.iloc[:, column_indexes] = cancer_data.iloc[:, column_indexes].astype(str)\n",
    "\n",
    "# now see if the column we looked at above is the right type. It is. \n",
    "cancer_data.iloc[:,679].describe()"
   ]
  },
  {
   "cell_type": "code",
   "execution_count": null,
   "id": "d528aaca",
   "metadata": {},
   "outputs": [],
   "source": []
  },
  {
   "cell_type": "code",
   "execution_count": null,
   "id": "601db824",
   "metadata": {},
   "outputs": [],
   "source": []
  },
  {
   "cell_type": "code",
   "execution_count": null,
   "id": "f5623517",
   "metadata": {},
   "outputs": [],
   "source": []
  },
  {
   "cell_type": "code",
   "execution_count": null,
   "id": "a1ec068d",
   "metadata": {},
   "outputs": [],
   "source": []
  },
  {
   "cell_type": "code",
   "execution_count": null,
   "id": "1852aa08",
   "metadata": {},
   "outputs": [],
   "source": []
  },
  {
   "cell_type": "code",
   "execution_count": null,
   "id": "828bc80f",
   "metadata": {},
   "outputs": [],
   "source": []
  },
  {
   "cell_type": "code",
   "execution_count": null,
   "id": "54093df8",
   "metadata": {},
   "outputs": [],
   "source": []
  },
  {
   "cell_type": "code",
   "execution_count": null,
   "id": "003e8e3e",
   "metadata": {},
   "outputs": [],
   "source": []
  },
  {
   "cell_type": "code",
   "execution_count": null,
   "id": "6157ce46",
   "metadata": {},
   "outputs": [],
   "source": []
  },
  {
   "cell_type": "code",
   "execution_count": null,
   "id": "c342b7aa",
   "metadata": {},
   "outputs": [],
   "source": []
  },
  {
   "cell_type": "markdown",
   "id": "0798c328",
   "metadata": {},
   "source": [
    "NOTE the z scores correspond to a gene in the gene mutations. Need to look at this and somehow link then, as the z scores show how much those genes are up or downregulated. \n",
    "\n",
    "should the patients be grouped by similar attributes? would we want to do unsupervised learning to cluster them and then take a classification approach? the premise of the business problem is that patients with the same clinical attributes have different outcomes, so should we take this into account?\n",
    "\n",
    "also see where there are many more z scores than gene mutations - how do they match up? Why aren't there the same number? Is this EDA or wrangling?"
   ]
  },
  {
   "cell_type": "code",
   "execution_count": null,
   "id": "c8a193cc",
   "metadata": {},
   "outputs": [],
   "source": [
    "#looking at survival rates - 0 = died, 1 = lived. This is the most important one\n",
    "\n",
    "survival_counts = clinical_data['overall_survival'].value_counts()\n",
    "print('survival rates:\\n',survival_counts)"
   ]
  },
  {
   "cell_type": "code",
   "execution_count": null,
   "id": "9adcb0b2",
   "metadata": {},
   "outputs": [],
   "source": [
    "#but let's look at all of our data - for some reason it's showing all data types here, but good to be able to see it all. \n",
    "for col in clinical_data:\n",
    "    if clinical_data[col].dtype == 'category':\n",
    "        counts = clinical_data[col].value_counts()\n",
    "        print('\\n',counts)\n",
    "    else:\n",
    "        pass"
   ]
  },
  {
   "cell_type": "code",
   "execution_count": null,
   "id": "3266f2fd",
   "metadata": {},
   "outputs": [],
   "source": [
    "# I WANT TO LOOK AT MY CLINICAL DATA - plotting all of them that make sense to plot. \n",
    "\n",
    "fig, ax = plt.subplots(2,3, figsize=(12,8))\n",
    "clinical_data.overall_survival.value_counts().plot(kind='bar', ax=ax[0,0])\n",
    "ax[0,0].set_title('Overall Survival')\n",
    "ax[0,0].set_xlabel('Survival')\n",
    "\n",
    "clinical_data.type_of_breast_surgery.value_counts().plot(kind='bar', ax=ax[0,1])\n",
    "ax[0,1].set_title('Type of Breast Surgery')\n",
    "\n",
    "clinical_data.cancer_type_detailed.value_counts().plot(kind='bar', ax=ax[0,2])\n",
    "ax[0,2].set_title('cancer_type_detailed ')\n",
    "\n",
    "clinical_data.age_at_diagnosis.plot(kind='hist', ax=ax[1,0])\n",
    "ax[1,0].set_title('Age at Diagnosis ')\n",
    "ax[1,0].set_xlabel('Age')\n",
    "\n",
    "\n",
    "clinical_data.cellularity.value_counts().plot(kind='bar', ax=ax[1,1])\n",
    "ax[1,1].set_title('Cellularity')\n",
    "\n",
    "clinical_data.chemotherapy.value_counts().plot(kind='bar', ax=ax[1,2])\n",
    "ax[1,2].set_title('Chemo')\n",
    "\n",
    "plt.subplots_adjust(wspace=0.5, hspace=2.5);\n"
   ]
  },
  {
   "cell_type": "code",
   "execution_count": null,
   "id": "467de630",
   "metadata": {},
   "outputs": [],
   "source": [
    "\n",
    "fig, ax = plt.subplots(2,3, figsize=(12,8))\n",
    "clinical_data['pam50_+_claudin-low_subtype'].value_counts().plot(kind='bar', ax=ax[0,0])\n",
    "ax[0,0].set_title('pam50_+_claudin-low_subtype')\n",
    "\n",
    "clinical_data.er_status_measured_by_ihc.value_counts().plot(kind='bar', ax=ax[0,1])\n",
    "ax[0,1].set_title('er_status_measured_by_ihc')\n",
    "\n",
    "clinical_data.neoplasm_histologic_grade.value_counts().plot(kind='bar', ax=ax[0,2])\n",
    "ax[0,2].set_title('neoplasm_histologic_grade')\n",
    "\n",
    "clinical_data.her2_status.value_counts().plot(kind='bar', ax=ax[1,0])\n",
    "ax[1,0].set_title('her2_status  ')\n",
    "\n",
    "clinical_data.tumor_other_histologic_subtype  .value_counts().plot(kind='bar', ax=ax[1,1])\n",
    "ax[1,1].set_title('tumor_other_histologic_subtype')\n",
    "\n",
    "clinical_data.hormone_therapy  .value_counts().plot(kind='bar', ax=ax[1,2])\n",
    "ax[1,2].set_title('hormone_therapy  ')\n",
    "\n",
    "plt.subplots_adjust(wspace=0.5, hspace=.5);"
   ]
  },
  {
   "cell_type": "code",
   "execution_count": null,
   "id": "3bbbd524",
   "metadata": {},
   "outputs": [],
   "source": [
    "\n",
    "fig, ax = plt.subplots(2,3, figsize=(12,8))\n",
    "clinical_data['inferred_menopausal_state'].value_counts().plot(kind='bar', ax=ax[0,0])\n",
    "ax[0,0].set_title('inferred_menopausal_state')\n",
    "\n",
    "clinical_data.integrative_cluster.value_counts().plot(kind='bar', ax=ax[0,1])\n",
    "ax[0,1].set_title('integrative_cluster ')\n",
    "\n",
    "clinical_data.primary_tumor_laterality.value_counts().plot(kind='bar', ax=ax[0,2])\n",
    "ax[0,2].set_title('primary_tumor_laterality')\n",
    "\n",
    "clinical_data.lymph_nodes_examined_positive.value_counts().plot(kind='bar', ax=ax[1,0])\n",
    "ax[1,0].set_title('lymph_nodes_examined_positive')\n",
    "ax[1,0].set_xlim(0, 18)\n",
    "\n",
    "clinical_data.mutation_count.plot(kind='hist',bins=100, ax=ax[1,1])\n",
    "ax[1,1].set_title('mutation count')\n",
    "ax[1,1].set_xlim(0, 25)\n",
    "\n",
    "clinical_data.overall_survival_months.plot(kind='hist', ax=ax[1,2])\n",
    "ax[1,2].set_title('overall_survival_months')\n",
    "\n",
    "plt.subplots_adjust(wspace=0.5, hspace=.5);"
   ]
  },
  {
   "cell_type": "code",
   "execution_count": null,
   "id": "ecf79a56",
   "metadata": {},
   "outputs": [],
   "source": [
    "\n",
    "fig, ax = plt.subplots(2,3, figsize=(12,8))\n",
    "clinical_data['pr_status'].value_counts().plot(kind='bar', ax=ax[0,0])\n",
    "ax[0,0].set_title('pr_status  ')\n",
    "\n",
    "clinical_data.radio_therapy.value_counts().plot(kind='bar', ax=ax[0,1])\n",
    "ax[0,1].set_title('radio_therapy')\n",
    "\n",
    "clinical_data['3-gene_classifier_subtype'].value_counts().plot(kind='bar', ax=ax[0,2])\n",
    "ax[0,2].set_title('3-gene_classifier_subtype')\n",
    "\n",
    "clinical_data.tumor_size.value_counts().plot(kind='bar', ax=ax[1,0])\n",
    "ax[1,0].set_title('tumor_size ')\n",
    "ax[1,0].set_xlim(0, 80)\n",
    "# Set the x-axis tick frequency to 2\n",
    "ax[1,0].set_xticks(ax[1,0].get_xticks()[::10])\n",
    "\n",
    "clinical_data.mutation_count.value_counts().plot(kind='bar', ax=ax[1,1])\n",
    "ax[1,1].set_title('tumor_stage')\n",
    "ax[1,1].set_xlim(0, 23)\n",
    "\n",
    "plt.subplots_adjust(wspace=0.5, hspace=.5);"
   ]
  },
  {
   "cell_type": "code",
   "execution_count": null,
   "id": "f3fa6e1f",
   "metadata": {},
   "outputs": [],
   "source": [
    "#TAKEAWAYS \n",
    "\n",
    "#The proportions for death and getting a mastectomy are similar - I'm guessing that the patients to had breast conserving\n",
    "#surgery had less severe disease and therefore were more likely to survive. \n",
    "# cancer type - the vast majority of cases were invasive ductal carcinoma\n",
    "# age follows a rougly normal distribution, peaking around age 70. Most women were post menopausal, which makes sense \n",
    "#given the age distribution.\n",
    "#most patients did got get chemo, but did get radiotherapy and hormone therapy. The proportions with death and getting \n",
    "#radiotherapy are roughly the same, and again I wonder if this is because more severe disease was present. \n",
    "#her2 status for most patients was negative, er status mostly positive\n",
    "#most neoplasms were grade 3\n",
    "#mutation counts peaked at 7\n",
    "#positive lymph nodes looks to fall roughly exponentially\n",
    "# left and right sides are about equal - I think we can take this out because I dont think it is relavent to survival\n",
    "#maximum survival time - I'm not sure how to read this. I know data was collected for 351 months. Does this track how many\n",
    "#people died at a given amount of time?\n",
    "#tumor stage and tumor size have similar distributions (both left skewed), and I'm guessing they are usually similar\n",
    "#pr status roughly equal, but a little more positive. \n",
    "\n",
    "#IDEA - it looks like we are missing a lot of tumor stage data, but hardly any tumor size. As it looks like they follow \n",
    "#a similar distribution, maybe we don't need the stage data. How can I figure out if they are similar enough?"
   ]
  },
  {
   "cell_type": "code",
   "execution_count": null,
   "id": "8ec1bd7c",
   "metadata": {},
   "outputs": [],
   "source": []
  },
  {
   "cell_type": "code",
   "execution_count": null,
   "id": "ede94815",
   "metadata": {},
   "outputs": [],
   "source": []
  },
  {
   "cell_type": "code",
   "execution_count": null,
   "id": "aa23a73c",
   "metadata": {},
   "outputs": [],
   "source": []
  },
  {
   "cell_type": "code",
   "execution_count": null,
   "id": "b5bfbe28",
   "metadata": {},
   "outputs": [],
   "source": []
  },
  {
   "cell_type": "code",
   "execution_count": null,
   "id": "d416bdfb",
   "metadata": {},
   "outputs": [],
   "source": []
  }
 ],
 "metadata": {
  "kernelspec": {
   "display_name": "Python 3 (ipykernel)",
   "language": "python",
   "name": "python3"
  },
  "language_info": {
   "codemirror_mode": {
    "name": "ipython",
    "version": 3
   },
   "file_extension": ".py",
   "mimetype": "text/x-python",
   "name": "python",
   "nbconvert_exporter": "python",
   "pygments_lexer": "ipython3",
   "version": "3.9.13"
  }
 },
 "nbformat": 4,
 "nbformat_minor": 5
}
